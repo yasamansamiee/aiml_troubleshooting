{
 "cells": [
  {
   "cell_type": "code",
   "execution_count": 1,
   "metadata": {},
   "outputs": [],
   "source": [
    "from kuberspatiotemporal.kuber import KuberModel\n",
    "from kuberspatiotemporal.kuberspatiotemporal import KuberspatiotemporalModel, Feature"
   ]
  },
  {
   "cell_type": "code",
   "execution_count": 2,
   "metadata": {},
   "outputs": [],
   "source": [
    "from scipy.stats import multinomial\n",
    "from numpy.random import dirichlet\n",
    "import numpy as np\n",
    "import pandas as pd\n",
    "import logging\n",
    "logging.basicConfig(format='[%(levelname)s:%(name)s:%(funcName)s:%(lineno)d] %(message)s',level=logging.DEBUG)\n"
   ]
  },
  {
   "cell_type": "code",
   "execution_count": 3,
   "metadata": {},
   "outputs": [
    {
     "name": "stdout",
     "output_type": "stream",
     "text": [
      "pi:  [0.69100421 0.30899579]\n",
      "Component1:  [0.10600962 0.42636309 0.46762729] [0.3392473  0.43984323 0.22090947]\n",
      "Component2:  [0.05631974 0.6770874  0.26659286] [0.4070272  0.21619229 0.37678051]\n"
     ]
    }
   ],
   "source": [
    "def categorical_mixture(n_draws: int):\n",
    "    pi = dirichlet([1,1],1)[0]\n",
    "    pm11,pm12,pm21,pm22 = dirichlet([1,1,1],4)\n",
    "    print(\"pi: \", pi)\n",
    "    print('Component1: ',pm11,pm21)\n",
    "    print('Component2: ',pm12,pm22)\n",
    "    idx = multinomial(1,pi).rvs(size=n_draws)\n",
    "    feat1 = np.array( [ [np.where(r==1)[0][0] for r in mn.rvs(size=n_draws)] for mn in [multinomial(1,pm11),multinomial(1,pm12)]] ).T\n",
    "    feat2 = np.array( [ [np.where(r==1)[0][0] for r in mn.rvs(size=n_draws)] for mn in [multinomial(1,pm21),multinomial(1,pm22)]] ).T\n",
    "    # print(idx,feat)\n",
    "    return np.array([feat1[idx!=0],feat2[idx!=0]]).T\n",
    "\n",
    "# df = pd.DataFrame(categorical_mixture(10), columns=['feat1','feat2'])\n",
    "# display(df)\n",
    "X = categorical_mixture(1000)\n",
    "# display(X)\n"
   ]
  },
  {
   "cell_type": "code",
   "execution_count": 16,
   "metadata": {
    "scrolled": true
   },
   "outputs": [
    {
     "name": "stderr",
     "output_type": "stream",
     "text": [
      "[INFO:kuberspatiotemporal.base:fit:256] Learning 1000 samples (Batch)\n",
      "[INFO:kuberspatiotemporal.base:fit:260] Step 0/1000\n",
      "[INFO:kuberspatiotemporal.base:fit:260] Step 10/1000\n",
      "[INFO:kuberspatiotemporal.base:fit:260] Step 20/1000\n",
      "[INFO:kuberspatiotemporal.base:fit:260] Step 30/1000\n",
      "[INFO:kuberspatiotemporal.base:fit:260] Step 40/1000\n",
      "[INFO:kuberspatiotemporal.base:fit:260] Step 50/1000\n",
      "[INFO:kuberspatiotemporal.base:fit:260] Step 60/1000\n",
      "[INFO:kuberspatiotemporal.base:fit:260] Step 70/1000\n",
      "[INFO:kuberspatiotemporal.base:fit:260] Step 80/1000\n",
      "[INFO:kuberspatiotemporal.base:fit:260] Step 90/1000\n",
      "[INFO:kuberspatiotemporal.base:fit:260] Step 100/1000\n",
      "[INFO:kuberspatiotemporal.base:fit:260] Step 110/1000\n",
      "[INFO:kuberspatiotemporal.base:fit:260] Step 120/1000\n",
      "[INFO:kuberspatiotemporal.base:fit:260] Step 130/1000\n",
      "[INFO:kuberspatiotemporal.base:fit:260] Step 140/1000\n",
      "[INFO:kuberspatiotemporal.base:fit:260] Step 150/1000\n",
      "[INFO:kuberspatiotemporal.base:fit:260] Step 160/1000\n",
      "[INFO:kuberspatiotemporal.base:fit:260] Step 170/1000\n",
      "[INFO:kuberspatiotemporal.base:fit:260] Step 180/1000\n",
      "[INFO:kuberspatiotemporal.base:fit:260] Step 190/1000\n",
      "[INFO:kuberspatiotemporal.base:fit:260] Step 200/1000\n",
      "[INFO:kuberspatiotemporal.base:fit:260] Step 210/1000\n",
      "[INFO:kuberspatiotemporal.base:fit:260] Step 220/1000\n",
      "[INFO:kuberspatiotemporal.base:fit:260] Step 230/1000\n",
      "[INFO:kuberspatiotemporal.base:fit:260] Step 240/1000\n",
      "[INFO:kuberspatiotemporal.base:fit:260] Step 250/1000\n",
      "[INFO:kuberspatiotemporal.base:fit:260] Step 260/1000\n",
      "[INFO:kuberspatiotemporal.base:fit:260] Step 270/1000\n",
      "[INFO:kuberspatiotemporal.base:fit:260] Step 280/1000\n",
      "[INFO:kuberspatiotemporal.base:fit:260] Step 290/1000\n",
      "[INFO:kuberspatiotemporal.base:fit:260] Step 300/1000\n",
      "[INFO:kuberspatiotemporal.base:fit:260] Step 310/1000\n",
      "[INFO:kuberspatiotemporal.base:fit:260] Step 320/1000\n",
      "[INFO:kuberspatiotemporal.base:fit:260] Step 330/1000\n",
      "[INFO:kuberspatiotemporal.base:fit:260] Step 340/1000\n",
      "[INFO:kuberspatiotemporal.base:fit:260] Step 350/1000\n",
      "[INFO:kuberspatiotemporal.base:fit:260] Step 360/1000\n",
      "[INFO:kuberspatiotemporal.base:fit:260] Step 370/1000\n",
      "[INFO:kuberspatiotemporal.base:fit:260] Step 380/1000\n",
      "[INFO:kuberspatiotemporal.base:fit:260] Step 390/1000\n",
      "[INFO:kuberspatiotemporal.base:fit:260] Step 400/1000\n",
      "[INFO:kuberspatiotemporal.base:fit:260] Step 410/1000\n",
      "[INFO:kuberspatiotemporal.base:fit:260] Step 420/1000\n",
      "[INFO:kuberspatiotemporal.base:fit:260] Step 430/1000\n",
      "[INFO:kuberspatiotemporal.base:fit:260] Step 440/1000\n",
      "[INFO:kuberspatiotemporal.base:fit:260] Step 450/1000\n",
      "[INFO:kuberspatiotemporal.base:fit:260] Step 460/1000\n",
      "[INFO:kuberspatiotemporal.base:fit:260] Step 470/1000\n",
      "[INFO:kuberspatiotemporal.base:fit:260] Step 480/1000\n",
      "[INFO:kuberspatiotemporal.base:fit:260] Step 490/1000\n",
      "[INFO:kuberspatiotemporal.base:fit:260] Step 500/1000\n",
      "[INFO:kuberspatiotemporal.base:fit:260] Step 510/1000\n",
      "[INFO:kuberspatiotemporal.base:fit:260] Step 520/1000\n",
      "[INFO:kuberspatiotemporal.base:fit:260] Step 530/1000\n",
      "[INFO:kuberspatiotemporal.base:fit:260] Step 540/1000\n",
      "[INFO:kuberspatiotemporal.base:fit:260] Step 550/1000\n",
      "[INFO:kuberspatiotemporal.base:fit:260] Step 560/1000\n",
      "[INFO:kuberspatiotemporal.base:fit:260] Step 570/1000\n",
      "[INFO:kuberspatiotemporal.base:fit:260] Step 580/1000\n",
      "[INFO:kuberspatiotemporal.base:fit:260] Step 590/1000\n",
      "[INFO:kuberspatiotemporal.base:fit:260] Step 600/1000\n",
      "[INFO:kuberspatiotemporal.base:fit:260] Step 610/1000\n",
      "[INFO:kuberspatiotemporal.base:fit:260] Step 620/1000\n",
      "[INFO:kuberspatiotemporal.base:fit:260] Step 630/1000\n",
      "[INFO:kuberspatiotemporal.base:fit:260] Step 640/1000\n",
      "[INFO:kuberspatiotemporal.base:fit:260] Step 650/1000\n",
      "[INFO:kuberspatiotemporal.base:fit:260] Step 660/1000\n",
      "[INFO:kuberspatiotemporal.base:fit:260] Step 670/1000\n",
      "[INFO:kuberspatiotemporal.base:fit:260] Step 680/1000\n",
      "[INFO:kuberspatiotemporal.base:fit:260] Step 690/1000\n",
      "[INFO:kuberspatiotemporal.base:fit:260] Step 700/1000\n",
      "[INFO:kuberspatiotemporal.base:fit:260] Step 710/1000\n",
      "[INFO:kuberspatiotemporal.base:fit:260] Step 720/1000\n",
      "[INFO:kuberspatiotemporal.base:fit:260] Step 730/1000\n",
      "[INFO:kuberspatiotemporal.base:fit:260] Step 740/1000\n",
      "[INFO:kuberspatiotemporal.base:fit:260] Step 750/1000\n",
      "[INFO:kuberspatiotemporal.base:fit:260] Step 760/1000\n",
      "[INFO:kuberspatiotemporal.base:fit:260] Step 770/1000\n",
      "[INFO:kuberspatiotemporal.base:fit:260] Step 780/1000\n",
      "[INFO:kuberspatiotemporal.base:fit:260] Step 790/1000\n",
      "[INFO:kuberspatiotemporal.base:fit:260] Step 800/1000\n",
      "[INFO:kuberspatiotemporal.base:fit:260] Step 810/1000\n",
      "[INFO:kuberspatiotemporal.base:fit:260] Step 820/1000\n",
      "[INFO:kuberspatiotemporal.base:fit:260] Step 830/1000\n",
      "[INFO:kuberspatiotemporal.base:fit:260] Step 840/1000\n",
      "[INFO:kuberspatiotemporal.base:fit:260] Step 850/1000\n",
      "[INFO:kuberspatiotemporal.base:fit:260] Step 860/1000\n",
      "[INFO:kuberspatiotemporal.base:fit:260] Step 870/1000\n",
      "[INFO:kuberspatiotemporal.base:fit:260] Step 880/1000\n",
      "[INFO:kuberspatiotemporal.base:fit:260] Step 890/1000\n",
      "[INFO:kuberspatiotemporal.base:fit:260] Step 900/1000\n",
      "[INFO:kuberspatiotemporal.base:fit:260] Step 910/1000\n",
      "[INFO:kuberspatiotemporal.base:fit:260] Step 920/1000\n",
      "[INFO:kuberspatiotemporal.base:fit:260] Step 930/1000\n",
      "[INFO:kuberspatiotemporal.base:fit:260] Step 940/1000\n",
      "[INFO:kuberspatiotemporal.base:fit:260] Step 950/1000\n",
      "[INFO:kuberspatiotemporal.base:fit:260] Step 960/1000\n",
      "[INFO:kuberspatiotemporal.base:fit:260] Step 970/1000\n",
      "[INFO:kuberspatiotemporal.base:fit:260] Step 980/1000\n",
      "[INFO:kuberspatiotemporal.base:fit:260] Step 990/1000\n"
     ]
    }
   ],
   "source": [
    "from sklearn.compose import make_column_transformer\n",
    "from sklearn.preprocessing import FunctionTransformer\n",
    "from sklearn.pipeline import make_pipeline\n",
    "\n",
    "logging.getLogger('kuberspatiotemporal.base').setLevel(logging.INFO)\n",
    "logging.getLogger('kuberspatiotemporal.kuber').setLevel(logging.INFO)\n",
    "logging.getLogger('kuberspatiotemporal.kuberspatiotemporal').setLevel(logging.INFO)\n",
    "\n",
    "kst = KuberspatiotemporalModel(\n",
    "    n_components=100, n_dim=2, scaling_parameter=1.1, nonparametric=True,\n",
    "    features=[\n",
    "        Feature(KuberModel(n_symbols=3, nonparametric=True, n_components=100),[0]),\n",
    "        Feature(KuberModel(n_symbols=3, nonparametric=True, n_components=100),[1])\n",
    "])\n",
    "\n",
    "# print(kst._weights)\n",
    "\n",
    "# for i in range(50):\n",
    "#     print(i, kst.features[0].model._KuberModel__pmf)\n",
    "kst.fit(X, n_iterations=1000)\n",
    "#     kst.fit(X[:,0].reshape(-1,1), n_iterations=1)\n",
    "    \n"
   ]
  },
  {
   "cell_type": "code",
   "execution_count": 17,
   "metadata": {},
   "outputs": [
    {
     "data": {
      "text/plain": [
       "array([0.   , 0.   , 0.   , 0.   , 0.   , 0.   , 0.   , 0.   , 0.   ,\n",
       "       0.   , 0.   , 0.   , 0.   , 0.   , 0.   , 0.   , 0.   , 0.   ,\n",
       "       0.   , 0.   , 0.   , 0.   , 0.   , 0.   , 0.   , 0.   , 0.   ,\n",
       "       0.   , 0.   , 0.   , 0.   , 0.   , 0.   , 0.   , 0.   , 0.   ,\n",
       "       0.   , 0.   , 0.   , 0.   , 0.   , 0.   , 0.   , 0.   , 0.   ,\n",
       "       0.   , 0.   , 0.   , 0.   , 0.   , 0.   , 0.   , 0.   , 0.   ,\n",
       "       0.   , 0.   , 0.   , 0.   , 0.   , 0.   , 0.   , 0.   , 0.   ,\n",
       "       0.   , 0.   , 0.   , 0.   , 0.   , 0.   , 0.   , 0.   , 0.   ,\n",
       "       0.   , 0.   , 0.   , 0.   , 0.   , 0.   , 0.   , 0.   , 0.   ,\n",
       "       0.   , 0.   , 0.   , 0.   , 0.   , 0.   , 0.   , 0.   , 0.   ,\n",
       "       0.   , 0.002, 0.056, 0.075, 0.076, 0.094, 0.12 , 0.147, 0.173,\n",
       "       0.255])"
      ]
     },
     "metadata": {},
     "output_type": "display_data"
    },
    {
     "data": {
      "text/plain": [
       "array([95, 97, 98, 93, 96, 94, 92, 91, 90, 89, 88, 86, 87, 83, 85, 84, 82,\n",
       "       81, 79, 78, 80, 75, 74, 77, 76, 72, 73, 71, 70, 68, 67, 69, 66, 65,\n",
       "       63, 64, 62, 61, 58, 60, 57, 59, 55, 52, 56, 51, 54, 53, 50, 49, 47,\n",
       "       48, 44, 46, 43, 45, 41, 40, 42, 39, 38, 35, 37, 34, 36, 33, 31, 32,\n",
       "       30, 29, 27, 28, 25, 22, 26, 24, 23, 21, 19, 20, 18, 15, 17, 16, 12,\n",
       "       13, 11,  8, 14, 10,  9,  7,  6,  4,  1, 99,  5,  3,  0,  2])"
      ]
     },
     "metadata": {},
     "output_type": "display_data"
    },
    {
     "data": {
      "text/plain": [
       "2"
      ]
     },
     "metadata": {},
     "output_type": "display_data"
    },
    {
     "data": {
      "text/plain": [
       "array([[0.149, 0.766, 0.085],\n",
       "       [0.089, 0.298, 0.614]])"
      ]
     },
     "metadata": {},
     "output_type": "display_data"
    },
    {
     "data": {
      "text/plain": [
       "array([[0.137, 0.391, 0.472],\n",
       "       [0.454, 0.435, 0.111]])"
      ]
     },
     "metadata": {},
     "output_type": "display_data"
    }
   ],
   "source": [
    "np.set_printoptions(suppress=True)\n",
    "np.set_printoptions(precision=3)\n",
    "display(np.sort(kst._weights))\n",
    "idx = np.argsort(kst.features[0].model._weights)\n",
    "display(idx,np.argmax(kst.features[0].model._weights))\n",
    "\n",
    "display(kst.features[0].model._KuberModel__pmf[idx[-2:]])\n",
    "display(kst.features[1].model._KuberModel__pmf[idx[-2:]])\n"
   ]
  },
  {
   "cell_type": "markdown",
   "metadata": {},
   "source": [
    "Nicht katastrophal .. am Besten mal metriken berechnen!"
   ]
  },
  {
   "cell_type": "code",
   "execution_count": 21,
   "metadata": {
    "scrolled": false
   },
   "outputs": [
    {
     "data": {
      "text/plain": [
       "array([[0.149, 0.766, 0.085],\n",
       "       [0.029, 0.624, 0.347],\n",
       "       [0.089, 0.298, 0.614],\n",
       "       [0.087, 0.521, 0.392],\n",
       "       [0.04 , 0.755, 0.205],\n",
       "       [0.22 , 0.017, 0.763],\n",
       "       [0.011, 0.416, 0.574],\n",
       "       [0.22 , 0.002, 0.778],\n",
       "       [0.417, 0.235, 0.348],\n",
       "       [0.021, 0.382, 0.597],\n",
       "       [0.002, 0.639, 0.359],\n",
       "       [0.049, 0.154, 0.797],\n",
       "       [0.002, 0.025, 0.973],\n",
       "       [0.007, 0.134, 0.858],\n",
       "       [0.006, 0.255, 0.738],\n",
       "       [0.53 , 0.393, 0.077],\n",
       "       [0.003, 0.243, 0.753],\n",
       "       [0.046, 0.388, 0.566],\n",
       "       [0.892, 0.048, 0.06 ],\n",
       "       [0.064, 0.311, 0.625],\n",
       "       [0.01 , 0.606, 0.384],\n",
       "       [0.042, 0.532, 0.426],\n",
       "       [0.013, 0.625, 0.362],\n",
       "       [0.042, 0.005, 0.953],\n",
       "       [0.801, 0.198, 0.001],\n",
       "       [0.002, 0.89 , 0.108],\n",
       "       [0.007, 0.404, 0.589],\n",
       "       [0.357, 0.105, 0.539],\n",
       "       [0.008, 0.329, 0.663],\n",
       "       [0.07 , 0.094, 0.836],\n",
       "       [0.002, 0.633, 0.364],\n",
       "       [0.014, 0.047, 0.938],\n",
       "       [0.002, 0.504, 0.494],\n",
       "       [0.057, 0.291, 0.652],\n",
       "       [0.15 , 0.308, 0.542],\n",
       "       [0.002, 0.059, 0.94 ],\n",
       "       [0.003, 0.172, 0.825],\n",
       "       [0.051, 0.438, 0.512],\n",
       "       [0.092, 0.612, 0.296],\n",
       "       [0.002, 0.81 , 0.188],\n",
       "       [0.092, 0.861, 0.047],\n",
       "       [0.236, 0.021, 0.743],\n",
       "       [0.824, 0.122, 0.054],\n",
       "       [0.618, 0.006, 0.375],\n",
       "       [0.   , 0.128, 0.872],\n",
       "       [0.004, 0.036, 0.96 ],\n",
       "       [0.011, 0.018, 0.971],\n",
       "       [0.052, 0.037, 0.911],\n",
       "       [0.003, 0.02 , 0.977],\n",
       "       [0.035, 0.137, 0.828],\n",
       "       [0.563, 0.048, 0.389],\n",
       "       [0.242, 0.335, 0.423],\n",
       "       [0.428, 0.037, 0.535],\n",
       "       [0.402, 0.036, 0.562],\n",
       "       [0.019, 0.542, 0.439],\n",
       "       [0.068, 0.649, 0.283],\n",
       "       [0.015, 0.117, 0.868],\n",
       "       [0.009, 0.064, 0.928],\n",
       "       [0.001, 0.499, 0.499],\n",
       "       [0.447, 0.098, 0.455],\n",
       "       [0.025, 0.478, 0.497],\n",
       "       [0.03 , 0.728, 0.242],\n",
       "       [0.421, 0.276, 0.302],\n",
       "       [0.012, 0.847, 0.141],\n",
       "       [0.015, 0.879, 0.106],\n",
       "       [0.002, 0.263, 0.735],\n",
       "       [0.012, 0.141, 0.846],\n",
       "       [0.008, 0.777, 0.216],\n",
       "       [0.018, 0.078, 0.904],\n",
       "       [0.843, 0.035, 0.121],\n",
       "       [0.537, 0.053, 0.41 ],\n",
       "       [0.061, 0.184, 0.754],\n",
       "       [0.033, 0.207, 0.76 ],\n",
       "       [0.367, 0.011, 0.622],\n",
       "       [0.574, 0.001, 0.426],\n",
       "       [0.044, 0.609, 0.346],\n",
       "       [0.115, 0.649, 0.235],\n",
       "       [0.197, 0.204, 0.599],\n",
       "       [0.464, 0.007, 0.53 ],\n",
       "       [0.022, 0.173, 0.805],\n",
       "       [0.268, 0.14 , 0.592],\n",
       "       [0.002, 0.587, 0.411],\n",
       "       [0.007, 0.182, 0.811],\n",
       "       [0.   , 0.441, 0.559],\n",
       "       [0.004, 0.597, 0.399],\n",
       "       [0.325, 0.055, 0.62 ],\n",
       "       [0.03 , 0.556, 0.414],\n",
       "       [0.01 , 0.384, 0.606],\n",
       "       [0.018, 0.405, 0.577],\n",
       "       [0.001, 0.023, 0.976],\n",
       "       [0.086, 0.288, 0.627],\n",
       "       [0.493, 0.007, 0.5  ],\n",
       "       [0.115, 0.089, 0.796],\n",
       "       [0.004, 0.04 , 0.956],\n",
       "       [0.007, 0.149, 0.844],\n",
       "       [0.016, 0.06 , 0.924],\n",
       "       [0.008, 0.556, 0.436],\n",
       "       [0.001, 0.796, 0.203],\n",
       "       [0.465, 0.086, 0.449],\n",
       "       [0.106, 0.554, 0.34 ]])"
      ]
     },
     "metadata": {},
     "output_type": "display_data"
    },
    {
     "data": {
      "text/plain": [
       "array([0.173, 0.076, 0.255, 0.147, 0.075, 0.12 , 0.056, 0.002, 0.   ,\n",
       "       0.   , 0.   , 0.   , 0.   , 0.   , 0.   , 0.   , 0.   , 0.   ,\n",
       "       0.   , 0.   , 0.   , 0.   , 0.   , 0.   , 0.   , 0.   , 0.   ,\n",
       "       0.   , 0.   , 0.   , 0.   , 0.   , 0.   , 0.   , 0.   , 0.   ,\n",
       "       0.   , 0.   , 0.   , 0.   , 0.   , 0.   , 0.   , 0.   , 0.   ,\n",
       "       0.   , 0.   , 0.   , 0.   , 0.   , 0.   , 0.   , 0.   , 0.   ,\n",
       "       0.   , 0.   , 0.   , 0.   , 0.   , 0.   , 0.   , 0.   , 0.   ,\n",
       "       0.   , 0.   , 0.   , 0.   , 0.   , 0.   , 0.   , 0.   , 0.   ,\n",
       "       0.   , 0.   , 0.   , 0.   , 0.   , 0.   , 0.   , 0.   , 0.   ,\n",
       "       0.   , 0.   , 0.   , 0.   , 0.   , 0.   , 0.   , 0.   , 0.   ,\n",
       "       0.   , 0.   , 0.   , 0.   , 0.   , 0.   , 0.   , 0.   , 0.   ,\n",
       "       0.094])"
      ]
     },
     "execution_count": 21,
     "metadata": {},
     "output_type": "execute_result"
    }
   ],
   "source": [
    "display(kst.features[0].model._KuberModel__pmf)\n",
    "kst._weights\n",
    "\n"
   ]
  },
  {
   "cell_type": "markdown",
   "metadata": {},
   "source": [
    "$$\\begin{array}{lcl}\n",
    "\\text{Responsibilities} &=& \\left(\\frac{\\pi_i P(x_t=i|y_t,\\Phi)}{\\sum_{j\\in I} \\pi_j P(x_t=j|y_t,\\Phi)}\\right)_{i \\in I, t\\in T}\\\\\n",
    "\\text{Log_prob} &=& \\left( \\log \\left(\\sum_{i \\in I} \\pi_i P(x_t=i|y_t,\\Phi) \\right)\\right)_{t \\in T}\\\\\n",
    "\\text{mean_log_prob aka. score} &=& \\frac{1}{|T|} \\sum_{t \\in T} \\left( \\log \\left(\\sum_{i \\in I} \\pi_i P(x_t=i|y_t,\\Phi)\\right) \\right)\n",
    "\\end{array}$$"
   ]
  },
  {
   "cell_type": "code",
   "execution_count": null,
   "metadata": {},
   "outputs": [],
   "source": []
  }
 ],
 "metadata": {
  "kernelspec": {
   "display_name": "Python3 (kuberspatiotemporal)",
   "language": "python",
   "name": "python_kuberspatiotemporal"
  },
  "language_info": {
   "codemirror_mode": {
    "name": "ipython",
    "version": 3
   },
   "file_extension": ".py",
   "mimetype": "text/x-python",
   "name": "python",
   "nbconvert_exporter": "python",
   "pygments_lexer": "ipython3",
   "version": "3.7.4"
  }
 },
 "nbformat": 4,
 "nbformat_minor": 4
}
