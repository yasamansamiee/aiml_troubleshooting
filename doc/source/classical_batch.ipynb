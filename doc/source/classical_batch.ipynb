{
 "cells": [
  {
   "cell_type": "markdown",
   "metadata": {},
   "source": [
    "# Batch EM (v1)\n",
    "\n",
    "First implementation following the notation in the paper."
   ]
  },
  {
   "cell_type": "code",
   "execution_count": 142,
   "metadata": {},
   "outputs": [
    {
     "name": "stderr",
     "output_type": "stream",
     "text": [
      "[switch_backend:225] Loaded backend module://ipykernel.pylab.backend_inline version unknown.\n"
     ]
    }
   ],
   "source": [
    "from typing import List\n",
    "import logging\n",
    "from scipy.stats import multivariate_normal as mvn\n",
    "from sklearn.datasets import make_spd_matrix\n",
    "import numpy as np\n",
    "from numpy.random import random_sample\n",
    "import attr\n",
    "from matplotlib import pyplot as plt\n",
    "import matplotlib as mpl\n",
    "\n",
    "\n",
    "%matplotlib inline\n",
    "\n",
    "# Always useful: https://stackoverflow.com/a/44401529\n",
    "logging.basicConfig(format='[%(funcName)s:%(lineno)d] %(message)s', level=logging.DEBUG)\n",
    "logger = logging.getLogger(__name__)\n",
    "\n",
    "logger.setLevel(logging.INFO)\n",
    "\n",
    "##################\n",
    "# tools.py\n",
    "##################\n",
    "\n",
    "def check_spd(x, rtol=1e-05, atol=1e-08):\n",
    "    \"\"\" Based on https://stackoverflow.com/a/42913743 and https://stackoverflow.com/a/16270026.\"\"\"\n",
    "    all_ev_positive = np.all(np.linalg.eigvals(x) > 0)\n",
    "    is_symmetric = np.allclose(x, x.T, rtol=rtol, atol=atol)\n",
    "    logger.debug(\"Positive definit %s\", all_ev_positive) \n",
    "    if not all_ev_positive:\n",
    "        logger.debug(\"EV %s\", np.linalg.eigvals(x))\n",
    "    logger.debug(\"symmetric: %s\", is_symmetric)\n",
    "    return all_ev_positive and is_symmetric\n",
    "\n",
    "def make_ellipses(gmm: 'GaussianMixtureModel', ax):\n",
    "    \"\"\"Shamelessly stolen from \n",
    "    https://scikit-learn.org/stable/auto_examples/mixture/plot_gmm_covariances.html\"\"\"\n",
    "    \n",
    "    logger.info('Axis type %s', type(ax))\n",
    "    \n",
    "    colors = ['navy', 'turquoise', 'darkorange','firebrick',\n",
    "              'yellowgreen', 'mediumorchid','slateblue',\n",
    "              'darkcyan','gold','mediumpurple','navajowhite']\n",
    "\n",
    "    for n, color in enumerate(colors):\n",
    "        \n",
    "        if n==gmm.n_components:\n",
    "            break\n",
    "        \n",
    "        covariances = gmm.covs[n]\n",
    "        \n",
    "\n",
    "        v, w = np.linalg.eigh(covariances)\n",
    "        u = w[0] / np.linalg.norm(w[0])\n",
    "        angle = np.arctan2(u[1], u[0])\n",
    "        angle = 180 * angle / np.pi  # convert to degrees\n",
    "        v = 2. * np.sqrt(2.) * np.sqrt(v)\n",
    "        ell = mpl.patches.Ellipse(gmm.means[n], v[0], v[1],\n",
    "                                  180 + angle, color=color)\n",
    "        ell.set_clip_box(ax.bbox)\n",
    "        ell.set_alpha(0.5)\n",
    "        ax.add_artist(ell)\n",
    "        ax.set_aspect('equal', 'datalim')\n",
    "\n",
    "##################\n",
    "# dpm.py\n",
    "##################\n",
    "\n",
    "@attr.s\n",
    "class GaussianMixtureModel:\n",
    "    n_components: int = attr.ib()\n",
    "    n_dim: int = attr.ib(default=3)\n",
    "        \n",
    "    # TODO consider the model to be numpy arrays instead of lists\n",
    "    \n",
    "    weights: List[float] = attr.ib(factory=list, repr=lambda x: f\"`list of length {len(x)}`\")\n",
    "    means: List[np.ndarray] = attr.ib(factory=list, repr=lambda x: f\"`list of length {len(x)}, elements of shape {np.asarray(x).shape[1:]}`\")\n",
    "    covs: List[np.ndarray] = attr.ib(factory=list, repr=lambda x: f\"`list of length {len(x)}, elements of shape {np.asarray(x).shape[1:]}`\")\n",
    "\n",
    "    def __attrs_post_init__(self):\n",
    "        if not self.weights:\n",
    "            rand = np.random.random((self.n_components,))\n",
    "            self.weights = (rand / np.sum(rand)).tolist()\n",
    "        if not self.means:\n",
    "            self.means = [ np.random.random_sample(( self.n_dim,)) \n",
    "                          for i in range(self.n_components)]\n",
    "        if not self.covs:\n",
    "            self.covs = [ make_spd_matrix(self.n_dim) \n",
    "                         for i in range(self.n_components)]\n",
    "    \n",
    "    # TODO Avoid working with loops. But mvn needs to be rewritten\n",
    "    def expect(self, data: np.ndarray) -> List[List[float]]:\n",
    "        \"\"\"Returns the responsibilities.\"\"\"\n",
    "\n",
    "        \n",
    "        responsibilities = []\n",
    "        for t in range(data.shape[0]):\n",
    "            weights = np.asarray(self.weights)\n",
    "            denominator = np.sum( [self.weights[i] * mvn.pdf(data[t], \n",
    "                                                          self.means[i], \n",
    "                                                          self.covs[i]) \n",
    "                                   for i in range(self.n_components)] )\n",
    "            \n",
    "            \n",
    "            nominators = [self.weights[i] / denominator * mvn.pdf(data[t], \n",
    "                                                               self.means[i], \n",
    "                                                               self.covs[i]) \n",
    "                          for i in range(self.n_components)]\n",
    "\n",
    "            responsibilities.append(nominators)\n",
    "        \n",
    "        return responsibilities \n",
    "    \n",
    "    def maximize(self, data: np.ndarray):\n",
    "        \n",
    "        n_samples = data.shape[0]\n",
    "        \n",
    "        responsibilities = np.asarray(self.expect(data)) \n",
    "        \n",
    "        assert responsibilities.shape == (n_samples, self.n_components)\n",
    "        \n",
    "        # responsibilities: n_samples x n_components\n",
    "        \n",
    "        weights = np.sum(responsibilities / n_samples, axis=0)\n",
    "        self.weights = weights.tolist()\n",
    "        \n",
    "        assert len(self.weights) == self.n_components\n",
    "        \n",
    "        # responsibilities: n_samples x n_components\n",
    "        # means : n_components x n_dim \n",
    "        # data: n_samples x n_dim\n",
    "        # weights: n_components\n",
    "        \n",
    "        logger.debug(\"Resp. %s\", responsibilities.shape)\n",
    "        logger.debug(\"Data. %s\", data.shape)\n",
    "        \n",
    "        means = (\n",
    "            np.sum( data[:,np.newaxis,:] * responsibilities[:,:,np.newaxis], axis=0) \n",
    "            / (weights[:,np.newaxis] * n_samples)\n",
    "        )\n",
    "        \n",
    "        assert means.shape == (self.n_components, self.n_dim)\n",
    "        \n",
    "        self.means = [i for i in means]\n",
    "        \n",
    " \n",
    "        #####################\n",
    "        # Move to unit tests:\n",
    "        assert np.einsum('Ti,Tj->Tij', data, data).shape == (\n",
    "            data.shape[0], data.shape[1], data.shape[1]\n",
    "        ) # python tuple comparison\n",
    "        \n",
    "        for i,d in enumerate(data):\n",
    "            np.allclose(np.einsum('Ti,Tj->Tij', data, data)[i,:,:], \n",
    "                        data[i].reshape(1,-1)@data[i].reshape(-1,1))\n",
    "        #####################\n",
    "\n",
    "        # Explanation\n",
    "        # einsum('Xi,Xj->Xij',a,a): outerproduct of each row with itself. For MxN array, leads to MxNxN.\n",
    "        # np.newaxis increased the dimensionality of the tensor. numpy broadcasting inserts copies along \n",
    "        # such the new axes to match the other operands dimensionality. \n",
    "        # Such block operations are very efficient (and easy to read once one is used to it!)\n",
    "\n",
    "        covs = (\n",
    "            np.sum(\n",
    "                np.einsum('Ti,Tj->Tij', data, data)[:,np.newaxis,:,:] * \n",
    "                responsibilities[:,:,np.newaxis,np.newaxis] /\n",
    "                (weights[:,np.newaxis,np.newaxis] * n_samples), # n_samples x n_components x n_dim x n_dim\n",
    "                axis=0\n",
    "            ) -\n",
    "            np.einsum('ki,kj->kij', means, means) # n_components x n_dim x n_dim\n",
    "        )\n",
    "        \n",
    "        assert covs.shape == (self.n_components, self.n_dim, self.n_dim)\n",
    "        \n",
    "        self.covs = [i for i in covs]\n",
    "        for i in self.covs:\n",
    "            logger.debug(\"Cov: \\n%s\\nSPD: %s\\n\", i, check_spd(i) )\n",
    "        \n",
    "        \n",
    "    def fit(self, data: np.ndarray, steps=100):\n",
    "        if not data.shape[1] == self.n_dim:\n",
    "            raise ValueError(f\"Wrong input dimensions {data.shape[1]} != {self.n_dim} \")\n",
    "        for i in range(steps):\n",
    "            logger.debug(\"Iteration %d\", i+1)\n",
    "            self.maximize(data)\n",
    "            \n",
    "    def fit_recurse(self, data: np.ndarray, steps=100):\n",
    "        pass\n",
    "                \n",
    "            \n",
    "            "
   ]
  },
  {
   "cell_type": "code",
   "execution_count": 54,
   "metadata": {},
   "outputs": [
    {
     "data": {
      "text/plain": [
       "GaussianMixtureModel(n_components=5, n_dim=3, weights=`list of length 5`, means=`list of length 5, elements of shape (3,)`, covs=`list of length 5, elements of shape (3, 3)`)"
      ]
     },
     "metadata": {},
     "output_type": "display_data"
    }
   ],
   "source": [
    "import copy\n",
    "gmm = GaussianMixtureModel(5)\n",
    "gmm2 = copy.deepcopy(gmm)\n",
    "gmm2.weights[0] is gmm.weights[0]\n",
    "display(gmm)\n"
   ]
  },
  {
   "cell_type": "markdown",
   "metadata": {},
   "source": [
    "## Test data"
   ]
  },
  {
   "cell_type": "code",
   "execution_count": 140,
   "metadata": {},
   "outputs": [
    {
     "name": "stdout",
     "output_type": "stream",
     "text": [
      "{0: 23, 1: 20, 2: 20, 3: 17, 4: 20}\n"
     ]
    },
    {
     "data": {
      "text/plain": [
       "<matplotlib.collections.PathCollection at 0x126d02810>"
      ]
     },
     "execution_count": 140,
     "metadata": {},
     "output_type": "execute_result"
    },
    {
     "data": {
      "image/png": "[encoded data removed]",
      "text/plain": [
       "<Figure size 432x288 with 1 Axes>"
      ]
     },
     "metadata": {
      "needs_background": "light"
     },
     "output_type": "display_data"
    }
   ],
   "source": [
    "from kuberspatiotemporal.tools import make_gmm\n",
    "\n",
    "n_clusters=5\n",
    "X,y = make_gmm(100, n_clusters=n_clusters)\n",
    "plt.scatter(X[:, 0], X[:, 1], marker='o', c=y,\n",
    "            s=25, edgecolor='k')"
   ]
  },
  {
   "cell_type": "code",
   "execution_count": 145,
   "metadata": {},
   "outputs": [
    {
     "name": "stderr",
     "output_type": "stream",
     "text": [
      "[make_ellipses:38] Axis type <class 'matplotlib.axes._subplots.AxesSubplot'>\n"
     ]
    },
    {
     "data": {
      "text/plain": [
       "<matplotlib.collections.PathCollection at 0x127497f90>"
      ]
     },
     "execution_count": 145,
     "metadata": {},
     "output_type": "execute_result"
    },
    {
     "data": {
      "image/png": "[encoded data removed]",
      "text/plain": [
       "<Figure size 432x288 with 1 Axes>"
      ]
     },
     "metadata": {
      "needs_background": "light"
     },
     "output_type": "display_data"
    }
   ],
   "source": [
    "\n",
    "gmm = GaussianMixtureModel(n_clusters, n_dim=2)\n",
    "display()\n",
    "gmm.fit(X)\n",
    "\n",
    "\n",
    "ax = plt.subplot(111)\n",
    "make_ellipses(gmm, ax)\n",
    "\n",
    "plt.scatter(X[:, 0], X[:, 1], marker='+', c=y,\n",
    "            s=25, edgecolor='k')\n",
    "means = np.asarray(gmm.means)\n",
    "plt.scatter(means[:, 0], means[:, 1], marker='o', c='r',\n",
    "            s=25, edgecolor='k')"
   ]
  },
  {
   "cell_type": "code",
   "execution_count": 21,
   "metadata": {},
   "outputs": [
    {
     "data": {
      "text/plain": [
       "(100, 2)"
      ]
     },
     "execution_count": 21,
     "metadata": {},
     "output_type": "execute_result"
    }
   ],
   "source": [
    "X.shape"
   ]
  },
  {
   "cell_type": "markdown",
   "metadata": {},
   "source": [
    "## Optimatization: Computing the outer products\n",
    "\n",
    "This section explains the optimization step in above's code"
   ]
  },
  {
   "cell_type": "code",
   "execution_count": 41,
   "metadata": {},
   "outputs": [
    {
     "name": "stdout",
     "output_type": "stream",
     "text": [
      "16.3 µs ± 730 ns per loop (mean ± std. dev. of 7 runs, 100000 loops each)\n"
     ]
    }
   ],
   "source": [
    "means = np.asarray(gmm.means)\n",
    "a=np.asarray([means[i].reshape(-1,1) @ means[i].reshape(1,-1) for i in range(5) ])\n",
    "%timeit np.asarray([means[i].reshape(-1,1) @ means[i].reshape(1,-1) for i in range(5) ])"
   ]
  },
  {
   "cell_type": "code",
   "execution_count": 46,
   "metadata": {},
   "outputs": [
    {
     "name": "stdout",
     "output_type": "stream",
     "text": [
      "2.92 µs ± 66.6 ns per loop (mean ± std. dev. of 7 runs, 100000 loops each)\n"
     ]
    }
   ],
   "source": [
    "b = np.einsum('Ti,Tj->Tij', means, means)\n",
    "%timeit np.einsum('ki,kj->kij', means, means)\n"
   ]
  },
  {
   "cell_type": "code",
   "execution_count": 47,
   "metadata": {},
   "outputs": [
    {
     "data": {
      "text/plain": [
       "True"
      ]
     },
     "execution_count": 47,
     "metadata": {},
     "output_type": "execute_result"
    }
   ],
   "source": [
    "np.all(a==b)"
   ]
  },
  {
   "cell_type": "markdown",
   "metadata": {},
   "source": [
    "## TODOS\n",
    "\n",
    "* [Implement a score samples function and implement this plot](https://scikit-learn.org/stable/auto_examples/mixture/plot_gmm_pdf.html)"
   ]
  },
  {
   "cell_type": "code",
   "execution_count": null,
   "metadata": {},
   "outputs": [],
   "source": []
  }
 ],
 "metadata": {
  "kernelspec": {
   "display_name": "Python3 (kuberspatiotemporal)",
   "language": "python",
   "name": "python_kuberspatiotemporal"
  },
  "language_info": {
   "codemirror_mode": {
    "name": "ipython",
    "version": 3
   },
   "file_extension": ".py",
   "mimetype": "text/x-python",
   "name": "python",
   "nbconvert_exporter": "python",
   "pygments_lexer": "ipython3",
   "version": "3.7.4"
  }
 },
 "nbformat": 4,
 "nbformat_minor": 4
}
