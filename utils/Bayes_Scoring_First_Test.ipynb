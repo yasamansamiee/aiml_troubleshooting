{
 "cells": [
  {
   "cell_type": "code",
   "execution_count": 41,
   "id": "electoral-ottawa",
   "metadata": {},
   "outputs": [],
   "source": [
    "#from pydantic import BaseSettings\n",
    "from functools import lru_cache\n",
    "from typing import List, Mapping\n",
    "\n",
    "import dill\n",
    "from datetime import datetime, timedelta\n",
    "import random\n",
    "\n",
    "import pandas as pd\n",
    "import numpy as np\n",
    "\n",
    "import math\n",
    "import seaborn as sns\n",
    "\n",
    "\n",
    "from scipy.stats import multivariate_normal, multinomial\n",
    "from typing import Tuple\n",
    "from numpy.random import random_sample, randn\n",
    "from sklearn.datasets import make_spd_matrix\n",
    "from matplotlib import pyplot as plt\n",
    "from sklearn.datasets import make_blobs\n",
    "\n",
    "from collections import namedtuple\n",
    "from time import process_time\n",
    "\n",
    "# Third Party\n",
    "from sklearn.compose import make_column_transformer\n",
    "from sklearn.metrics import confusion_matrix\n",
    "from sklearn.pipeline import Pipeline, make_pipeline\n",
    "from sklearn.preprocessing import FunctionTransformer\n",
    "from scipy import stats\n",
    "\n",
    "import warnings\n",
    "from collections import OrderedDict\n",
    "import os\n",
    "\n",
    "from datetime import datetime as dt\n",
    "\n",
    "warnings.filterwarnings(\"ignore\")\n",
    "\n",
    "# Named tuple to help structure results\n",
    "PipelinesTuple = namedtuple('PipelinesTuple', ['approved', 'rejected'])\n",
    "\n",
    "\n",
    "from kuberspatiotemporal import CompoundModel, Feature, SpatialModel, KuberModel \n",
    "from kuberspatiotemporal.tools.tools import (\n",
    "    check_spd, \n",
    "    check_singular,\n",
    "    repr_list_ndarray\n",
    ")"
   ]
  },
  {
   "cell_type": "code",
   "execution_count": 42,
   "id": "finnish-bobby",
   "metadata": {},
   "outputs": [
    {
     "data": {
      "text/html": [
       "<div>\n",
       "<style scoped>\n",
       "    .dataframe tbody tr th:only-of-type {\n",
       "        vertical-align: middle;\n",
       "    }\n",
       "\n",
       "    .dataframe tbody tr th {\n",
       "        vertical-align: top;\n",
       "    }\n",
       "\n",
       "    .dataframe thead th {\n",
       "        text-align: right;\n",
       "    }\n",
       "</style>\n",
       "<table border=\"1\" class=\"dataframe\">\n",
       "  <thead>\n",
       "    <tr style=\"text-align: right;\">\n",
       "      <th></th>\n",
       "      <th>timestamp</th>\n",
       "      <th>application_uid</th>\n",
       "      <th>auth_status</th>\n",
       "      <th>fingerprinttimezone</th>\n",
       "    </tr>\n",
       "  </thead>\n",
       "  <tbody>\n",
       "    <tr>\n",
       "      <th>0</th>\n",
       "      <td>2021-03-09 00:20:44</td>\n",
       "      <td>34ddbe55360c183dcfdc6e913a23c398cc1fa77452d1b4...</td>\n",
       "      <td>expired</td>\n",
       "      <td>{value=null}</td>\n",
       "    </tr>\n",
       "    <tr>\n",
       "      <th>1</th>\n",
       "      <td>2021-03-09 00:20:18</td>\n",
       "      <td>34ddbe55360c183dcfdc6e913a23c398cc1fa77452d1b4...</td>\n",
       "      <td>approved</td>\n",
       "      <td>{value=null}</td>\n",
       "    </tr>\n",
       "    <tr>\n",
       "      <th>2</th>\n",
       "      <td>2021-03-09 00:17:49</td>\n",
       "      <td>34ddbe55360c183dcfdc6e913a23c398cc1fa77452d1b4...</td>\n",
       "      <td>approved</td>\n",
       "      <td>{value=null}</td>\n",
       "    </tr>\n",
       "    <tr>\n",
       "      <th>3</th>\n",
       "      <td>2021-03-09 00:17:00</td>\n",
       "      <td>34ddbe55360c183dcfdc6e913a23c398cc1fa77452d1b4...</td>\n",
       "      <td>approved</td>\n",
       "      <td>{value=null}</td>\n",
       "    </tr>\n",
       "    <tr>\n",
       "      <th>4</th>\n",
       "      <td>2021-03-09 00:16:30</td>\n",
       "      <td>34ddbe55360c183dcfdc6e913a23c398cc1fa77452d1b4...</td>\n",
       "      <td>approved</td>\n",
       "      <td>{value=null}</td>\n",
       "    </tr>\n",
       "  </tbody>\n",
       "</table>\n",
       "</div>"
      ],
      "text/plain": [
       "            timestamp                                    application_uid  \\\n",
       "0 2021-03-09 00:20:44  34ddbe55360c183dcfdc6e913a23c398cc1fa77452d1b4...   \n",
       "1 2021-03-09 00:20:18  34ddbe55360c183dcfdc6e913a23c398cc1fa77452d1b4...   \n",
       "2 2021-03-09 00:17:49  34ddbe55360c183dcfdc6e913a23c398cc1fa77452d1b4...   \n",
       "3 2021-03-09 00:17:00  34ddbe55360c183dcfdc6e913a23c398cc1fa77452d1b4...   \n",
       "4 2021-03-09 00:16:30  34ddbe55360c183dcfdc6e913a23c398cc1fa77452d1b4...   \n",
       "\n",
       "  auth_status fingerprinttimezone  \n",
       "0     expired        {value=null}  \n",
       "1    approved        {value=null}  \n",
       "2    approved        {value=null}  \n",
       "3    approved        {value=null}  \n",
       "4    approved        {value=null}  "
      ]
     },
     "execution_count": 42,
     "metadata": {},
     "output_type": "execute_result"
    }
   ],
   "source": [
    "\n",
    "data = pd.read_csv(\"data/1fefac90-9903-41fe-94bb-0ed9d9abeae1.csv\", usecols=[\"timestamp\",\"application_uid\", \"auth_status\",\"fingerprinttimezone\"])\n",
    "\n",
    "data[\"timestamp\"] = data[\"timestamp\"].apply(lambda x: dt.fromtimestamp(x))\n",
    "df=data.copy()\n",
    "\n",
    "data.head()"
   ]
  },
  {
   "cell_type": "code",
   "execution_count": 43,
   "id": "rolled-tiger",
   "metadata": {
    "scrolled": true
   },
   "outputs": [
    {
     "name": "stderr",
     "output_type": "stream",
     "text": [
      "NaN in responsibilities (150.000000). Please revise your random start values\n"
     ]
    }
   ],
   "source": [
    "random.seed(10)\n",
    "np.set_printoptions(suppress=True)\n",
    "np.set_printoptions(precision=3)\n",
    "\n",
    "n_component=10\n",
    "data_length= 1000\n",
    "\n",
    "np.seterr(divide='print')\n",
    "train_size=0.8\n",
    "\n",
    "gmm = SpatialModel(n_dim=1,\n",
    "        min_eigval=1e-9,\n",
    "        n_components=n_component,\n",
    "        n_iterations=200,\n",
    "        scaling_parameter=1.1,\n",
    "        nonparametric=True,\n",
    "        online_learning=False,\n",
    "        loa=True,\n",
    "        limits=np.array([[0], [24]]),\n",
    "        noise_probability = 0.02)\n",
    "\n",
    "\n",
    "data=df.sample(data_length)\n",
    "\n",
    "data_approved = data[\n",
    "    (data[\"auth_status\"] == \"approved\")\n",
    "]\n",
    "\n",
    "data_rejected = data[\n",
    "    (data[\"auth_status\"] == \"rejected\")\n",
    "]\n",
    "\n",
    "msk_approved = np.random.rand(len(data_approved)) < train_size\n",
    "if np.sum(~msk_approved) <= len(data_rejected):\n",
    "    approved_test = pd.concat([data_approved[~msk_approved], data_rejected.sample(n=np.sum(~msk_approved))])\n",
    "else:\n",
    "    approved_test = pd.concat([data_approved[~msk_approved], data_rejected])\n",
    "approved = {'train': data_approved[msk_approved], 'test': approved_test}\n",
    "\n",
    "\n",
    "\n",
    "\n",
    "\n",
    "date_field: str = \"timestamp\"\n",
    "    \n",
    "pipeline_created = make_pipeline(\n",
    "    make_column_transformer(\n",
    "        (\n",
    "            FunctionTransformer(\n",
    "                lambda x: np.array(\n",
    "                    [\n",
    "                        pd.Timestamp(ts).hour\n",
    "                        + pd.Timestamp(ts).minute / 60\n",
    "                        + pd.Timestamp(ts).second / 3600\n",
    "                        for ts in x\n",
    "                    ]\n",
    "                ).reshape(-1, 1),\n",
    "            ),\n",
    "            date_field,\n",
    "        ),\n",
    "    ),\n",
    "    gmm,\n",
    ")\n",
    "pipeline_created.fit(approved[\"train\"])\n",
    "\n",
    "\n",
    "pipeline_created['spatialmodel'].score_threshold = pipeline_created[\"spatialmodel\"].get_score_threshold(\n",
    "    pipeline_created[\"columntransformer\"].transform(approved['train']),\n",
    "    lower_quantile=0.05,\n",
    "    upper_quantile=0.95,\n",
    ")\n",
    "\n",
    "pipeline_created[\"spatialmodel\"].loa = False\n",
    "\n",
    "X_test= pipeline_created[\"columntransformer\"].transform(approved[\"train\"]).flatten()\n",
    "labels= gmm.predict(X_test.reshape(-1,1))[0]\n",
    "\n",
    "\n",
    "prediction = np.array([pipeline_created.score(approved[\"train\"].iloc[[i]]) for i in range(len(approved[\"train\"]))])\n",
    "integer= [math.modf(i)[0] for i in X_test ]\n",
    "floatt= [math.modf(i)[1] for i in X_test ]"
   ]
  },
  {
   "cell_type": "code",
   "execution_count": 44,
   "id": "interim-gender",
   "metadata": {},
   "outputs": [
    {
     "name": "stdout",
     "output_type": "stream",
     "text": [
      "The autoreload extension is already loaded. To reload it, use:\n",
      "  %reload_ext autoreload\n"
     ]
    }
   ],
   "source": [
    "%load_ext autoreload\n",
    "%autoreload 2"
   ]
  },
  {
   "cell_type": "code",
   "execution_count": 45,
   "id": "rocky-incentive",
   "metadata": {},
   "outputs": [
    {
     "data": {
      "text/plain": [
       "array([0.766, 0.421, 0.45 , 0.366, 0.203, 0.066, 0.012, 0.001, 0.   ,\n",
       "       0.   , 0.   , 0.009, 0.137, 0.753, 0.899, 0.833, 0.78 , 0.744,\n",
       "       0.818, 0.836, 0.787])"
      ]
     },
     "execution_count": 45,
     "metadata": {},
     "output_type": "execute_result"
    }
   ],
   "source": [
    "gmm.score_samples(np.array([1,3, 4, 5, 6, 7, 8, 9, 10, 11, 12, 13, 14, 15, \n",
    "                           16, 17, 18, 19, 20, 21, 22]).reshape(-1, 1), use_bayes= True)"
   ]
  },
  {
   "cell_type": "code",
   "execution_count": 46,
   "id": "helpful-malta",
   "metadata": {},
   "outputs": [],
   "source": [
    "time =  np.linspace(0,24,1000)\n",
    "prob =  [gmm.score_samples(np.array(t).reshape(-1,1), use_bayes=True)[0] for t in list(time)]"
   ]
  },
  {
   "cell_type": "code",
   "execution_count": 47,
   "id": "czech-discipline",
   "metadata": {},
   "outputs": [
    {
     "data": {
      "text/plain": [
       "<matplotlib.legend.Legend at 0x14b3b6350>"
      ]
     },
     "execution_count": 47,
     "metadata": {},
     "output_type": "execute_result"
    },
    {
     "data": {
      "image/png": "[encoded data removed]",
      "text/plain": [
       "<Figure size 432x288 with 2 Axes>"
      ]
     },
     "metadata": {
      "needs_background": "light"
     },
     "output_type": "display_data"
    }
   ],
   "source": [
    "fig, ax1 = plt.subplots()\n",
    "ax2 = ax1.twinx()\n",
    "\n",
    "\n",
    "sns.lineplot(time, prob, ax=ax1, color=\"black\", linestyle='--', label = \"probability of different times not being a noise\")\n",
    "ax1.set_xlabel(\"time\")\n",
    "plt.ylabel(\"probability\")\n",
    "\n",
    "sns.histplot(list(X_test), ax= ax2, label = \"histogram of trainig data points\")\n",
    "ax1.set_ylabel(\"probability\")\n",
    "ax2.set_ylabel(\"frequency\")\n",
    "\n",
    "plt.grid()\n",
    "ax1.legend( bbox_to_anchor=(1.07, 0.9), loc='upper left')\n",
    "ax2.legend( bbox_to_anchor=(1.07, 1), loc='upper left')"
   ]
  }
 ],
 "metadata": {
  "kernelspec": {
   "display_name": "Python 3",
   "language": "python",
   "name": "python3"
  },
  "language_info": {
   "codemirror_mode": {
    "name": "ipython",
    "version": 3
   },
   "file_extension": ".py",
   "mimetype": "text/x-python",
   "name": "python",
   "nbconvert_exporter": "python",
   "pygments_lexer": "ipython3",
   "version": "3.7.10"
  }
 },
 "nbformat": 4,
 "nbformat_minor": 5
}
