{
 "cells": [
  {
   "cell_type": "markdown",
   "metadata": {},
   "source": [
    "# Understanding types of features\n",
    "\n",
    "The goal of this notebook is to automatically predict the type of each feature. These types/labels will be used during the creation of the KST model."
   ]
  },
  {
   "cell_type": "code",
   "execution_count": null,
   "metadata": {},
   "outputs": [],
   "source": [
    "%load_ext nb_black"
   ]
  },
  {
   "cell_type": "code",
   "execution_count": null,
   "metadata": {},
   "outputs": [],
   "source": [
    "import os, sys\n",
    "import pandas as pd\n",
    "import numpy as np\n",
    "\n",
    "\n",
    "from ipywidgets import interact, interactive, Layout, IntSlider"
   ]
  },
  {
   "cell_type": "code",
   "execution_count": null,
   "metadata": {},
   "outputs": [],
   "source": [
    "from kuberspatiotemporal import CompoundModel, Feature, SpatialModel, KuberModel\n",
    "from kuberspatiotemporal.tools import make_ellipses\n",
    "\n",
    "from sklearn.pipeline import make_pipeline, Pipeline\n",
    "from sklearn.compose import ColumnTransformer, make_column_transformer\n",
    "from sklearn.preprocessing import FunctionTransformer"
   ]
  },
  {
   "cell_type": "code",
   "execution_count": null,
   "metadata": {},
   "outputs": [],
   "source": [
    "import matplotlib.pyplot as plt\n",
    "from scipy import stats"
   ]
  },
  {
   "cell_type": "code",
   "execution_count": null,
   "metadata": {},
   "outputs": [],
   "source": [
    "from sklearn.metrics import confusion_matrix"
   ]
  },
  {
   "cell_type": "markdown",
   "metadata": {},
   "source": [
    "# 1. Import data"
   ]
  },
  {
   "cell_type": "code",
   "execution_count": null,
   "metadata": {},
   "outputs": [],
   "source": [
    "df = pd.read_csv(\n",
    "    \"/Users/adrianai/Desktop/aiml/aiml-dbfp-anomaly/utils/user_dbfp_mfa.csv\"\n",
    ")"
   ]
  },
  {
   "cell_type": "code",
   "execution_count": null,
   "metadata": {},
   "outputs": [],
   "source": [
    "df.columns"
   ]
  },
  {
   "cell_type": "markdown",
   "metadata": {},
   "source": [
    "## How to compute a KST model\n",
    "\n",
    "1. Feature selection\n",
    "\n",
    "https://towardsdatascience.com/a-feature-selection-tool-for-machine-learning-in-python-b64dd23710f0"
   ]
  },
  {
   "cell_type": "code",
   "execution_count": null,
   "metadata": {
    "code_folding": []
   },
   "outputs": [],
   "source": [
    "class FeatureSelector:\n",
    "    \"\"\"\n",
    "    Class that will perform feature selection as a preprocessing step.\n",
    "    \n",
    "    \"\"\"\n",
    "\n",
    "    def __init__(self, data):\n",
    "\n",
    "        self.data = data\n",
    "        self.base_features = data.columns\n",
    "\n",
    "        self.categorical_features = None\n",
    "        self.numerical_features = None\n",
    "        self.time_feature = None\n",
    "\n",
    "        self.missings_threshold = 0.3\n",
    "        self.missings = None\n",
    "        self.single_uniques = None\n",
    "\n",
    "        self.selected_features = None\n",
    "\n",
    "    def get_col_dtype(self, col):\n",
    "        \"\"\"\n",
    "        Infer datatype of a pandas column. \n",
    "\n",
    "        col: a pandas Series representing a df column. \n",
    "        \"\"\"\n",
    "        try:\n",
    "            col.infer_objects().dtypes == \"datetime64[ns, UTC]\"\n",
    "            return \"time\"\n",
    "        except:\n",
    "            try:\n",
    "                pd.to_numeric(col)\n",
    "                if np.array_equal(col, col.astype(int)):\n",
    "                    return \"cat\"\n",
    "                else:\n",
    "                    return \"num\"\n",
    "            except:\n",
    "                return \"cat\"\n",
    "\n",
    "    def get_data_dtypes(self):\n",
    "        \"\"\"\n",
    "        Infer datatypes of data frame columns. \n",
    "\n",
    "        \"\"\"\n",
    "        data_dtypes = np.array(\n",
    "            [\n",
    "                [col, self.get_col_dtype(self.data.loc[:, col])]\n",
    "                for col in self.data.columns\n",
    "            ]\n",
    "        )\n",
    "\n",
    "        self.categorical_features = data_dtypes[\n",
    "            np.where(data_dtypes[:, 1] == \"cat\")[0], 0\n",
    "        ]\n",
    "        self.numerical_features = data_dtypes[\n",
    "            np.where(data_dtypes[:, 1] == \"num\")[0], 0\n",
    "        ]\n",
    "        self.time_feature = data_dtypes[np.where(data_dtypes[:, 1] == \"time\")[0], 0]\n",
    "\n",
    "    def identify_missings(self):\n",
    "        \"\"\"\n",
    "        Return features that have a missing rate higher than threshold.\n",
    "\n",
    "        \"\"\"\n",
    "\n",
    "        missings = (\n",
    "            self.data.isnull().sum(axis=0) / len(self.data) > self.missings_threshold\n",
    "        )\n",
    "\n",
    "        self.missings = np.array(missings.index[missings])\n",
    "\n",
    "    def identify_single_unique(self):\n",
    "        \"\"\"\n",
    "        Return categorical features that have a unique value.\n",
    "\n",
    "        \"\"\"\n",
    "\n",
    "        singles = self.data.loc[:, self.categorical_features].nunique() == 1\n",
    "\n",
    "        self.single_uniques = np.array(singles.index[singles])\n",
    "\n",
    "    def select(self):\n",
    "        \"\"\"\n",
    "        Selects features on DataFrame based on missing rate and number of categories.\n",
    "        \"\"\"\n",
    "        self.get_data_dtypes()\n",
    "        self.identify_missings()\n",
    "        self.identify_single_unique()\n",
    "\n",
    "        features_to_remove = np.unique(\n",
    "            np.concatenate((self.single_uniques, self.missings))\n",
    "        )\n",
    "\n",
    "        self.categorical_features = np.array(\n",
    "            list(\n",
    "                set(self.categorical_features).symmetric_difference(\n",
    "                    np.intersect1d(self.categorical_features, features_to_remove)\n",
    "                )\n",
    "            )\n",
    "        )\n",
    "        self.numerical_features = np.array(\n",
    "            list(\n",
    "                set(self.numerical_features).symmetric_difference(\n",
    "                    np.intersect1d(self.numerical_features, features_to_remove)\n",
    "                )\n",
    "            )\n",
    "        )\n",
    "        self.time_feature = np.array(\n",
    "            list(\n",
    "                set(self.time_feature).symmetric_difference(\n",
    "                    np.intersect1d(self.time_feature, features_to_remove)\n",
    "                )\n",
    "            )\n",
    "        )\n",
    "\n",
    "    def get_categories(self, col):\n",
    "        \"\"\"\n",
    "        Returns categories for a specific categorical feature.\n",
    "        \n",
    "        \"\"\"\n",
    "        if col not in self.categorical_features:\n",
    "            print(\"Not a valid column.\")\n",
    "        else:\n",
    "            return np.sort(self.data.loc[:, col].dropna().unique())"
   ]
  },
  {
   "cell_type": "markdown",
   "metadata": {},
   "source": [
    "## Test Feature Selector"
   ]
  },
  {
   "cell_type": "code",
   "execution_count": null,
   "metadata": {},
   "outputs": [],
   "source": [
    "app_id = 1\n",
    "data = df[df[\"oauth_application_id\"] == app_id]"
   ]
  },
  {
   "cell_type": "code",
   "execution_count": null,
   "metadata": {},
   "outputs": [],
   "source": [
    "fs = FeatureSelector(data)"
   ]
  },
  {
   "cell_type": "code",
   "execution_count": null,
   "metadata": {},
   "outputs": [],
   "source": [
    "# Check if the base features correspond to the original columns\n",
    "len(fs.base_features) == len(data.columns)"
   ]
  },
  {
   "cell_type": "code",
   "execution_count": null,
   "metadata": {},
   "outputs": [],
   "source": [
    "# get data types\n",
    "fs.get_data_dtypes()\n",
    "init_cat = len(fs.categorical_features)\n",
    "init_num = len(fs.numerical_features)\n",
    "init_time = len(fs.time_feature)\n",
    "\n",
    "(init_cat, init_num, init_time)"
   ]
  },
  {
   "cell_type": "code",
   "execution_count": null,
   "metadata": {},
   "outputs": [],
   "source": [
    "init_cat + init_num + init_time == len(data.columns)"
   ]
  },
  {
   "cell_type": "code",
   "execution_count": null,
   "metadata": {},
   "outputs": [],
   "source": [
    "# after selection\n",
    "fs.identify_missings()\n",
    "missings_count = len(fs.missings)\n",
    "\n",
    "fs.identify_single_unique()\n",
    "single_unique_count = len(fs.single_uniques)"
   ]
  },
  {
   "cell_type": "code",
   "execution_count": null,
   "metadata": {},
   "outputs": [],
   "source": [
    "(missings_count, single_unique_count)"
   ]
  },
  {
   "cell_type": "code",
   "execution_count": null,
   "metadata": {},
   "outputs": [],
   "source": [
    "fs.select()"
   ]
  },
  {
   "cell_type": "code",
   "execution_count": null,
   "metadata": {},
   "outputs": [],
   "source": [
    "after_select_cat = len(fs.categorical_features)\n",
    "after_select_num = len(fs.numerical_features)\n",
    "after_select_time = len(fs.time_feature)\n",
    "\n",
    "(after_select_cat, after_select_num, after_select_time)"
   ]
  },
  {
   "cell_type": "code",
   "execution_count": null,
   "metadata": {},
   "outputs": [],
   "source": [
    "after_select_cat + after_select_num + after_select_time == len(data.columns) - len(\n",
    "    np.unique(np.concatenate((fs.missings, fs.single_uniques)))\n",
    ")"
   ]
  },
  {
   "cell_type": "code",
   "execution_count": null,
   "metadata": {},
   "outputs": [],
   "source": [
    "data_ = data[\n",
    "    np.concatenate((fs.categorical_features, fs.numerical_features, fs.time_feature))\n",
    "]"
   ]
  },
  {
   "cell_type": "code",
   "execution_count": null,
   "metadata": {},
   "outputs": [],
   "source": [
    "data.head()"
   ]
  },
  {
   "cell_type": "code",
   "execution_count": null,
   "metadata": {},
   "outputs": [],
   "source": []
  }
 ],
 "metadata": {
  "hide_input": false,
  "kernelspec": {
   "display_name": "Django Shell-Plus",
   "language": "python",
   "name": "django_extensions"
  },
  "language_info": {
   "codemirror_mode": {
    "name": "ipython",
    "version": 3
   },
   "file_extension": ".py",
   "mimetype": "text/x-python",
   "name": "python",
   "nbconvert_exporter": "python",
   "pygments_lexer": "ipython3",
   "version": "3.7.2"
  }
 },
 "nbformat": 4,
 "nbformat_minor": 4
}
