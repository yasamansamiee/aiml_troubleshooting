{
 "cells": [
  {
   "cell_type": "markdown",
   "metadata": {},
   "source": [
    "# 1. Introduction"
   ]
  },
  {
   "cell_type": "markdown",
   "metadata": {},
   "source": [
    "## 1.1 Imports\n",
    "Import libraries here."
   ]
  },
  {
   "cell_type": "code",
   "execution_count": 1,
   "metadata": {},
   "outputs": [],
   "source": [
    "import pandas as pd\n",
    "import numpy as np"
   ]
  },
  {
   "cell_type": "code",
   "execution_count": 2,
   "metadata": {},
   "outputs": [
    {
     "name": "stdout",
     "output_type": "stream",
     "text": [
      "kuberspatiotemporal.spatial\n"
     ]
    }
   ],
   "source": [
    "from kuberspatiotemporal import CompoundModel, Feature, SpatialModel, KuberModel\n",
    "from kuberspatiotemporal.tools import make_ellipses"
   ]
  },
  {
   "cell_type": "code",
   "execution_count": 3,
   "metadata": {},
   "outputs": [],
   "source": [
    "from sklearn.pipeline import make_pipeline, Pipeline\n",
    "from sklearn.compose import ColumnTransformer, make_column_transformer\n",
    "from sklearn.preprocessing import FunctionTransformer"
   ]
  },
  {
   "cell_type": "markdown",
   "metadata": {},
   "source": [
    "# 2. Load Data"
   ]
  },
  {
   "cell_type": "code",
   "execution_count": 4,
   "metadata": {},
   "outputs": [],
   "source": [
    "data = pd.read_json('data/spatial_data_lisboa.json')"
   ]
  },
  {
   "cell_type": "code",
   "execution_count": 5,
   "metadata": {},
   "outputs": [
    {
     "data": {
      "text/html": [
       "<div>\n",
       "<style scoped>\n",
       "    .dataframe tbody tr th:only-of-type {\n",
       "        vertical-align: middle;\n",
       "    }\n",
       "\n",
       "    .dataframe tbody tr th {\n",
       "        vertical-align: top;\n",
       "    }\n",
       "\n",
       "    .dataframe thead th {\n",
       "        text-align: right;\n",
       "    }\n",
       "</style>\n",
       "<table border=\"1\" class=\"dataframe\">\n",
       "  <thead>\n",
       "    <tr style=\"text-align: right;\">\n",
       "      <th></th>\n",
       "      <th>id</th>\n",
       "      <th>user_id</th>\n",
       "      <th>os</th>\n",
       "      <th>dataversion</th>\n",
       "      <th>appversion</th>\n",
       "      <th>encrypted</th>\n",
       "      <th>timestamp</th>\n",
       "      <th>latitude</th>\n",
       "      <th>longitude</th>\n",
       "      <th>organization_uid</th>\n",
       "      <th>score</th>\n",
       "      <th>accuracy</th>\n",
       "    </tr>\n",
       "  </thead>\n",
       "  <tbody>\n",
       "    <tr>\n",
       "      <th>0</th>\n",
       "      <td>1257521</td>\n",
       "      <td>lisboa</td>\n",
       "      <td>android</td>\n",
       "      <td>21</td>\n",
       "      <td>21</td>\n",
       "      <td>False</td>\n",
       "      <td>2019-06-07 12:12:55+00:00</td>\n",
       "      <td>38.710482</td>\n",
       "      <td>-9.139440</td>\n",
       "      <td>3</td>\n",
       "      <td>-1.0</td>\n",
       "      <td>-1</td>\n",
       "    </tr>\n",
       "    <tr>\n",
       "      <th>1</th>\n",
       "      <td>1257522</td>\n",
       "      <td>lisboa</td>\n",
       "      <td>android</td>\n",
       "      <td>21</td>\n",
       "      <td>21</td>\n",
       "      <td>False</td>\n",
       "      <td>2019-06-07 12:13:07+00:00</td>\n",
       "      <td>38.710491</td>\n",
       "      <td>-9.139443</td>\n",
       "      <td>3</td>\n",
       "      <td>-1.0</td>\n",
       "      <td>-1</td>\n",
       "    </tr>\n",
       "  </tbody>\n",
       "</table>\n",
       "</div>"
      ],
      "text/plain": [
       "        id user_id       os  dataversion  appversion  encrypted  \\\n",
       "0  1257521  lisboa  android           21          21      False   \n",
       "1  1257522  lisboa  android           21          21      False   \n",
       "\n",
       "                  timestamp   latitude  longitude  organization_uid  score  \\\n",
       "0 2019-06-07 12:12:55+00:00  38.710482  -9.139440                 3   -1.0   \n",
       "1 2019-06-07 12:13:07+00:00  38.710491  -9.139443                 3   -1.0   \n",
       "\n",
       "   accuracy  \n",
       "0        -1  \n",
       "1        -1  "
      ]
     },
     "execution_count": 5,
     "metadata": {},
     "output_type": "execute_result"
    }
   ],
   "source": [
    "data.head(2)"
   ]
  },
  {
   "cell_type": "code",
   "execution_count": 6,
   "metadata": {},
   "outputs": [],
   "source": [
    "spatial_data = data[['latitude', 'longitude', ]] "
   ]
  },
  {
   "cell_type": "code",
   "execution_count": 7,
   "metadata": {},
   "outputs": [],
   "source": [
    "grouped_locations = data.groupby(['latitude', 'longitude']).size().reset_index(name='Count').sort_values(by='Count', ascending=False)"
   ]
  },
  {
   "cell_type": "code",
   "execution_count": 8,
   "metadata": {},
   "outputs": [],
   "source": [
    "# Filter office and home locations\n",
    "data2 = data[['latitude', 'longitude']]\n",
    "data2 = data2[((((data2['latitude']>38.710104) & (data2['latitude']<38.710648)) | ((data2['latitude']>38.725828) & (data2['latitude']<38.726512)) \n",
    "              &\n",
    "             (((data2['longitude']>-9.139794) & (data2['longitude']<-9.1389)) | ((data2['longitude']>-9.133944) & (data2['longitude']<-9.133169)))))]"
   ]
  },
  {
   "cell_type": "code",
   "execution_count": 9,
   "metadata": {},
   "outputs": [
    {
     "data": {
      "text/html": [
       "<div>\n",
       "<style scoped>\n",
       "    .dataframe tbody tr th:only-of-type {\n",
       "        vertical-align: middle;\n",
       "    }\n",
       "\n",
       "    .dataframe tbody tr th {\n",
       "        vertical-align: top;\n",
       "    }\n",
       "\n",
       "    .dataframe thead th {\n",
       "        text-align: right;\n",
       "    }\n",
       "</style>\n",
       "<table border=\"1\" class=\"dataframe\">\n",
       "  <thead>\n",
       "    <tr style=\"text-align: right;\">\n",
       "      <th></th>\n",
       "      <th>latitude</th>\n",
       "      <th>longitude</th>\n",
       "    </tr>\n",
       "  </thead>\n",
       "  <tbody>\n",
       "    <tr>\n",
       "      <th>0</th>\n",
       "      <td>38.710482</td>\n",
       "      <td>-9.139440</td>\n",
       "    </tr>\n",
       "    <tr>\n",
       "      <th>1</th>\n",
       "      <td>38.710491</td>\n",
       "      <td>-9.139443</td>\n",
       "    </tr>\n",
       "    <tr>\n",
       "      <th>2</th>\n",
       "      <td>38.710490</td>\n",
       "      <td>-9.139442</td>\n",
       "    </tr>\n",
       "    <tr>\n",
       "      <th>3</th>\n",
       "      <td>38.710490</td>\n",
       "      <td>-9.139442</td>\n",
       "    </tr>\n",
       "    <tr>\n",
       "      <th>4</th>\n",
       "      <td>38.710280</td>\n",
       "      <td>-9.144349</td>\n",
       "    </tr>\n",
       "    <tr>\n",
       "      <th>...</th>\n",
       "      <td>...</td>\n",
       "      <td>...</td>\n",
       "    </tr>\n",
       "    <tr>\n",
       "      <th>8394</th>\n",
       "      <td>38.710482</td>\n",
       "      <td>-9.139465</td>\n",
       "    </tr>\n",
       "    <tr>\n",
       "      <th>8395</th>\n",
       "      <td>38.710482</td>\n",
       "      <td>-9.139465</td>\n",
       "    </tr>\n",
       "    <tr>\n",
       "      <th>8405</th>\n",
       "      <td>38.710483</td>\n",
       "      <td>-9.139454</td>\n",
       "    </tr>\n",
       "    <tr>\n",
       "      <th>8406</th>\n",
       "      <td>38.710483</td>\n",
       "      <td>-9.139454</td>\n",
       "    </tr>\n",
       "    <tr>\n",
       "      <th>8407</th>\n",
       "      <td>38.710483</td>\n",
       "      <td>-9.139450</td>\n",
       "    </tr>\n",
       "  </tbody>\n",
       "</table>\n",
       "<p>6903 rows × 2 columns</p>\n",
       "</div>"
      ],
      "text/plain": [
       "       latitude  longitude\n",
       "0     38.710482  -9.139440\n",
       "1     38.710491  -9.139443\n",
       "2     38.710490  -9.139442\n",
       "3     38.710490  -9.139442\n",
       "4     38.710280  -9.144349\n",
       "...         ...        ...\n",
       "8394  38.710482  -9.139465\n",
       "8395  38.710482  -9.139465\n",
       "8405  38.710483  -9.139454\n",
       "8406  38.710483  -9.139454\n",
       "8407  38.710483  -9.139450\n",
       "\n",
       "[6903 rows x 2 columns]"
      ]
     },
     "execution_count": 9,
     "metadata": {},
     "output_type": "execute_result"
    }
   ],
   "source": [
    "data2"
   ]
  },
  {
   "cell_type": "code",
   "execution_count": 10,
   "metadata": {},
   "outputs": [
    {
     "data": {
      "text/html": [
       "<div>\n",
       "<style scoped>\n",
       "    .dataframe tbody tr th:only-of-type {\n",
       "        vertical-align: middle;\n",
       "    }\n",
       "\n",
       "    .dataframe tbody tr th {\n",
       "        vertical-align: top;\n",
       "    }\n",
       "\n",
       "    .dataframe thead th {\n",
       "        text-align: right;\n",
       "    }\n",
       "</style>\n",
       "<table border=\"1\" class=\"dataframe\">\n",
       "  <thead>\n",
       "    <tr style=\"text-align: right;\">\n",
       "      <th></th>\n",
       "      <th>latitude</th>\n",
       "      <th>longitude</th>\n",
       "    </tr>\n",
       "  </thead>\n",
       "  <tbody>\n",
       "    <tr>\n",
       "      <th>0</th>\n",
       "      <td>38.710482</td>\n",
       "      <td>-9.139440</td>\n",
       "    </tr>\n",
       "    <tr>\n",
       "      <th>1</th>\n",
       "      <td>38.710491</td>\n",
       "      <td>-9.139443</td>\n",
       "    </tr>\n",
       "    <tr>\n",
       "      <th>2</th>\n",
       "      <td>38.710490</td>\n",
       "      <td>-9.139442</td>\n",
       "    </tr>\n",
       "    <tr>\n",
       "      <th>3</th>\n",
       "      <td>38.710490</td>\n",
       "      <td>-9.139442</td>\n",
       "    </tr>\n",
       "    <tr>\n",
       "      <th>10</th>\n",
       "      <td>38.726250</td>\n",
       "      <td>-9.133597</td>\n",
       "    </tr>\n",
       "    <tr>\n",
       "      <th>...</th>\n",
       "      <td>...</td>\n",
       "      <td>...</td>\n",
       "    </tr>\n",
       "    <tr>\n",
       "      <th>8394</th>\n",
       "      <td>38.710482</td>\n",
       "      <td>-9.139465</td>\n",
       "    </tr>\n",
       "    <tr>\n",
       "      <th>8395</th>\n",
       "      <td>38.710482</td>\n",
       "      <td>-9.139465</td>\n",
       "    </tr>\n",
       "    <tr>\n",
       "      <th>8405</th>\n",
       "      <td>38.710483</td>\n",
       "      <td>-9.139454</td>\n",
       "    </tr>\n",
       "    <tr>\n",
       "      <th>8406</th>\n",
       "      <td>38.710483</td>\n",
       "      <td>-9.139454</td>\n",
       "    </tr>\n",
       "    <tr>\n",
       "      <th>8407</th>\n",
       "      <td>38.710483</td>\n",
       "      <td>-9.139450</td>\n",
       "    </tr>\n",
       "  </tbody>\n",
       "</table>\n",
       "<p>6875 rows × 2 columns</p>\n",
       "</div>"
      ],
      "text/plain": [
       "       latitude  longitude\n",
       "0     38.710482  -9.139440\n",
       "1     38.710491  -9.139443\n",
       "2     38.710490  -9.139442\n",
       "3     38.710490  -9.139442\n",
       "10    38.726250  -9.133597\n",
       "...         ...        ...\n",
       "8394  38.710482  -9.139465\n",
       "8395  38.710482  -9.139465\n",
       "8405  38.710483  -9.139454\n",
       "8406  38.710483  -9.139454\n",
       "8407  38.710483  -9.139450\n",
       "\n",
       "[6875 rows x 2 columns]"
      ]
     },
     "execution_count": 10,
     "metadata": {},
     "output_type": "execute_result"
    }
   ],
   "source": [
    "data2 = data[['latitude', 'longitude']]\n",
    "data2 = data2[(\n",
    "    (((data2['latitude']>38.710104) & (data2['latitude']<38.710648)) & ((data2['longitude']>-9.139794) & (data2['longitude']<-9.1389)))\n",
    " | (((data2['latitude']>38.725828) & (data2['latitude']<38.726512)) & ((data2['longitude']>-9.133944) & (data2['longitude']<-9.133169))))]\n",
    "\n",
    "data2\n",
    "\n"
   ]
  },
  {
   "cell_type": "code",
   "execution_count": 11,
   "metadata": {
    "collapsed": true
   },
   "outputs": [
    {
     "ename": "KeyboardInterrupt",
     "evalue": "",
     "output_type": "error",
     "traceback": [
      "\u001b[0;31m---------------------------------------------------------------------------\u001b[0m",
      "\u001b[0;31mKeyboardInterrupt\u001b[0m                         Traceback (most recent call last)",
      "\u001b[0;32m<ipython-input-11-52f652b436a9>\u001b[0m in \u001b[0;36m<module>\u001b[0;34m\u001b[0m\n\u001b[1;32m      4\u001b[0m \u001b[0;34m\u001b[0m\u001b[0m\n\u001b[1;32m      5\u001b[0m \u001b[0;32mfor\u001b[0m \u001b[0mlat\u001b[0m\u001b[0;34m,\u001b[0m \u001b[0mlon\u001b[0m\u001b[0;34m,\u001b[0m \u001b[0mcount\u001b[0m \u001b[0;32min\u001b[0m \u001b[0mzip\u001b[0m\u001b[0;34m(\u001b[0m\u001b[0mgrouped_locations\u001b[0m\u001b[0;34m.\u001b[0m\u001b[0mlatitude\u001b[0m\u001b[0;34m.\u001b[0m\u001b[0mvalues\u001b[0m\u001b[0;34m,\u001b[0m \u001b[0mgrouped_locations\u001b[0m\u001b[0;34m.\u001b[0m\u001b[0mlongitude\u001b[0m\u001b[0;34m.\u001b[0m\u001b[0mvalues\u001b[0m\u001b[0;34m,\u001b[0m \u001b[0mgrouped_locations\u001b[0m\u001b[0;34m.\u001b[0m\u001b[0mCount\u001b[0m\u001b[0;34m.\u001b[0m\u001b[0mvalues\u001b[0m\u001b[0;34m)\u001b[0m\u001b[0;34m:\u001b[0m\u001b[0;34m\u001b[0m\u001b[0;34m\u001b[0m\u001b[0m\n\u001b[0;32m----> 6\u001b[0;31m     \u001b[0mcircle_marker\u001b[0m \u001b[0;34m=\u001b[0m \u001b[0mCircleMarker\u001b[0m\u001b[0;34m(\u001b[0m\u001b[0;34m)\u001b[0m\u001b[0;34m\u001b[0m\u001b[0;34m\u001b[0m\u001b[0m\n\u001b[0m\u001b[1;32m      7\u001b[0m     \u001b[0mcircle_marker\u001b[0m\u001b[0;34m.\u001b[0m\u001b[0mlocation\u001b[0m \u001b[0;34m=\u001b[0m \u001b[0;34m(\u001b[0m\u001b[0mlat\u001b[0m\u001b[0;34m,\u001b[0m \u001b[0mlon\u001b[0m\u001b[0;34m)\u001b[0m\u001b[0;34m\u001b[0m\u001b[0;34m\u001b[0m\u001b[0m\n\u001b[1;32m      8\u001b[0m     \u001b[0mcircle_marker\u001b[0m\u001b[0;34m.\u001b[0m\u001b[0mradius\u001b[0m \u001b[0;34m=\u001b[0m \u001b[0mint\u001b[0m\u001b[0;34m(\u001b[0m\u001b[0;34m(\u001b[0m\u001b[0mcount\u001b[0m\u001b[0;34m-\u001b[0m\u001b[0;36m1\u001b[0m\u001b[0;34m)\u001b[0m\u001b[0;34m*\u001b[0m\u001b[0;34m(\u001b[0m\u001b[0;36m25\u001b[0m\u001b[0;34m-\u001b[0m\u001b[0;36m3\u001b[0m\u001b[0;34m)\u001b[0m\u001b[0;34m/\u001b[0m\u001b[0;34m(\u001b[0m\u001b[0mnp\u001b[0m\u001b[0;34m.\u001b[0m\u001b[0mmax\u001b[0m\u001b[0;34m(\u001b[0m\u001b[0mgrouped_locations\u001b[0m\u001b[0;34m.\u001b[0m\u001b[0mCount\u001b[0m\u001b[0;34m.\u001b[0m\u001b[0mvalues\u001b[0m\u001b[0;34m)\u001b[0m\u001b[0;34m-\u001b[0m\u001b[0mnp\u001b[0m\u001b[0;34m.\u001b[0m\u001b[0mmin\u001b[0m\u001b[0;34m(\u001b[0m\u001b[0mgrouped_locations\u001b[0m\u001b[0;34m.\u001b[0m\u001b[0mCount\u001b[0m\u001b[0;34m.\u001b[0m\u001b[0mvalues\u001b[0m\u001b[0;34m)\u001b[0m\u001b[0;34m)\u001b[0m\u001b[0;34m+\u001b[0m\u001b[0;36m3\u001b[0m\u001b[0;34m)\u001b[0m\u001b[0;34m\u001b[0m\u001b[0;34m\u001b[0m\u001b[0m\n",
      "\u001b[0;32m~/Library/Caches/pypoetry/virtualenvs/kuberspatiotemporal-ubhw7tLh-py3.7/lib/python3.7/site-packages/ipyleaflet/leaflet.py\u001b[0m in \u001b[0;36m__init__\u001b[0;34m(self, **kwargs)\u001b[0m\n\u001b[1;32m    100\u001b[0m \u001b[0;34m\u001b[0m\u001b[0m\n\u001b[1;32m    101\u001b[0m     \u001b[0;32mdef\u001b[0m \u001b[0m__init__\u001b[0m\u001b[0;34m(\u001b[0m\u001b[0mself\u001b[0m\u001b[0;34m,\u001b[0m \u001b[0;34m**\u001b[0m\u001b[0mkwargs\u001b[0m\u001b[0;34m)\u001b[0m\u001b[0;34m:\u001b[0m\u001b[0;34m\u001b[0m\u001b[0;34m\u001b[0m\u001b[0m\n\u001b[0;32m--> 102\u001b[0;31m         \u001b[0msuper\u001b[0m\u001b[0;34m(\u001b[0m\u001b[0mLayer\u001b[0m\u001b[0;34m,\u001b[0m \u001b[0mself\u001b[0m\u001b[0;34m)\u001b[0m\u001b[0;34m.\u001b[0m\u001b[0m__init__\u001b[0m\u001b[0;34m(\u001b[0m\u001b[0;34m**\u001b[0m\u001b[0mkwargs\u001b[0m\u001b[0;34m)\u001b[0m\u001b[0;34m\u001b[0m\u001b[0;34m\u001b[0m\u001b[0m\n\u001b[0m\u001b[1;32m    103\u001b[0m         \u001b[0mself\u001b[0m\u001b[0;34m.\u001b[0m\u001b[0mon_msg\u001b[0m\u001b[0;34m(\u001b[0m\u001b[0mself\u001b[0m\u001b[0;34m.\u001b[0m\u001b[0m_handle_mouse_events\u001b[0m\u001b[0;34m)\u001b[0m\u001b[0;34m\u001b[0m\u001b[0;34m\u001b[0m\u001b[0m\n\u001b[1;32m    104\u001b[0m \u001b[0;34m\u001b[0m\u001b[0m\n",
      "\u001b[0;32m~/Library/Caches/pypoetry/virtualenvs/kuberspatiotemporal-ubhw7tLh-py3.7/lib/python3.7/site-packages/ipywidgets/widgets/widget.py\u001b[0m in \u001b[0;36m__init__\u001b[0;34m(self, **kwargs)\u001b[0m\n\u001b[1;32m    413\u001b[0m \u001b[0;34m\u001b[0m\u001b[0m\n\u001b[1;32m    414\u001b[0m         \u001b[0mWidget\u001b[0m\u001b[0;34m.\u001b[0m\u001b[0m_call_widget_constructed\u001b[0m\u001b[0;34m(\u001b[0m\u001b[0mself\u001b[0m\u001b[0;34m)\u001b[0m\u001b[0;34m\u001b[0m\u001b[0;34m\u001b[0m\u001b[0m\n\u001b[0;32m--> 415\u001b[0;31m         \u001b[0mself\u001b[0m\u001b[0;34m.\u001b[0m\u001b[0mopen\u001b[0m\u001b[0;34m(\u001b[0m\u001b[0;34m)\u001b[0m\u001b[0;34m\u001b[0m\u001b[0;34m\u001b[0m\u001b[0m\n\u001b[0m\u001b[1;32m    416\u001b[0m \u001b[0;34m\u001b[0m\u001b[0m\n\u001b[1;32m    417\u001b[0m     \u001b[0;32mdef\u001b[0m \u001b[0m__del__\u001b[0m\u001b[0;34m(\u001b[0m\u001b[0mself\u001b[0m\u001b[0;34m)\u001b[0m\u001b[0;34m:\u001b[0m\u001b[0;34m\u001b[0m\u001b[0;34m\u001b[0m\u001b[0m\n",
      "\u001b[0;32m~/Library/Caches/pypoetry/virtualenvs/kuberspatiotemporal-ubhw7tLh-py3.7/lib/python3.7/site-packages/ipywidgets/widgets/widget.py\u001b[0m in \u001b[0;36mopen\u001b[0;34m(self)\u001b[0m\n\u001b[1;32m    436\u001b[0m                 \u001b[0margs\u001b[0m\u001b[0;34m[\u001b[0m\u001b[0;34m'comm_id'\u001b[0m\u001b[0;34m]\u001b[0m \u001b[0;34m=\u001b[0m \u001b[0mself\u001b[0m\u001b[0;34m.\u001b[0m\u001b[0m_model_id\u001b[0m\u001b[0;34m\u001b[0m\u001b[0;34m\u001b[0m\u001b[0m\n\u001b[1;32m    437\u001b[0m \u001b[0;34m\u001b[0m\u001b[0m\n\u001b[0;32m--> 438\u001b[0;31m             \u001b[0mself\u001b[0m\u001b[0;34m.\u001b[0m\u001b[0mcomm\u001b[0m \u001b[0;34m=\u001b[0m \u001b[0mComm\u001b[0m\u001b[0;34m(\u001b[0m\u001b[0;34m**\u001b[0m\u001b[0margs\u001b[0m\u001b[0;34m)\u001b[0m\u001b[0;34m\u001b[0m\u001b[0;34m\u001b[0m\u001b[0m\n\u001b[0m\u001b[1;32m    439\u001b[0m \u001b[0;34m\u001b[0m\u001b[0m\n\u001b[1;32m    440\u001b[0m     \u001b[0;34m@\u001b[0m\u001b[0mobserve\u001b[0m\u001b[0;34m(\u001b[0m\u001b[0;34m'comm'\u001b[0m\u001b[0;34m)\u001b[0m\u001b[0;34m\u001b[0m\u001b[0;34m\u001b[0m\u001b[0m\n",
      "\u001b[0;32m~/Library/Caches/pypoetry/virtualenvs/kuberspatiotemporal-ubhw7tLh-py3.7/lib/python3.7/site-packages/traitlets/traitlets.py\u001b[0m in \u001b[0;36m__new__\u001b[0;34m(cls, *args, **kwargs)\u001b[0m\n\u001b[1;32m    956\u001b[0m         \u001b[0;32melse\u001b[0m\u001b[0;34m:\u001b[0m\u001b[0;34m\u001b[0m\u001b[0;34m\u001b[0m\u001b[0m\n\u001b[1;32m    957\u001b[0m             \u001b[0minst\u001b[0m \u001b[0;34m=\u001b[0m \u001b[0mnew_meth\u001b[0m\u001b[0;34m(\u001b[0m\u001b[0mcls\u001b[0m\u001b[0;34m,\u001b[0m \u001b[0;34m*\u001b[0m\u001b[0margs\u001b[0m\u001b[0;34m,\u001b[0m \u001b[0;34m**\u001b[0m\u001b[0mkwargs\u001b[0m\u001b[0;34m)\u001b[0m\u001b[0;34m\u001b[0m\u001b[0;34m\u001b[0m\u001b[0m\n\u001b[0;32m--> 958\u001b[0;31m         \u001b[0minst\u001b[0m\u001b[0;34m.\u001b[0m\u001b[0msetup_instance\u001b[0m\u001b[0;34m(\u001b[0m\u001b[0;34m*\u001b[0m\u001b[0margs\u001b[0m\u001b[0;34m,\u001b[0m \u001b[0;34m**\u001b[0m\u001b[0mkwargs\u001b[0m\u001b[0;34m)\u001b[0m\u001b[0;34m\u001b[0m\u001b[0;34m\u001b[0m\u001b[0m\n\u001b[0m\u001b[1;32m    959\u001b[0m         \u001b[0;32mreturn\u001b[0m \u001b[0minst\u001b[0m\u001b[0;34m\u001b[0m\u001b[0;34m\u001b[0m\u001b[0m\n\u001b[1;32m    960\u001b[0m \u001b[0;34m\u001b[0m\u001b[0m\n",
      "\u001b[0;32m~/Library/Caches/pypoetry/virtualenvs/kuberspatiotemporal-ubhw7tLh-py3.7/lib/python3.7/site-packages/traitlets/traitlets.py\u001b[0m in \u001b[0;36msetup_instance\u001b[0;34m(self, *args, **kwargs)\u001b[0m\n\u001b[1;32m    984\u001b[0m         \u001b[0mself\u001b[0m\u001b[0;34m.\u001b[0m\u001b[0m_trait_notifiers\u001b[0m \u001b[0;34m=\u001b[0m \u001b[0;34m{\u001b[0m\u001b[0;34m}\u001b[0m\u001b[0;34m\u001b[0m\u001b[0;34m\u001b[0m\u001b[0m\n\u001b[1;32m    985\u001b[0m         \u001b[0mself\u001b[0m\u001b[0;34m.\u001b[0m\u001b[0m_trait_validators\u001b[0m \u001b[0;34m=\u001b[0m \u001b[0;34m{\u001b[0m\u001b[0;34m}\u001b[0m\u001b[0;34m\u001b[0m\u001b[0;34m\u001b[0m\u001b[0m\n\u001b[0;32m--> 986\u001b[0;31m         \u001b[0msuper\u001b[0m\u001b[0;34m(\u001b[0m\u001b[0mHasTraits\u001b[0m\u001b[0;34m,\u001b[0m \u001b[0mself\u001b[0m\u001b[0;34m)\u001b[0m\u001b[0;34m.\u001b[0m\u001b[0msetup_instance\u001b[0m\u001b[0;34m(\u001b[0m\u001b[0;34m*\u001b[0m\u001b[0margs\u001b[0m\u001b[0;34m,\u001b[0m \u001b[0;34m**\u001b[0m\u001b[0mkwargs\u001b[0m\u001b[0;34m)\u001b[0m\u001b[0;34m\u001b[0m\u001b[0;34m\u001b[0m\u001b[0m\n\u001b[0m\u001b[1;32m    987\u001b[0m \u001b[0;34m\u001b[0m\u001b[0m\n\u001b[1;32m    988\u001b[0m     \u001b[0;32mdef\u001b[0m \u001b[0m__init__\u001b[0m\u001b[0;34m(\u001b[0m\u001b[0mself\u001b[0m\u001b[0;34m,\u001b[0m \u001b[0;34m*\u001b[0m\u001b[0margs\u001b[0m\u001b[0;34m,\u001b[0m \u001b[0;34m**\u001b[0m\u001b[0mkwargs\u001b[0m\u001b[0;34m)\u001b[0m\u001b[0;34m:\u001b[0m\u001b[0;34m\u001b[0m\u001b[0;34m\u001b[0m\u001b[0m\n",
      "\u001b[0;32m~/Library/Caches/pypoetry/virtualenvs/kuberspatiotemporal-ubhw7tLh-py3.7/lib/python3.7/site-packages/traitlets/traitlets.py\u001b[0m in \u001b[0;36msetup_instance\u001b[0;34m(self, *args, **kwargs)\u001b[0m\n\u001b[1;32m    975\u001b[0m             \u001b[0;32melse\u001b[0m\u001b[0;34m:\u001b[0m\u001b[0;34m\u001b[0m\u001b[0;34m\u001b[0m\u001b[0m\n\u001b[1;32m    976\u001b[0m                 \u001b[0;32mif\u001b[0m \u001b[0misinstance\u001b[0m\u001b[0;34m(\u001b[0m\u001b[0mvalue\u001b[0m\u001b[0;34m,\u001b[0m \u001b[0mBaseDescriptor\u001b[0m\u001b[0;34m)\u001b[0m\u001b[0;34m:\u001b[0m\u001b[0;34m\u001b[0m\u001b[0;34m\u001b[0m\u001b[0m\n\u001b[0;32m--> 977\u001b[0;31m                     \u001b[0mvalue\u001b[0m\u001b[0;34m.\u001b[0m\u001b[0minstance_init\u001b[0m\u001b[0;34m(\u001b[0m\u001b[0mself\u001b[0m\u001b[0;34m)\u001b[0m\u001b[0;34m\u001b[0m\u001b[0;34m\u001b[0m\u001b[0m\n\u001b[0m\u001b[1;32m    978\u001b[0m \u001b[0;34m\u001b[0m\u001b[0m\n\u001b[1;32m    979\u001b[0m \u001b[0;34m\u001b[0m\u001b[0m\n",
      "\u001b[0;32m~/Library/Caches/pypoetry/virtualenvs/kuberspatiotemporal-ubhw7tLh-py3.7/lib/python3.7/site-packages/traitlets/traitlets.py\u001b[0m in \u001b[0;36minstance_init\u001b[0;34m(self, obj)\u001b[0m\n\u001b[1;32m    520\u001b[0m             \u001b[0;32mif\u001b[0m \u001b[0;34m(\u001b[0m\u001b[0mself\u001b[0m\u001b[0;34m.\u001b[0m\u001b[0m_dynamic_default_callable\u001b[0m\u001b[0;34m(\u001b[0m\u001b[0mobj\u001b[0m\u001b[0;34m)\u001b[0m \u001b[0;32mis\u001b[0m \u001b[0;32mNone\u001b[0m\u001b[0;34m)\u001b[0m\u001b[0;31m \u001b[0m\u001b[0;31m\\\u001b[0m\u001b[0;34m\u001b[0m\u001b[0;34m\u001b[0m\u001b[0m\n\u001b[1;32m    521\u001b[0m                     \u001b[0;32mand\u001b[0m \u001b[0;34m(\u001b[0m\u001b[0mself\u001b[0m\u001b[0;34m.\u001b[0m\u001b[0mdefault_value\u001b[0m \u001b[0;32mis\u001b[0m \u001b[0;32mnot\u001b[0m \u001b[0mUndefined\u001b[0m\u001b[0;34m)\u001b[0m\u001b[0;34m:\u001b[0m\u001b[0;34m\u001b[0m\u001b[0;34m\u001b[0m\u001b[0m\n\u001b[0;32m--> 522\u001b[0;31m                 \u001b[0mv\u001b[0m \u001b[0;34m=\u001b[0m \u001b[0mself\u001b[0m\u001b[0;34m.\u001b[0m\u001b[0m_validate\u001b[0m\u001b[0;34m(\u001b[0m\u001b[0mobj\u001b[0m\u001b[0;34m,\u001b[0m \u001b[0mself\u001b[0m\u001b[0;34m.\u001b[0m\u001b[0mdefault_value\u001b[0m\u001b[0;34m)\u001b[0m\u001b[0;34m\u001b[0m\u001b[0;34m\u001b[0m\u001b[0m\n\u001b[0m\u001b[1;32m    523\u001b[0m                 \u001b[0;32mif\u001b[0m \u001b[0mself\u001b[0m\u001b[0;34m.\u001b[0m\u001b[0mname\u001b[0m \u001b[0;32mis\u001b[0m \u001b[0;32mnot\u001b[0m \u001b[0;32mNone\u001b[0m\u001b[0;34m:\u001b[0m\u001b[0;34m\u001b[0m\u001b[0;34m\u001b[0m\u001b[0m\n\u001b[1;32m    524\u001b[0m                     \u001b[0mobj\u001b[0m\u001b[0;34m.\u001b[0m\u001b[0m_trait_values\u001b[0m\u001b[0;34m[\u001b[0m\u001b[0mself\u001b[0m\u001b[0;34m.\u001b[0m\u001b[0mname\u001b[0m\u001b[0;34m]\u001b[0m \u001b[0;34m=\u001b[0m \u001b[0mv\u001b[0m\u001b[0;34m\u001b[0m\u001b[0;34m\u001b[0m\u001b[0m\n",
      "\u001b[0;31mKeyboardInterrupt\u001b[0m: "
     ]
    }
   ],
   "source": [
    "from ipyleaflet import Map, basemaps, basemap_to_tiles, CircleMarker\n",
    "\n",
    "m = Map(center=(np.mean(data.latitude), np.mean(data.longitude)), zoom=10)\n",
    "\n",
    "for lat, lon, count in zip(grouped_locations.latitude.values, grouped_locations.longitude.values, grouped_locations.Count.values):\n",
    "    circle_marker = CircleMarker()\n",
    "    circle_marker.location = (lat, lon)\n",
    "    circle_marker.radius = int((count-1)*(25-3)/(np.max(grouped_locations.Count.values)-np.min(grouped_locations.Count.values))+3)\n",
    "    circle_marker.color = \"blue\"\n",
    "    circle_marker.fill_color = \"blue\"\n",
    "\n",
    "    m.add_layer(circle_marker)\n",
    "\n",
    "m"
   ]
  },
  {
   "cell_type": "code",
   "execution_count": null,
   "metadata": {},
   "outputs": [],
   "source": [
    "for lat, lon in zip(data2.latitude.values, data2.longitude.values):\n",
    "    circle_marker = CircleMarker()\n",
    "    circle_marker.location = (lat, lon)\n",
    "    circle_marker.radius = 3\n",
    "    circle_marker.color = \"red\"\n",
    "    circle_marker.fill_color = \"red\"\n",
    "\n",
    "    m.add_layer(circle_marker)"
   ]
  },
  {
   "cell_type": "code",
   "execution_count": 11,
   "metadata": {},
   "outputs": [
    {
     "data": {
      "text/plain": [
       "array([[38.6900006, -9.4216553],\n",
       "       [38.7855706, -9.0955802]])"
      ]
     },
     "execution_count": 11,
     "metadata": {},
     "output_type": "execute_result"
    }
   ],
   "source": [
    "limits = np.array([[data.latitude.min(), data.longitude.min()],[data.latitude.max(), data.longitude.max()]])\n",
    "limits"
   ]
  },
  {
   "cell_type": "markdown",
   "metadata": {},
   "source": [
    "# 3. Learn Spatial Model - 2D"
   ]
  },
  {
   "cell_type": "code",
   "execution_count": 12,
   "metadata": {},
   "outputs": [],
   "source": [
    "model = SpatialModel(n_dim=2, min_eigval=1e-10, nonparametric=True, n_iterations=200, limits=limits,\n",
    "                    scaling_parameter=1.5, loa=True)"
   ]
  },
  {
   "cell_type": "code",
   "execution_count": 13,
   "metadata": {},
   "outputs": [],
   "source": [
    "idx = np.argsort(model._weights)"
   ]
  },
  {
   "cell_type": "code",
   "execution_count": 14,
   "metadata": {},
   "outputs": [
    {
     "data": {
      "text/plain": [
       "SpatialModel(n_dim=2, n_components=100, nonparametric=True, scaling_parameter=1.5, decay=0.75, online_learning=False, n_iterations=200, score_threshold=None, random_reset=False, loa=True, _sufficient_statistics=`list of length 3, elements of shapes [(100,), (100, 2), (100, 2, 2)]`, _BaseModel__priors=Array (100,), _weights=Array (100,), limits=array([[38.6900006, -9.4216553],\n",
       "       [38.7855706, -9.0955802]]), min_eigval=1e-10, box=None, _SpatialModel__means=Array (100, 2), _SpatialModel__covs=Array (100, 2, 2))"
      ]
     },
     "execution_count": 14,
     "metadata": {},
     "output_type": "execute_result"
    }
   ],
   "source": [
    "model.fit(data[['latitude', 'longitude']].values)"
   ]
  },
  {
   "cell_type": "code",
   "execution_count": 15,
   "metadata": {},
   "outputs": [
    {
     "data": {
      "text/plain": [
       "array([95, 97, 92, 91, 90, 87, 96, 85, 80, 76, 82, 88, 69, 79, 94, 73, 71,\n",
       "       68, 62, 81, 98, 86, 66, 61, 58, 54, 53, 52, 72, 55, 93, 77, 51, 60,\n",
       "       89, 75, 83, 47, 42, 78, 49, 84, 38, 46, 36, 45, 39, 74, 34, 63, 37,\n",
       "       32, 40, 67, 31, 70, 28, 26, 27, 65, 35, 23, 64, 24, 20, 19, 44, 14,\n",
       "       59, 21, 43, 56, 25, 17, 29, 11, 13, 18,  9, 30, 57,  1, 10, 22, 48,\n",
       "        7, 33, 99, 50,  6, 41,  8,  4, 15,  2,  5, 12,  3, 16,  0])"
      ]
     },
     "execution_count": 15,
     "metadata": {},
     "output_type": "execute_result"
    }
   ],
   "source": [
    "idx = np.argsort(model._weights)\n",
    "idx"
   ]
  },
  {
   "cell_type": "code",
   "execution_count": 16,
   "metadata": {},
   "outputs": [],
   "source": [
    "# weights \n",
    "# model._weights\n",
    "# covs\n",
    "# model._SpatialModel__covs\n",
    "# means\n",
    "# model._SpatialModel__means"
   ]
  },
  {
   "cell_type": "code",
   "execution_count": 17,
   "metadata": {},
   "outputs": [
    {
     "data": {
      "text/plain": [
       "array([4.88754164e-01, 6.67537262e-04, 9.61315002e-03, 2.09408155e-02,\n",
       "       3.10029055e-03, 1.06562441e-02, 1.48015801e-03, 8.32425847e-04,\n",
       "       2.46325329e-03, 4.47577985e-04, 6.98040380e-04, 1.88123825e-04,\n",
       "       1.91617875e-02, 2.02102180e-04, 2.58677692e-05, 8.09517827e-03,\n",
       "       4.23029234e-01, 1.18926817e-04, 3.56777474e-04, 1.35062102e-06,\n",
       "       6.99104744e-07, 1.18744096e-04, 7.08601017e-04, 6.50845459e-08,\n",
       "       1.51898064e-07, 1.18922013e-04, 9.60375625e-10, 1.14099939e-09,\n",
       "       3.58568464e-10, 1.73047590e-04, 4.89326158e-04, 1.82555302e-10,\n",
       "       6.12632199e-11, 1.18616516e-03, 4.78386300e-12, 4.26477443e-09,\n",
       "       7.11755400e-13, 2.97585320e-11, 1.48279009e-13, 2.67956066e-12,\n",
       "       7.05125379e-11, 2.01635130e-03, 4.17949491e-15, 1.18790966e-04,\n",
       "       5.18500243e-06, 8.21955543e-13, 1.66532444e-13, 2.37959817e-15,\n",
       "       8.32350698e-04, 2.76998099e-14, 1.35422392e-03, 2.72853689e-16,\n",
       "       7.20849599e-19, 2.81427226e-19, 1.04749714e-19, 5.73508930e-17,\n",
       "       1.18917456e-04, 5.37081815e-04, 8.89621693e-20, 1.13727943e-04,\n",
       "       3.04668171e-16, 3.31153228e-21, 1.33507093e-23, 2.58781612e-11,\n",
       "       1.22171864e-07, 2.50564816e-09, 1.34438010e-21, 1.02975088e-10,\n",
       "       8.72239139e-24, 1.15200369e-24, 2.53794221e-10, 5.14659011e-24,\n",
       "       2.92586513e-18, 3.92066570e-24, 2.84009014e-12, 8.07349250e-16,\n",
       "       1.45132655e-26, 1.52311152e-16, 1.02199820e-14, 1.71439980e-24,\n",
       "       9.74706469e-27, 2.26891885e-23, 2.29828844e-26, 8.74833080e-16,\n",
       "       1.14226894e-13, 8.11515432e-27, 3.61952441e-23, 1.82752085e-27,\n",
       "       2.30235914e-25, 4.46207821e-16, 4.62733990e-28, 3.37085610e-28,\n",
       "       7.76572712e-29, 1.27456905e-16, 3.85538233e-24, 1.62563185e-30,\n",
       "       4.29228503e-27, 3.92988502e-30, 2.64452889e-23, 1.27451114e-03])"
      ]
     },
     "execution_count": 17,
     "metadata": {},
     "output_type": "execute_result"
    }
   ],
   "source": [
    "model._weights"
   ]
  },
  {
   "cell_type": "code",
   "execution_count": 18,
   "metadata": {},
   "outputs": [
    {
     "data": {
      "text/plain": [
       "array([[38.72628626, -9.13386418],\n",
       "       [38.70138244, -9.38970682],\n",
       "       [38.72104613, -9.13339224],\n",
       "       [38.73458376, -9.14722281],\n",
       "       [38.74586074, -9.19975163],\n",
       "       [38.7262859 , -9.13386498],\n",
       "       [38.73549241, -9.15855368],\n",
       "       [38.70214083, -9.42115542],\n",
       "       [38.73583366, -9.13900874],\n",
       "       [38.71632297, -9.19513799],\n",
       "       [38.71231405, -9.18698031],\n",
       "       [38.72628621, -9.13386436],\n",
       "       [38.71707226, -9.14327507],\n",
       "       [38.72628625, -9.13386423],\n",
       "       [38.72628614, -9.13386454],\n",
       "       [38.70816425, -9.14477146],\n",
       "       [38.71050226, -9.13942782],\n",
       "       [38.6958514 , -9.1956767 ],\n",
       "       [38.7288324 , -9.1136103 ],\n",
       "       [38.72628628, -9.13386391],\n",
       "       [38.72628628, -9.13386392],\n",
       "       [38.7401078 , -9.1231434 ],\n",
       "       [38.76697275, -9.13166255],\n",
       "       [38.70213345, -9.42114263],\n",
       "       [38.72628613, -9.13386456],\n",
       "       [38.7174598 , -9.4174834 ],\n",
       "       [38.7174598 , -9.4174834 ],\n",
       "       [38.72628628, -9.13386394],\n",
       "       [38.72628628, -9.13386395],\n",
       "       [38.76446611, -9.09588054],\n",
       "       [38.76383553, -9.09582281],\n",
       "       [38.72628628, -9.13386404],\n",
       "       [38.72628544, -9.13386558],\n",
       "       [38.7613666 , -9.1499393 ],\n",
       "       [38.7174598 , -9.4174834 ],\n",
       "       [38.7174598 , -9.4174834 ],\n",
       "       [38.72628536, -9.13386567],\n",
       "       [38.7174598 , -9.4174834 ],\n",
       "       [38.72628621, -9.13386437],\n",
       "       [38.7174598 , -9.4174834 ],\n",
       "       [38.73471015, -9.14725394],\n",
       "       [38.76526509, -9.12186078],\n",
       "       [38.7174598 , -9.4174834 ],\n",
       "       [38.7170599 , -9.2188034 ],\n",
       "       [38.6900006 , -9.30091   ],\n",
       "       [38.7174598 , -9.4174834 ],\n",
       "       [38.7174598 , -9.4174834 ],\n",
       "       [38.7174598 , -9.4174834 ],\n",
       "       [38.69576601, -9.20848557],\n",
       "       [38.6958514 , -9.1956767 ],\n",
       "       [38.70226786, -9.39197012],\n",
       "       [38.7174598 , -9.4174834 ],\n",
       "       [38.6900006 , -9.30091   ],\n",
       "       [38.72628627, -9.13386411],\n",
       "       [38.7174598 , -9.4174834 ],\n",
       "       [38.7174598 , -9.4174834 ],\n",
       "       [38.7511863 , -9.2296655 ],\n",
       "       [38.76451627, -9.09589975],\n",
       "       [38.72628628, -9.133864  ],\n",
       "       [38.6900006 , -9.30091   ],\n",
       "       [38.73471015, -9.14725394],\n",
       "       [38.7401078 , -9.1231434 ],\n",
       "       [38.72628625, -9.13386421],\n",
       "       [38.76526584, -9.12186063],\n",
       "       [38.76451276, -9.09589815],\n",
       "       [38.70226786, -9.39197012],\n",
       "       [38.7288324 , -9.1136103 ],\n",
       "       [38.76447965, -9.09588404],\n",
       "       [38.72628628, -9.13386394],\n",
       "       [38.72628628, -9.13386398],\n",
       "       [38.703052  , -9.279771  ],\n",
       "       [38.72463159, -9.16075738],\n",
       "       [38.6958514 , -9.1956767 ],\n",
       "       [38.6958514 , -9.1956767 ],\n",
       "       [38.76526595, -9.12186061],\n",
       "       [38.70226786, -9.39197012],\n",
       "       [38.72628618, -9.13386445],\n",
       "       [38.6958514 , -9.1956767 ],\n",
       "       [38.70226786, -9.39197012],\n",
       "       [38.7288324 , -9.1136103 ],\n",
       "       [38.72628628, -9.13386393],\n",
       "       [38.73471015, -9.14725394],\n",
       "       [38.72628628, -9.13386401],\n",
       "       [38.6900006 , -9.30091   ],\n",
       "       [38.6900006 , -9.30091   ],\n",
       "       [38.72628628, -9.13386393],\n",
       "       [38.71488325, -9.13917042],\n",
       "       [38.7174598 , -9.4174834 ],\n",
       "       [38.73621705, -9.14134651],\n",
       "       [38.70226786, -9.39197012],\n",
       "       [38.72628624, -9.13386424],\n",
       "       [38.72628624, -9.13386426],\n",
       "       [38.72628599, -9.13386483],\n",
       "       [38.70226786, -9.39197012],\n",
       "       [38.71484076, -9.13863351],\n",
       "       [38.72628573, -9.13386523],\n",
       "       [38.7174598 , -9.4174834 ],\n",
       "       [38.726286  , -9.13386483],\n",
       "       [38.76394194, -9.09581048],\n",
       "       [38.72628622, -9.13386433]])"
      ]
     },
     "execution_count": 18,
     "metadata": {},
     "output_type": "execute_result"
    }
   ],
   "source": [
    "model._SpatialModel__means"
   ]
  },
  {
   "cell_type": "code",
   "execution_count": 19,
   "metadata": {},
   "outputs": [],
   "source": [
    "model.box=0.005"
   ]
  },
  {
   "cell_type": "code",
   "execution_count": 20,
   "metadata": {},
   "outputs": [
    {
     "data": {
      "text/plain": [
       "0.31648121236611604"
      ]
     },
     "execution_count": 20,
     "metadata": {},
     "output_type": "execute_result"
    }
   ],
   "source": [
    "#home\n",
    "model.score(np.array([[38.7263483,-9.135931]]))"
   ]
  },
  {
   "cell_type": "code",
   "execution_count": 21,
   "metadata": {},
   "outputs": [
    {
     "data": {
      "text/plain": [
       "0.24441630287814797"
      ]
     },
     "execution_count": 21,
     "metadata": {},
     "output_type": "execute_result"
    }
   ],
   "source": [
    "#office\n",
    "model.score(np.array([[38.7104174,-9.1417113]]))"
   ]
  },
  {
   "cell_type": "code",
   "execution_count": 22,
   "metadata": {},
   "outputs": [
    {
     "data": {
      "text/plain": [
       "array([9.52086021])"
      ]
     },
     "execution_count": 22,
     "metadata": {},
     "output_type": "execute_result"
    }
   ],
   "source": [
    "from sklearn.mixture import GaussianMixture\n",
    "bhvr = GaussianMixture()\n",
    "bhvr.means_ = model._SpatialModel__means\n",
    "bhvr.covariances_ = model._SpatialModel__covs\n",
    "bhvr.weights_ = model._weights\n",
    "\n",
    "bhvr.precisions_cholesky_ = np.linalg.cholesky(\n",
    "    np.linalg.inv(model._SpatialModel__covs)).transpose((0, 2, 1))\n",
    "\n",
    "bhvr.score_samples(np.array([[38.7263483,-9.135931]]))"
   ]
  },
  {
   "cell_type": "code",
   "execution_count": 23,
   "metadata": {},
   "outputs": [
    {
     "data": {
      "text/plain": [
       "0.025810430728235006"
      ]
     },
     "execution_count": 23,
     "metadata": {},
     "output_type": "execute_result"
    }
   ],
   "source": [
    "np.prod(1-bhvr.predict_proba(np.array([[38.7263483,-9.135931]])))"
   ]
  },
  {
   "cell_type": "code",
   "execution_count": 24,
   "metadata": {},
   "outputs": [
    {
     "data": {
      "text/plain": [
       "array([[38.7102492, -9.139562 ],\n",
       "       [38.7265033, -9.1334308]])"
      ]
     },
     "execution_count": 24,
     "metadata": {},
     "output_type": "execute_result"
    }
   ],
   "source": [
    "limits2 = np.array([[data2.latitude.min(), data2.longitude.min()],[data2.latitude.max(), data2.longitude.max()]])\n",
    "limits2"
   ]
  },
  {
   "cell_type": "code",
   "execution_count": 25,
   "metadata": {},
   "outputs": [
    {
     "name": "stderr",
     "output_type": "stream",
     "text": [
      "/Users/adrianai/Desktop/aiml/kuberspatiotemporal/src/kuberspatiotemporal/base.py:443: RuntimeWarning: invalid value encountered in true_divide\n",
      "  self._weights /= np.sum(self._weights)\n"
     ]
    },
    {
     "ename": "AttributeError",
     "evalue": "'Logger' object has no attribute 'Error'",
     "output_type": "error",
     "traceback": [
      "\u001b[0;31m---------------------------------------------------------------------------\u001b[0m",
      "\u001b[0;31mAttributeError\u001b[0m                            Traceback (most recent call last)",
      "\u001b[0;32m<ipython-input-25-67280f6ad9b2>\u001b[0m in \u001b[0;36m<module>\u001b[0;34m\u001b[0m\n\u001b[1;32m      1\u001b[0m model2 = SpatialModel(n_dim=2, min_eigval=1e-5, nonparametric=False, n_iterations=200, limits=limits2, n_components=2,\n\u001b[1;32m      2\u001b[0m                     scaling_parameter=0.25, loa=True)\n\u001b[0;32m----> 3\u001b[0;31m \u001b[0mmodel2\u001b[0m\u001b[0;34m.\u001b[0m\u001b[0mfit\u001b[0m\u001b[0;34m(\u001b[0m\u001b[0mdata2\u001b[0m\u001b[0;34m.\u001b[0m\u001b[0mvalues\u001b[0m\u001b[0;34m)\u001b[0m\u001b[0;34m\u001b[0m\u001b[0;34m\u001b[0m\u001b[0m\n\u001b[0m",
      "\u001b[0;32m~/Desktop/aiml/kuberspatiotemporal/src/kuberspatiotemporal/base.py\u001b[0m in \u001b[0;36mfit\u001b[0;34m(self, data, y)\u001b[0m\n\u001b[1;32m    591\u001b[0m             \u001b[0mself\u001b[0m\u001b[0;34m.\u001b[0m\u001b[0m__online\u001b[0m\u001b[0;34m(\u001b[0m\u001b[0mdata\u001b[0m\u001b[0;34m)\u001b[0m\u001b[0;34m\u001b[0m\u001b[0;34m\u001b[0m\u001b[0m\n\u001b[1;32m    592\u001b[0m         \u001b[0;32melse\u001b[0m\u001b[0;34m:\u001b[0m\u001b[0;34m\u001b[0m\u001b[0;34m\u001b[0m\u001b[0m\n\u001b[0;32m--> 593\u001b[0;31m             \u001b[0mself\u001b[0m\u001b[0;34m.\u001b[0m\u001b[0m__batch\u001b[0m\u001b[0;34m(\u001b[0m\u001b[0mdata\u001b[0m\u001b[0;34m)\u001b[0m\u001b[0;34m\u001b[0m\u001b[0;34m\u001b[0m\u001b[0m\n\u001b[0m\u001b[1;32m    594\u001b[0m \u001b[0;34m\u001b[0m\u001b[0m\n\u001b[1;32m    595\u001b[0m         \u001b[0;32mreturn\u001b[0m \u001b[0mself\u001b[0m\u001b[0;34m\u001b[0m\u001b[0;34m\u001b[0m\u001b[0m\n",
      "\u001b[0;32m~/Desktop/aiml/kuberspatiotemporal/src/kuberspatiotemporal/base.py\u001b[0m in \u001b[0;36m__batch\u001b[0;34m(self, data)\u001b[0m\n\u001b[1;32m    348\u001b[0m                 \u001b[0;32mraise\u001b[0m \u001b[0mValueError\u001b[0m\u001b[0;34m(\u001b[0m\u001b[0;34mf\"Wrong number input dimensions: {data.shape[1]} != {self.n_dim}\"\u001b[0m\u001b[0;34m)\u001b[0m\u001b[0;34m\u001b[0m\u001b[0;34m\u001b[0m\u001b[0m\n\u001b[1;32m    349\u001b[0m \u001b[0;34m\u001b[0m\u001b[0m\n\u001b[0;32m--> 350\u001b[0;31m             \u001b[0mresponsibilities\u001b[0m\u001b[0;34m,\u001b[0m \u001b[0mtemp\u001b[0m\u001b[0;34m,\u001b[0m \u001b[0mscore\u001b[0m \u001b[0;34m=\u001b[0m \u001b[0mself\u001b[0m\u001b[0;34m.\u001b[0m\u001b[0m__expect\u001b[0m\u001b[0;34m(\u001b[0m\u001b[0mdata\u001b[0m\u001b[0;34m)\u001b[0m\u001b[0;34m\u001b[0m\u001b[0;34m\u001b[0m\u001b[0m\n\u001b[0m\u001b[1;32m    351\u001b[0m \u001b[0;34m\u001b[0m\u001b[0m\n\u001b[1;32m    352\u001b[0m             \u001b[0;31m# Update S_0\u001b[0m\u001b[0;34m\u001b[0m\u001b[0;34m\u001b[0m\u001b[0;34m\u001b[0m\u001b[0m\n",
      "\u001b[0;32m~/Desktop/aiml/kuberspatiotemporal/src/kuberspatiotemporal/base.py\u001b[0m in \u001b[0;36m__expect\u001b[0;34m(self, data)\u001b[0m\n\u001b[1;32m    256\u001b[0m \u001b[0;34m\u001b[0m\u001b[0m\n\u001b[1;32m    257\u001b[0m         \u001b[0;32mif\u001b[0m \u001b[0mnp\u001b[0m\u001b[0;34m.\u001b[0m\u001b[0many\u001b[0m\u001b[0;34m(\u001b[0m\u001b[0mnp\u001b[0m\u001b[0;34m.\u001b[0m\u001b[0misnan\u001b[0m\u001b[0;34m(\u001b[0m\u001b[0mresponsibilities\u001b[0m\u001b[0;34m)\u001b[0m\u001b[0;34m)\u001b[0m\u001b[0;34m:\u001b[0m\u001b[0;34m\u001b[0m\u001b[0;34m\u001b[0m\u001b[0m\n\u001b[0;32m--> 258\u001b[0;31m             logger.Error(\n\u001b[0m\u001b[1;32m    259\u001b[0m                 \u001b[0;34m\"NaN in responsibilities (%f). Please revise your random start values\"\u001b[0m\u001b[0;34m,\u001b[0m\u001b[0;34m\u001b[0m\u001b[0;34m\u001b[0m\u001b[0m\n\u001b[1;32m    260\u001b[0m                 \u001b[0mnp\u001b[0m\u001b[0;34m.\u001b[0m\u001b[0msum\u001b[0m\u001b[0;34m(\u001b[0m\u001b[0mnp\u001b[0m\u001b[0;34m.\u001b[0m\u001b[0misnan\u001b[0m\u001b[0;34m(\u001b[0m\u001b[0mresponsibilities\u001b[0m\u001b[0;34m)\u001b[0m\u001b[0;34m)\u001b[0m\u001b[0;34m,\u001b[0m\u001b[0;34m\u001b[0m\u001b[0;34m\u001b[0m\u001b[0m\n",
      "\u001b[0;31mAttributeError\u001b[0m: 'Logger' object has no attribute 'Error'"
     ]
    }
   ],
   "source": [
    "model2 = SpatialModel(n_dim=2, min_eigval=1e-5, nonparametric=False, n_iterations=200, limits=limits2, n_components=2,\n",
    "                    scaling_parameter=0.25, loa=True)\n",
    "model2.fit(data2.values)"
   ]
  },
  {
   "cell_type": "code",
   "execution_count": null,
   "metadata": {},
   "outputs": [],
   "source": [
    "model2.box=0.005"
   ]
  },
  {
   "cell_type": "code",
   "execution_count": null,
   "metadata": {},
   "outputs": [],
   "source": [
    "#home\n",
    "model2.score(np.array([[38.7263483,-9.135931]]))"
   ]
  },
  {
   "cell_type": "code",
   "execution_count": null,
   "metadata": {},
   "outputs": [],
   "source": [
    "#office\n",
    "model2.score(np.array([[38.7104174,-9.1417113]]))"
   ]
  },
  {
   "cell_type": "code",
   "execution_count": null,
   "metadata": {},
   "outputs": [],
   "source": [
    "f, ((ax1, ax2)) = plt.subplots(1,2, figsize=(18, 10))\n",
    "ax1.scatter(data2.latitude, data2.longitude, marker='o',\n",
    "            s=25, edgecolor='k')\n",
    "ax1.set_title('data')\n",
    "\n",
    "make_ellipses(model2, ax2)\n",
    "ax2.scatter(data2.latitude, data2.longitude,\n",
    "            s=25, edgecolor='k')\n",
    "ax2.set_title('ellipses')"
   ]
  },
  {
   "cell_type": "markdown",
   "metadata": {},
   "source": [
    "## 3.1 Prediction grid"
   ]
  },
  {
   "cell_type": "code",
   "execution_count": 24,
   "metadata": {},
   "outputs": [],
   "source": [
    "from typing import Union\n",
    "from sklearn.mixture import GaussianMixture, BayesianGaussianMixture\n",
    "from scipy.stats import mvn\n",
    "from scipy.stats._multivariate import _squeeze_output\n",
    "\n",
    "def is_broadcastable(a: Union[float, np.ndarray], b: Union[float, np.ndarray]) -> bool:\n",
    "    r\"\"\"Checks whether two objects can be\n",
    "    `broadcast to each other <https://stackoverflow.com/a/47244284>`_\n",
    "    \"\"\"\n",
    "    return all((m == n) or (m == 1) or (n == 1) for m, n in zip(a.shape[::-1], b.shape[::-1]))\n",
    "\n",
    "def boxed_cumulative(gmm: Union[GaussianMixture, BayesianGaussianMixture],\n",
    "                     centers: np.ndarray, width: Union[float, np.ndarray],\n",
    "                     maxpts: float = None, abseps=1e-5, releps=1e-5) -> Union[float, np.ndarray]:\n",
    "    r\"\"\"Compute the *boxed* cumulative density of a Gaussian Mixture Model function given the centers and\n",
    "    widths of one or more intervals.\n",
    "\n",
    "    Parameters\n",
    "    ----------\n",
    "    centers : ndarray\n",
    "        The centers of the boxes to compute the cumulative function for. Row matrix\n",
    "        of points. Number of columns must match the dimension of the mean parameter.\n",
    "    width : float or ndarray\n",
    "        The width of the box. Must be able to be broadcast to the first parameter.\n",
    "    mean : ndarray\n",
    "        See :data:`scipy.stats.multivariate_normal`\n",
    "    cov : ndarray\n",
    "        See :data:`scipy.stats.multivariate_normal`\n",
    "    maxpts : float\n",
    "        See :data:`scipy.stats.multivariate_normal`\n",
    "    abseps : float\n",
    "        See :data:`scipy.stats.multivariate_normal`\n",
    "    releps : float\n",
    "        See :data:`scipy.stats.multivariate_normal`\n",
    "    \"\"\"\n",
    "    # XXX SU->SU: Docstring incomplete / requires checking\n",
    "    return np.sum(\n",
    "        [\n",
    "            weight *\n",
    "            boxed_cdf(centers, width, mean, sigma, maxpts, abseps, releps)\n",
    "            for sigma, mean, weight in zip(gmm.covariances_, gmm.means_, gmm.weights_)\n",
    "        ]\n",
    "    )\n",
    "\n",
    "\n",
    "def boxed_cdf(\n",
    "        centers: np.ndarray, width: Union[float, np.array],\n",
    "        mean: np.ndarray, cov: np.ndarray,\n",
    "        maxpts: float = None, abseps=1e-5, releps=1e-5) -> Union[float, np.ndarray]:\n",
    "    \"\"\"\n",
    "    Compute the *boxed* cumulative density function given the centers and\n",
    "    widths of one or more intervals.\n",
    "\n",
    "    Parameters\n",
    "    ----------\n",
    "    centers : ndarray\n",
    "        The centers of the boxes to compute the cumulative function for. Row matrix\n",
    "        of points. Number of columns must match the dimension of the mean parameter.\n",
    "    width : float or ndarray\n",
    "        The width of the box. Must be able to be broadcast to the first parameter.\n",
    "    mean : ndarray\n",
    "        See :data:`scipy.stats.multivariate_normal`\n",
    "    cov : ndarray\n",
    "        See :data:`scipy.stats.multivariate_normal`\n",
    "    maxpts : float\n",
    "        See :data:`scipy.stats.multivariate_normal`\n",
    "    abseps : float\n",
    "        See :data:`scipy.stats.multivariate_normal`\n",
    "    releps : float\n",
    "        See :data:`scipy.stats.multivariate_normal`\n",
    "\n",
    "    Returns\n",
    "    -------\n",
    "    cdf : ndarray or scalar\n",
    "        Cumulative distribution function evaluated at `x`\n",
    "\n",
    "\n",
    "    Notes\n",
    "    -----\n",
    "    The code is inspired by scipy.stats._multivariate.\n",
    "\n",
    "    \"\"\"\n",
    "    # XXX SU->SU: improve doc string. Missing several parameters\n",
    "\n",
    "    dim = mean.size\n",
    "\n",
    "    # Increase dimensionality to 2D if necessary\n",
    "    centers = np.atleast_2d(centers)\n",
    "    width = np.atleast_2d(width)\n",
    "\n",
    "    # check if dimensions are compatible\n",
    "    assert centers.shape[1] == dim\n",
    "    assert is_broadcastable(centers, width)\n",
    "\n",
    "    # We construct a matrix with the intervals defined in the rows\n",
    "    # the first half of the components are the lower bound,\n",
    "    # the second half the upper bound.\n",
    "\n",
    "    lower_upper = np.hstack((centers-width/2., centers+width/2.))\n",
    "\n",
    "    if not maxpts:\n",
    "        maxpts = 1000000 * dim\n",
    "\n",
    "    # mvnun expects 1-d arguments, so process points sequentially\n",
    "    # We apply the computation along the last axis, so that we\n",
    "    # process the rows in parallel.\n",
    "\n",
    "    out = np.apply_along_axis(\n",
    "        lambda stacked: mvn.mvnun(  # Computes the boxed CDF (fortran wrapper)\n",
    "            stacked[0:dim],         # First columns represent the lower bound\n",
    "            stacked[dim:],          # Last columns represent the upper bound\n",
    "            mean, cov,              # The parameters of the normal distribution\n",
    "            maxpts, abseps, releps  # Parameters of the algorithm\n",
    "        )[0], -1, lower_upper\n",
    "    )\n",
    "    if np.isnan(out):\n",
    "        out = np.array([0])\n",
    "\n",
    "    return _squeeze_output(out)"
   ]
  },
  {
   "cell_type": "code",
   "execution_count": 25,
   "metadata": {},
   "outputs": [],
   "source": [
    "from matplotlib.colors import to_hex\n",
    "import matplotlib.pyplot as plt\n",
    "from ipyleaflet import (\n",
    "    Rectangle\n",
    ")\n",
    "def pcolorOnMap(xx: np.ndarray,\n",
    "                yy: np.ndarray,\n",
    "                zz: np.ndarray,\n",
    "                samples: np.ndarray = None):\n",
    "    r\"\"\"\n",
    "    Helper plot function for displaying a grid of rectangles on a map.\n",
    "\n",
    "    Parameters\n",
    "    ----------\n",
    "    xx: shape (m, n)\n",
    "        Array created by :func:`numpy.meshgrid`\n",
    "\n",
    "    yy: shape (m, n)\n",
    "        Array created by :func:`numpy.meshgrid`\n",
    "\n",
    "    zz: shape (m, n)\n",
    "        Function values of a function :math:`f(xx,yy)`.\n",
    "        Values of the range 0 to 1.\n",
    "\n",
    "    samples: shape(2,k)\n",
    "        Samples (:math:`k`) to be displayed on the map.\n",
    "\n",
    "    Notes\n",
    "    -----\n",
    "    Only implemented if  `ipyleaflet <https://github.com/jupyter-widgets/ipyleaflet>`_ is installed.\n",
    "\n",
    "    \"\"\"\n",
    "    width = (0.5*(xx[0, 1]-xx[0, 0]), 0.5*(yy[1, 0]-yy[0, 0]))\n",
    "    center = (0.5*(xx[0, -1]+xx[0, 0]), 0.5*(yy[-1, 0]+yy[0, 0]))\n",
    "\n",
    "    boxes = np.array([xx.flatten(), yy.flatten()]).T\n",
    "\n",
    "    cmap = plt.cm.get_cmap(\"viridis\")\n",
    "    world = Map(center=center, zoom=13)\n",
    "\n",
    "    if samples is not None:\n",
    "        for loc in samples:\n",
    "            circle_marker = CircleMarker()\n",
    "            circle_marker.location = loc.tolist()\n",
    "            circle_marker.radius = 2\n",
    "            circle_marker.color = \"red\"\n",
    "            circle_marker.fill_color = \"red\"\n",
    "            world.add_layer(circle_marker)\n",
    "\n",
    "    for box, value in zip(boxes, zz.flatten()):\n",
    "        message = HTML()\n",
    "        message.value = f\"{value*100:.1f}%\"\n",
    "        color = cmap(value/np.max(zz))\n",
    "        color_hex = to_hex(color, keep_alpha=False)\n",
    "        rectangle = Rectangle(bounds=((box[0] - width[0], box[1] - width[1]),\n",
    "                                      (box[0] + width[0], box[1] + width[1])),\n",
    "                              weight=0, fill_color=color_hex, stroke=False, fill_opacity=0.5)\n",
    "        world.add_layer(rectangle)\n",
    "        rectangle.popup = message\n",
    "\n",
    "    return world"
   ]
  },
  {
   "cell_type": "code",
   "execution_count": 26,
   "metadata": {},
   "outputs": [
    {
     "data": {
      "text/plain": [
       "array([[38.72747758, -9.13362626],\n",
       "       [38.70889852, -9.13830447],\n",
       "       [38.72371535, -9.19176275],\n",
       "       ...,\n",
       "       [38.72564449, -9.13392939],\n",
       "       [38.72580939, -9.13334127],\n",
       "       [38.70920661, -9.13991042]])"
      ]
     },
     "execution_count": 26,
     "metadata": {},
     "output_type": "execute_result"
    }
   ],
   "source": [
    "# Draw random value samples from the mixture distribution\n",
    "model.rvs(1000)"
   ]
  },
  {
   "cell_type": "code",
   "execution_count": 27,
   "metadata": {},
   "outputs": [
    {
     "data": {
      "application/vnd.jupyter.widget-view+json": {
       "model_id": "d1221c7aec1d4b5c8c15ce31f5e14a8b",
       "version_major": 2,
       "version_minor": 0
      },
      "text/plain": [
       "Map(center=[38.73062475208813, -9.266634266442829], controls=(ZoomControl(options=['position', 'zoom_in_text',…"
      ]
     },
     "metadata": {},
     "output_type": "display_data"
    }
   ],
   "source": [
    "from ipywidgets import interact, interactive, fixed, interact_manual, HTML\n",
    "\n",
    "steps=20\n",
    "# Acquire some sample for getting the boundaries\n",
    "samples = model.rvs(1000)\n",
    "\n",
    "# pick min and max values but widen interval by 25%\n",
    "max_ = np.max(samples, axis=0)\n",
    "min_ = np.min(samples, axis=0)\n",
    "width = (max_-min_)\n",
    "\n",
    "max_ += width * 0.25\n",
    "min_ -= width * 0.25\n",
    "width = (max_-min_)\n",
    "\n",
    "# Compute the probability for each *combination* of x/y values\n",
    "\n",
    "# we compare sklearn.mixtures.GaussianMixture.score_samples (log if the PDF)\n",
    "# with our B-CDF approach\n",
    "\n",
    "xx, yy = np.meshgrid(\n",
    "    np.linspace(min_[0], max_[0], steps),\n",
    "    np.linspace(min_[1], max_[1], steps),\n",
    ")\n",
    "scores = np.zeros(xx.shape)\n",
    "probabilities = np.zeros(xx.shape)\n",
    "probabilities_ = np.zeros(xx.shape)\n",
    "\n",
    "\n",
    "for i in range(xx.shape[0]):\n",
    "    for j in range(xx.shape[1]):\n",
    "        center = [[xx[i, j], yy[i, j]]]\n",
    "        probabilities[i, j] =  np.sum(\n",
    "        [\n",
    "            weight *\n",
    "            boxed_cdf(center, width/steps, mean, sigma, maxpts=None, abseps=1e-5, releps=1e-5)\n",
    "            for sigma, mean, weight in zip(model._SpatialModel__covs, model._SpatialModel__means, model._weights)\n",
    "        ]\n",
    "    )\n",
    "\n",
    "\n",
    "display(pcolorOnMap(xx,yy,probabilities, model._SpatialModel__means))\n"
   ]
  },
  {
   "cell_type": "code",
   "execution_count": 28,
   "metadata": {},
   "outputs": [],
   "source": [
    "from kuberspatiotemporal.tools import make_ellipses"
   ]
  },
  {
   "cell_type": "code",
   "execution_count": 29,
   "metadata": {},
   "outputs": [
    {
     "data": {
      "text/plain": [
       "Text(0.5, 1.0, 'ellipses')"
      ]
     },
     "execution_count": 29,
     "metadata": {},
     "output_type": "execute_result"
    },
    {
     "data": {
      "image/png": "[encoded data removed]",
      "text/plain": [
       "<Figure size 1296x720 with 2 Axes>"
      ]
     },
     "metadata": {
      "needs_background": "light"
     },
     "output_type": "display_data"
    }
   ],
   "source": [
    "f, ((ax1, ax2)) = plt.subplots(1,2, figsize=(18, 10))\n",
    "ax1.scatter(data.latitude, data.longitude, marker='o',\n",
    "            s=25, edgecolor='k')\n",
    "ax1.set_title('data')\n",
    "\n",
    "make_ellipses(model, ax2)\n",
    "ax2.scatter(data.latitude, data.longitude,\n",
    "            s=25, edgecolor='k')\n",
    "ax2.set_title('ellipses')"
   ]
  },
  {
   "cell_type": "code",
   "execution_count": 30,
   "metadata": {},
   "outputs": [
    {
     "data": {
      "text/plain": [
       "SpatialModel(n_dim=2, n_components=100, nonparametric=True, scaling_parameter=1.5, decay=0.75, online_learning=False, n_iterations=200, score_threshold=None, random_reset=False, loa=True, _sufficient_statistics=`list of length 3, elements of shapes [(100,), (100, 2), (100, 2, 2)]`, _BaseModel__priors=Array (100,), _weights=Array (100,), limits=array([[38.6900006, -9.4216553],\n",
       "       [38.7855706, -9.0955802]]), min_eigval=1e-10, box=0.005, _SpatialModel__means=Array (100, 2), _SpatialModel__covs=Array (100, 2, 2))"
      ]
     },
     "execution_count": 30,
     "metadata": {},
     "output_type": "execute_result"
    }
   ],
   "source": [
    "model"
   ]
  },
  {
   "cell_type": "markdown",
   "metadata": {},
   "source": [
    "# 4. Learn Spatiotemporal Model "
   ]
  },
  {
   "cell_type": "code",
   "execution_count": null,
   "metadata": {},
   "outputs": [],
   "source": [
    "data.timestamp"
   ]
  },
  {
   "cell_type": "code",
   "execution_count": null,
   "metadata": {},
   "outputs": [],
   "source": [
    "# will be added to the spatial model and interpreted as continuous\n",
    "data['time'] = [ts.hour + ts.minute/60 + ts.second/3600 for ts in data.timestamp]\n",
    "# weekday will be part of another model\n",
    "data['weekday'] = [ts.dayofweek for ts in data.timestamp]"
   ]
  },
  {
   "cell_type": "code",
   "execution_count": null,
   "metadata": {},
   "outputs": [],
   "source": [
    "limits_ = [np.min(data[['latitude', 'longitude', 'time']].values, axis=0),np.max(data[['latitude', 'longitude', 'time']].values, axis=0)]"
   ]
  },
  {
   "cell_type": "code",
   "execution_count": null,
   "metadata": {},
   "outputs": [],
   "source": [
    "kst = CompoundModel(\n",
    "    n_dim=4,\n",
    "    n_iterations=200,\n",
    "    scaling_parameter=1.1,\n",
    "    nonparametric=True,\n",
    "    online_learning=False,\n",
    "    score_threshold=0.85,  \n",
    "    features=[\n",
    "        Feature(SpatialModel(n_dim=3, min_eigval=1e-9, limits=limits_), [0, 1, 2]),\n",
    "        Feature(KuberModel(n_symbols=7), [3])\n",
    "    ],\n",
    ")"
   ]
  },
  {
   "cell_type": "code",
   "execution_count": null,
   "metadata": {},
   "outputs": [],
   "source": [
    "pipeline = make_pipeline(\n",
    "    make_column_transformer(\n",
    "        (FunctionTransformer(lambda x: np.array(x).reshape(-1, 1)), \"latitude\"),\n",
    "        (FunctionTransformer(lambda x: np.array(x).reshape(-1, 1)), \"longitude\"),\n",
    "        (FunctionTransformer(lambda x: np.array(x).reshape(-1, 1)), \"time\"),\n",
    "        (FunctionTransformer(lambda x: np.array(x).reshape(-1, 1)), \"weekday\"),\n",
    "    ),\n",
    "    kst,\n",
    ")"
   ]
  },
  {
   "cell_type": "code",
   "execution_count": null,
   "metadata": {},
   "outputs": [],
   "source": [
    "pipeline.fit(data[['latitude', 'longitude', 'time', 'weekday']])"
   ]
  },
  {
   "cell_type": "code",
   "execution_count": null,
   "metadata": {},
   "outputs": [],
   "source": [
    "pipeline.predict(data[['latitude', 'longitude', 'time', 'weekday']].loc[0:2])"
   ]
  },
  {
   "cell_type": "code",
   "execution_count": null,
   "metadata": {},
   "outputs": [],
   "source": [
    "kst.__expect(data[['latitude', 'longitude', 'time', 'weekday']].loc[0:2])"
   ]
  },
  {
   "cell_type": "code",
   "execution_count": null,
   "metadata": {},
   "outputs": [],
   "source": [
    "kst.features[1].model._KuberModel__pmf"
   ]
  },
  {
   "cell_type": "code",
   "execution_count": null,
   "metadata": {},
   "outputs": [],
   "source": [
    "data[['latitude', 'longitude', 'time', 'weekday']].loc[0]"
   ]
  },
  {
   "cell_type": "code",
   "execution_count": null,
   "metadata": {},
   "outputs": [],
   "source": [
    "kst"
   ]
  },
  {
   "cell_type": "code",
   "execution_count": null,
   "metadata": {},
   "outputs": [],
   "source": [
    "pipeline.score(data[['latitude', 'longitude', 'time', 'weekday']])"
   ]
  },
  {
   "cell_type": "code",
   "execution_count": null,
   "metadata": {},
   "outputs": [],
   "source": []
  }
 ],
 "metadata": {
  "hide_input": false,
  "kernelspec": {
   "display_name": "Python3 (kuberspatiotemporal)",
   "language": "python",
   "name": "python_kuberspatiotemporal"
  },
  "language_info": {
   "codemirror_mode": {
    "name": "ipython",
    "version": 3
   },
   "file_extension": ".py",
   "mimetype": "text/x-python",
   "name": "python",
   "nbconvert_exporter": "python",
   "pygments_lexer": "ipython3",
   "version": "3.7.2"
  }
 },
 "nbformat": 4,
 "nbformat_minor": 4
}
