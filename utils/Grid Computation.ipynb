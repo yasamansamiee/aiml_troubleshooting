{
 "cells": [
  {
   "cell_type": "markdown",
   "metadata": {},
   "source": [
    "# 1. Introduction"
   ]
  },
  {
   "cell_type": "markdown",
   "metadata": {},
   "source": [
    "## 1.1 Imports\n",
    "Import libraries here."
   ]
  },
  {
   "cell_type": "code",
   "execution_count": null,
   "metadata": {},
   "outputs": [],
   "source": [
    "import pandas as pd\n",
    "import numpy as np"
   ]
  },
  {
   "cell_type": "code",
   "execution_count": null,
   "metadata": {},
   "outputs": [],
   "source": [
    "from kuberspatiotemporal import CompoundModel, Feature, SpatialModel, KuberModel\n",
    "from kuberspatiotemporal.tools import make_ellipses"
   ]
  },
  {
   "cell_type": "code",
   "execution_count": null,
   "metadata": {},
   "outputs": [],
   "source": [
    "from sklearn.pipeline import make_pipeline, Pipeline\n",
    "from sklearn.compose import ColumnTransformer, make_column_transformer\n",
    "from sklearn.preprocessing import FunctionTransformer"
   ]
  },
  {
   "cell_type": "markdown",
   "metadata": {},
   "source": [
    "# 2. Load Data"
   ]
  },
  {
   "cell_type": "code",
   "execution_count": null,
   "metadata": {},
   "outputs": [],
   "source": [
    "data = pd.read_json('data/adriana_dev.json')"
   ]
  },
  {
   "cell_type": "code",
   "execution_count": null,
   "metadata": {},
   "outputs": [],
   "source": [
    "data.head(2)"
   ]
  },
  {
   "cell_type": "code",
   "execution_count": null,
   "metadata": {},
   "outputs": [],
   "source": [
    "#data = data[data['timestamp']>'2020-03-14 09:33:14+00:00']"
   ]
  },
  {
   "cell_type": "code",
   "execution_count": null,
   "metadata": {},
   "outputs": [],
   "source": [
    "from ipyleaflet import Map, basemaps, basemap_to_tiles, Heatmap\n",
    "\n",
    "m = Map(center=(np.mean(data.latitude), np.mean(data.longitude)), zoom=10)\n",
    "heatmap = Heatmap(\n",
    "    locations=data[['latitude', 'longitude']].values.tolist(),\n",
    "    radius=20\n",
    ")\n",
    "m.add_layer(heatmap)\n",
    "\n",
    "m"
   ]
  },
  {
   "cell_type": "markdown",
   "metadata": {},
   "source": [
    "# 3. Learn Spatiotemporal Model - 4D"
   ]
  },
  {
   "cell_type": "code",
   "execution_count": null,
   "metadata": {},
   "outputs": [],
   "source": [
    "data['time'] = [ts.hour + ts.minute/60 + ts.second/3600 for ts in data.timestamp]\n",
    "data['weekday'] = [ts.dayofweek for ts in data.timestamp]"
   ]
  },
  {
   "cell_type": "code",
   "execution_count": null,
   "metadata": {},
   "outputs": [],
   "source": [
    "data"
   ]
  },
  {
   "cell_type": "code",
   "execution_count": null,
   "metadata": {},
   "outputs": [],
   "source": [
    "limits = [np.min(data[['latitude', 'longitude', 'time']].values, axis=0),np.max(data[['latitude', 'longitude', 'time']].values, axis=0)]"
   ]
  },
  {
   "cell_type": "code",
   "execution_count": null,
   "metadata": {},
   "outputs": [],
   "source": [
    "limits"
   ]
  },
  {
   "cell_type": "code",
   "execution_count": null,
   "metadata": {},
   "outputs": [],
   "source": [
    "kst = CompoundModel(\n",
    "    n_dim=4,\n",
    "    n_iterations=100,\n",
    "    scaling_parameter=1.1,\n",
    "    nonparametric=True,\n",
    "    online_learning=False,\n",
    "    loa=True,\n",
    "    features=[\n",
    "        Feature(SpatialModel(n_dim=3, min_eigval=1e-9, limits=limits), [0, 1, 2]),\n",
    "        Feature(KuberModel(n_symbols=7), [3])\n",
    "    ],\n",
    ")"
   ]
  },
  {
   "cell_type": "code",
   "execution_count": null,
   "metadata": {},
   "outputs": [],
   "source": [
    "pipeline = make_pipeline(\n",
    "    make_column_transformer(\n",
    "        (FunctionTransformer(lambda x: np.array(x).reshape(-1, 1)), \"latitude\"),\n",
    "        (FunctionTransformer(lambda x: np.array(x).reshape(-1, 1)), \"longitude\"),\n",
    "        (FunctionTransformer(lambda x: np.array(x).reshape(-1, 1)), \"time\"),\n",
    "        (FunctionTransformer(lambda x: np.array(x).reshape(-1, 1)), \"weekday\"),\n",
    "    ),\n",
    "    kst,\n",
    ")"
   ]
  },
  {
   "cell_type": "code",
   "execution_count": null,
   "metadata": {},
   "outputs": [],
   "source": [
    "pipeline.fit(data[['latitude', 'longitude', 'time', 'weekday']])"
   ]
  },
  {
   "cell_type": "code",
   "execution_count": null,
   "metadata": {},
   "outputs": [],
   "source": [
    "from typing import (\n",
    "    Iterable,\n",
    "    Tuple,\n",
    "    Union,\n",
    "    NamedTuple,\n",
    "    List\n",
    ")\n",
    "\n",
    "import numpy as np\n",
    "\n",
    "\n",
    "def subdivide(lower: np.ndarray, upper: np.ndarray) -> Tuple[np.ndarray, np.ndarray, np.ndarray]:\n",
    "    \"\"\"\n",
    "    Uniformely subdivides an interval into four smaller intervals\n",
    "    [extended_summary]\n",
    "    Parameters\n",
    "    ----------\n",
    "    lower : np.ndarray\n",
    "        (2,) lower bounds of the interval\n",
    "    upper : np.ndarray\n",
    "        (2,) upper bounds of the interval\n",
    "    Returns\n",
    "    -------\n",
    "    Tuple[np.ndarray,np.ndarray]\n",
    "        Returns new the new lower and upper bounds (4,2) as well as the new widths (2,)\n",
    "    \"\"\"\n",
    "\n",
    "    width = (upper - lower)/2\n",
    "    lowers = np.array(\n",
    "        [\n",
    "            lower,\n",
    "            np.array([lower[0], lower[1] + width[1]]),\n",
    "            np.array([lower[0] + width[0], lower[1]]),\n",
    "            lower + width,\n",
    "        ]\n",
    "    )\n",
    "    uppers = lowers + width\n",
    "\n",
    "    return lowers, uppers, width\n",
    "\n",
    "class Leaf(NamedTuple):\n",
    "    \"\"\"Class representing a leaf in a quadtree.\"\"\"\n",
    "    lower: np.ndarray\n",
    "    upper: np.ndarray\n",
    "    probability: float\n",
    "\n",
    "\n",
    "class Quadtree:\n",
    "    \"\"\"Class that represents a quadtree.\"\"\"\n",
    "\n",
    "    def __init__(self,\n",
    "                 model,\n",
    "                 t: float,\n",
    "                 time,\n",
    "                 day):\n",
    "        self.model = model\n",
    "        self.min_prob = t\n",
    "        self.leaves = []\n",
    "        self.threshold = t\n",
    "        self.time = time\n",
    "        self.day = day\n",
    "\n",
    "    def start(self,\n",
    "              lower: np.ndarray,\n",
    "              upper: np.ndarray):\n",
    "        \"\"\"\n",
    "        Add a top level leaf to the tree\n",
    "\n",
    "        When you want to continue computation, just call descent multiple times.\n",
    "        When loading from disc, write the leaves manually in the `self.leaves` attribute.\n",
    "\n",
    "        Parameters\n",
    "        ----------\n",
    "        lower : np.ndarray\n",
    "            lower interval boundary\n",
    "        uppe : np.ndarray\n",
    "            upper interval boundary\n",
    "        \"\"\"\n",
    "\n",
    "        # why 1.0? laziness here but we can survive to make the very first subdivision in any case\n",
    "        self.leaves.append(Leaf(lower, upper, 1.0))\n",
    "\n",
    "    def expand(self, leaf: Leaf) -> List[Leaf]:\n",
    "        \"\"\"\n",
    "        Expands a leaf and returns a list of the children or\n",
    "        a list with itself (if the probability is below the threshold)\n",
    "\n",
    "        Parameters\n",
    "        ----------\n",
    "        leaf : Leaf\n",
    "            The leaf to expand\n",
    "\n",
    "        Returns\n",
    "        -------\n",
    "        List[Leaf]\n",
    "            Either list of four children or the initial leaf itself\n",
    "        \"\"\"\n",
    "        if leaf.probability < self.threshold:\n",
    "            return [leaf]\n",
    "        else:\n",
    "            lowers, uppers, delta = subdivide(leaf.lower, leaf.upper)\n",
    "            return [Leaf(lower, upper, self.model.score(np.concatenate((lower+delta/2, np.array([self.time,self.day])))[np.newaxis,:])) for lower, upper in zip(lowers, uppers)]\n",
    "\n",
    "\n",
    "    def descent(self, iterations: int):\n",
    "        \"\"\"\n",
    "        (Continue to) iterate over the leaves\n",
    "\n",
    "        [extended_summary]\n",
    "\n",
    "        Parameters\n",
    "        ----------\n",
    "        iterations : int\n",
    "            Number of iterations steps (refers to tree depth)\n",
    "        \"\"\"\n",
    "\n",
    "        for i in range(iterations): # pylint: disable=unused-variable\n",
    "\n",
    "            # expand all leaves returns a list of lists\n",
    "            expanded = [self.expand(leaf) for leaf in self.leaves]\n",
    "\n",
    "            # Recipe of how to flatten a list of lists:\n",
    "            # flat_list = [item for sublist in l for item in sublist]\n",
    "            self.leaves = [item for sublist in expanded for item in sublist]\n"
   ]
  },
  {
   "cell_type": "code",
   "execution_count": null,
   "metadata": {
    "code_folding": []
   },
   "outputs": [],
   "source": [
    "from ipyleaflet import Map, CircleMarker, Rectangle, LayerGroup\n",
    "from matplotlib.colors import to_hex\n",
    "from ipywidgets import interact, interactive, interact_manual, HTML\n",
    "import matplotlib.pyplot as plt\n",
    "import time\n",
    "\n",
    "def cndtn(day=2, hour=10, i=5):\n",
    "    \"\"\"Helper plot function for displaying a conditional model\"\"\"\n",
    "    start = time.time()\n",
    "    world.remove_layer(layer_rectangles)\n",
    "\n",
    "    layer_samples.clear_layers()\n",
    "    layer_rectangles.clear_layers()\n",
    "\n",
    "\n",
    "    # Acquire some sample for getting the boundaries\n",
    "    samples = kst.rvs(10000)\n",
    "    samples = samples[(samples[:,3]==day) & (samples[:,2]>=hour) & (samples[:,2]<hour+1)][:,0:2]\n",
    "\n",
    "    # pick min and max values but widen interval by 25%\n",
    "    max_ = np.max(samples, axis=0)\n",
    "    min_ = np.min(samples, axis=0)\n",
    "\n",
    "    width = max_ - min_\n",
    "\n",
    "    max_ += width * 0.25\n",
    "    min_ -= width * 0.25\n",
    "    width = max_ - min_\n",
    "\n",
    "    cmap = plt.cm.get_cmap(\"viridis\")\n",
    "    start1 = time.time()\n",
    "    \n",
    "    # Create Quadtree Object\n",
    "    kst.loa = False\n",
    "    kst.score_threshold = None\n",
    "    kst.quantiles = kst.get_score_threshold(data[['latitude', 'longitude', 'time', 'weekday']].values, lower_quantile=0, upper_quantile=0.3)\n",
    "\n",
    "    tree = Quadtree(model = kst, t = 0.005, time=hour, day=day)\n",
    "    tree.start(min_, max_)\n",
    "    tree.descent(i)\n",
    "    prob = 0\n",
    "    for leaf in tree.leaves:\n",
    "        \n",
    "        message = HTML()\n",
    "        message.value = f\"{leaf.probability}\"\n",
    "        prob += leaf.probability\n",
    "        color = cmap(leaf.probability)\n",
    "\n",
    "        color_hex = to_hex(color, keep_alpha=False)\n",
    "\n",
    "        rectangle = Rectangle(\n",
    "            bounds=(leaf.lower.tolist(), (leaf.upper.tolist())),\n",
    "            weight=1,\n",
    "            fill_color=color_hex,\n",
    "            stroke=True,\n",
    "            fill_opacity=0.5,\n",
    "        )\n",
    "\n",
    "        layer_rectangles.add_layer(rectangle)\n",
    "        rectangle.popup = message\n",
    "\n",
    "    world.add_layer(layer_rectangles)\n",
    "    print(\"Total probability: %s\" % (prob))\n",
    "    print(\"Granularity (max number of squares): %s\" % (4 ** i))\n",
    "    print(\"Grid Computation time: %s sec\" % (time.time() - start1))\n",
    "    print(\"Viz+Computation time: %s sec\" % (time.time() - start))"
   ]
  },
  {
   "cell_type": "code",
   "execution_count": null,
   "metadata": {},
   "outputs": [],
   "source": [
    "center = np.mean(data[['latitude', 'longitude']], axis=0).tolist()\n",
    "world = Map(center=center, zoom=13)\n",
    "world.layout.width = \"1200px\"\n",
    "world.layout.height = \"600px\"\n",
    "layer_samples = LayerGroup()\n",
    "layer_rectangles = LayerGroup()\n",
    "\n",
    "world.add_layer(layer_rectangles)\n",
    "world"
   ]
  },
  {
   "cell_type": "code",
   "execution_count": null,
   "metadata": {},
   "outputs": [],
   "source": [
    "interactive_plot = interactive(cndtn, hour=(0, 24), day=(0, 6, 1), i=(0, 20))\n",
    "display(interactive_plot)"
   ]
  },
  {
   "cell_type": "code",
   "execution_count": null,
   "metadata": {},
   "outputs": [],
   "source": []
  },
  {
   "cell_type": "code",
   "execution_count": null,
   "metadata": {},
   "outputs": [],
   "source": []
  }
 ],
 "metadata": {
  "hide_input": false,
  "kernelspec": {
   "display_name": "Python3 (kuberspatiotemporal)",
   "language": "python",
   "name": "python_kuberspatiotemporal"
  },
  "language_info": {
   "codemirror_mode": {
    "name": "ipython",
    "version": 3
   },
   "file_extension": ".py",
   "mimetype": "text/x-python",
   "name": "python",
   "nbconvert_exporter": "python",
   "pygments_lexer": "ipython3",
   "version": "3.7.2"
  }
 },
 "nbformat": 4,
 "nbformat_minor": 4
}
