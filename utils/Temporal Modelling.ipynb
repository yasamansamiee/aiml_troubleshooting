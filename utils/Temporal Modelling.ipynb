{
 "cells": [
  {
   "cell_type": "markdown",
   "metadata": {},
   "source": [
    "# 1. Introduction"
   ]
  },
  {
   "cell_type": "markdown",
   "metadata": {},
   "source": [
    "## 1.1 Imports\n",
    "Import libraries here."
   ]
  },
  {
   "cell_type": "code",
   "execution_count": 1,
   "metadata": {},
   "outputs": [],
   "source": [
    "import pandas as pd\n",
    "import numpy as np"
   ]
  },
  {
   "cell_type": "code",
   "execution_count": 2,
   "metadata": {},
   "outputs": [
    {
     "name": "stdout",
     "output_type": "stream",
     "text": [
      "kuberspatiotemporal.spatial\n"
     ]
    }
   ],
   "source": [
    "from kuberspatiotemporal import CompoundModel, Feature, SpatialModel, KuberModel\n",
    "from kuberspatiotemporal.tools import make_ellipses"
   ]
  },
  {
   "cell_type": "code",
   "execution_count": 3,
   "metadata": {},
   "outputs": [],
   "source": [
    "from sklearn.pipeline import make_pipeline, Pipeline\n",
    "from sklearn.compose import ColumnTransformer, make_column_transformer\n",
    "from sklearn.preprocessing import FunctionTransformer"
   ]
  },
  {
   "cell_type": "code",
   "execution_count": 4,
   "metadata": {},
   "outputs": [],
   "source": [
    "import matplotlib.pyplot as plt"
   ]
  },
  {
   "cell_type": "markdown",
   "metadata": {},
   "source": [
    "# 2. Load Data"
   ]
  },
  {
   "cell_type": "code",
   "execution_count": 5,
   "metadata": {},
   "outputs": [],
   "source": [
    "data = pd.read_json('data/spatial_data_lisboa.json')"
   ]
  },
  {
   "cell_type": "code",
   "execution_count": 6,
   "metadata": {},
   "outputs": [
    {
     "data": {
      "text/html": [
       "<div>\n",
       "<style scoped>\n",
       "    .dataframe tbody tr th:only-of-type {\n",
       "        vertical-align: middle;\n",
       "    }\n",
       "\n",
       "    .dataframe tbody tr th {\n",
       "        vertical-align: top;\n",
       "    }\n",
       "\n",
       "    .dataframe thead th {\n",
       "        text-align: right;\n",
       "    }\n",
       "</style>\n",
       "<table border=\"1\" class=\"dataframe\">\n",
       "  <thead>\n",
       "    <tr style=\"text-align: right;\">\n",
       "      <th></th>\n",
       "      <th>id</th>\n",
       "      <th>user_id</th>\n",
       "      <th>os</th>\n",
       "      <th>dataversion</th>\n",
       "      <th>appversion</th>\n",
       "      <th>encrypted</th>\n",
       "      <th>timestamp</th>\n",
       "      <th>latitude</th>\n",
       "      <th>longitude</th>\n",
       "      <th>organization_uid</th>\n",
       "      <th>score</th>\n",
       "      <th>accuracy</th>\n",
       "    </tr>\n",
       "  </thead>\n",
       "  <tbody>\n",
       "    <tr>\n",
       "      <th>0</th>\n",
       "      <td>1257521</td>\n",
       "      <td>lisboa</td>\n",
       "      <td>android</td>\n",
       "      <td>21</td>\n",
       "      <td>21</td>\n",
       "      <td>False</td>\n",
       "      <td>2019-06-07 12:12:55+00:00</td>\n",
       "      <td>38.710482</td>\n",
       "      <td>-9.139440</td>\n",
       "      <td>3</td>\n",
       "      <td>-1.0</td>\n",
       "      <td>-1</td>\n",
       "    </tr>\n",
       "    <tr>\n",
       "      <th>1</th>\n",
       "      <td>1257522</td>\n",
       "      <td>lisboa</td>\n",
       "      <td>android</td>\n",
       "      <td>21</td>\n",
       "      <td>21</td>\n",
       "      <td>False</td>\n",
       "      <td>2019-06-07 12:13:07+00:00</td>\n",
       "      <td>38.710491</td>\n",
       "      <td>-9.139443</td>\n",
       "      <td>3</td>\n",
       "      <td>-1.0</td>\n",
       "      <td>-1</td>\n",
       "    </tr>\n",
       "  </tbody>\n",
       "</table>\n",
       "</div>"
      ],
      "text/plain": [
       "        id user_id       os  dataversion  appversion  encrypted  \\\n",
       "0  1257521  lisboa  android           21          21      False   \n",
       "1  1257522  lisboa  android           21          21      False   \n",
       "\n",
       "                  timestamp   latitude  longitude  organization_uid  score  \\\n",
       "0 2019-06-07 12:12:55+00:00  38.710482  -9.139440                 3   -1.0   \n",
       "1 2019-06-07 12:13:07+00:00  38.710491  -9.139443                 3   -1.0   \n",
       "\n",
       "   accuracy  \n",
       "0        -1  \n",
       "1        -1  "
      ]
     },
     "execution_count": 6,
     "metadata": {},
     "output_type": "execute_result"
    }
   ],
   "source": [
    "data.head(2)"
   ]
  },
  {
   "cell_type": "code",
   "execution_count": 7,
   "metadata": {},
   "outputs": [],
   "source": [
    "# Filter office and home locations\n",
    "data = data[['latitude', 'longitude', 'timestamp']]\n",
    "data = data[(\n",
    "    (((data['latitude']>38.710104) & (data['latitude']<38.710648)) & ((data['longitude']>-9.139794) & (data['longitude']<-9.1389)))\n",
    " | (((data['latitude']>38.725828) & (data['latitude']<38.726512)) & ((data['longitude']>-9.133944) & (data['longitude']<-9.133169))))]\n",
    "data['time'] = [ts.hour + ts.minute/60 + ts.second/3600 for ts in data.timestamp]\n",
    "data['weekday'] = [ts.dayofweek for ts in data.timestamp]"
   ]
  },
  {
   "cell_type": "code",
   "execution_count": 8,
   "metadata": {},
   "outputs": [
    {
     "data": {
      "text/html": [
       "<div>\n",
       "<style scoped>\n",
       "    .dataframe tbody tr th:only-of-type {\n",
       "        vertical-align: middle;\n",
       "    }\n",
       "\n",
       "    .dataframe tbody tr th {\n",
       "        vertical-align: top;\n",
       "    }\n",
       "\n",
       "    .dataframe thead th {\n",
       "        text-align: right;\n",
       "    }\n",
       "</style>\n",
       "<table border=\"1\" class=\"dataframe\">\n",
       "  <thead>\n",
       "    <tr style=\"text-align: right;\">\n",
       "      <th></th>\n",
       "      <th>latitude</th>\n",
       "      <th>longitude</th>\n",
       "      <th>timestamp</th>\n",
       "      <th>time</th>\n",
       "      <th>weekday</th>\n",
       "    </tr>\n",
       "  </thead>\n",
       "  <tbody>\n",
       "    <tr>\n",
       "      <th>0</th>\n",
       "      <td>38.710482</td>\n",
       "      <td>-9.139440</td>\n",
       "      <td>2019-06-07 12:12:55+00:00</td>\n",
       "      <td>12.215278</td>\n",
       "      <td>4</td>\n",
       "    </tr>\n",
       "    <tr>\n",
       "      <th>1</th>\n",
       "      <td>38.710491</td>\n",
       "      <td>-9.139443</td>\n",
       "      <td>2019-06-07 12:13:07+00:00</td>\n",
       "      <td>12.218611</td>\n",
       "      <td>4</td>\n",
       "    </tr>\n",
       "    <tr>\n",
       "      <th>2</th>\n",
       "      <td>38.710490</td>\n",
       "      <td>-9.139442</td>\n",
       "      <td>2019-06-07 12:13:19+00:00</td>\n",
       "      <td>12.221944</td>\n",
       "      <td>4</td>\n",
       "    </tr>\n",
       "    <tr>\n",
       "      <th>3</th>\n",
       "      <td>38.710490</td>\n",
       "      <td>-9.139442</td>\n",
       "      <td>2019-06-07 12:28:51+00:00</td>\n",
       "      <td>12.480833</td>\n",
       "      <td>4</td>\n",
       "    </tr>\n",
       "    <tr>\n",
       "      <th>10</th>\n",
       "      <td>38.726250</td>\n",
       "      <td>-9.133597</td>\n",
       "      <td>2019-06-18 09:05:45+00:00</td>\n",
       "      <td>9.095833</td>\n",
       "      <td>1</td>\n",
       "    </tr>\n",
       "    <tr>\n",
       "      <th>...</th>\n",
       "      <td>...</td>\n",
       "      <td>...</td>\n",
       "      <td>...</td>\n",
       "      <td>...</td>\n",
       "      <td>...</td>\n",
       "    </tr>\n",
       "    <tr>\n",
       "      <th>8394</th>\n",
       "      <td>38.710482</td>\n",
       "      <td>-9.139465</td>\n",
       "      <td>2019-11-27 12:08:56+00:00</td>\n",
       "      <td>12.148889</td>\n",
       "      <td>2</td>\n",
       "    </tr>\n",
       "    <tr>\n",
       "      <th>8395</th>\n",
       "      <td>38.710482</td>\n",
       "      <td>-9.139465</td>\n",
       "      <td>2019-11-27 12:24:02+00:00</td>\n",
       "      <td>12.400556</td>\n",
       "      <td>2</td>\n",
       "    </tr>\n",
       "    <tr>\n",
       "      <th>8405</th>\n",
       "      <td>38.710483</td>\n",
       "      <td>-9.139454</td>\n",
       "      <td>2019-11-27 14:54:35+00:00</td>\n",
       "      <td>14.909722</td>\n",
       "      <td>2</td>\n",
       "    </tr>\n",
       "    <tr>\n",
       "      <th>8406</th>\n",
       "      <td>38.710483</td>\n",
       "      <td>-9.139454</td>\n",
       "      <td>2019-11-27 15:13:36+00:00</td>\n",
       "      <td>15.226667</td>\n",
       "      <td>2</td>\n",
       "    </tr>\n",
       "    <tr>\n",
       "      <th>8407</th>\n",
       "      <td>38.710483</td>\n",
       "      <td>-9.139450</td>\n",
       "      <td>2019-11-27 15:24:47+00:00</td>\n",
       "      <td>15.413056</td>\n",
       "      <td>2</td>\n",
       "    </tr>\n",
       "  </tbody>\n",
       "</table>\n",
       "<p>6875 rows × 5 columns</p>\n",
       "</div>"
      ],
      "text/plain": [
       "       latitude  longitude                 timestamp       time  weekday\n",
       "0     38.710482  -9.139440 2019-06-07 12:12:55+00:00  12.215278        4\n",
       "1     38.710491  -9.139443 2019-06-07 12:13:07+00:00  12.218611        4\n",
       "2     38.710490  -9.139442 2019-06-07 12:13:19+00:00  12.221944        4\n",
       "3     38.710490  -9.139442 2019-06-07 12:28:51+00:00  12.480833        4\n",
       "10    38.726250  -9.133597 2019-06-18 09:05:45+00:00   9.095833        1\n",
       "...         ...        ...                       ...        ...      ...\n",
       "8394  38.710482  -9.139465 2019-11-27 12:08:56+00:00  12.148889        2\n",
       "8395  38.710482  -9.139465 2019-11-27 12:24:02+00:00  12.400556        2\n",
       "8405  38.710483  -9.139454 2019-11-27 14:54:35+00:00  14.909722        2\n",
       "8406  38.710483  -9.139454 2019-11-27 15:13:36+00:00  15.226667        2\n",
       "8407  38.710483  -9.139450 2019-11-27 15:24:47+00:00  15.413056        2\n",
       "\n",
       "[6875 rows x 5 columns]"
      ]
     },
     "metadata": {},
     "output_type": "display_data"
    },
    {
     "data": {
      "text/plain": [
       "array([[<matplotlib.axes._subplots.AxesSubplot object at 0x11d4fdbe0>]],\n",
       "      dtype=object)"
      ]
     },
     "metadata": {},
     "output_type": "display_data"
    },
    {
     "data": {
      "image/png": "[encoded data removed]",
      "text/plain": [
       "<Figure size 432x288 with 1 Axes>"
      ]
     },
     "metadata": {
      "needs_background": "light"
     },
     "output_type": "display_data"
    }
   ],
   "source": [
    "display(data, data.hist(column=\"weekday\", bins=6))"
   ]
  },
  {
   "cell_type": "markdown",
   "metadata": {},
   "source": [
    "# 3. Learn Weekday Model - 1D"
   ]
  },
  {
   "cell_type": "markdown",
   "metadata": {},
   "source": [
    "**scaling_parameter**\n",
    "\n",
    "The scaling parameter of the dirichlet proccess.\n",
    "\n",
    "**min_eigval**\n",
    "\n",
    "Important value. Minimum extend a cluster/component is allowed to have in one of its main directions. Prevents degenerated components. Read the documentation for details, defaults to `1e-2`."
   ]
  },
  {
   "cell_type": "code",
   "execution_count": 9,
   "metadata": {},
   "outputs": [],
   "source": [
    "model = KuberModel(n_symbols=7, n_components=7, loa=True)"
   ]
  },
  {
   "cell_type": "code",
   "execution_count": 10,
   "metadata": {},
   "outputs": [
    {
     "name": "stdout",
     "output_type": "stream",
     "text": [
      "Expext [[0.14037452 0.11133546 0.02943584 ... 0.17218851 0.04246732 0.2217363 ]\n",
      " [0.14037452 0.11133546 0.02943584 ... 0.17218851 0.04246732 0.2217363 ]\n",
      " [0.14037452 0.11133546 0.02943584 ... 0.17218851 0.04246732 0.2217363 ]\n",
      " ...\n",
      " [0.16978144 0.20100807 0.12025454 ... 0.21644254 0.0274958  0.22583942]\n",
      " [0.16978144 0.20100807 0.12025454 ... 0.21644254 0.0274958  0.22583942]\n",
      " [0.16978144 0.20100807 0.12025454 ... 0.21644254 0.0274958  0.22583942]]\n",
      "Expext [[0.15687254 0.11707316 0.02267349 ... 0.19116546 0.06919995 0.18342593]\n",
      " [0.15687254 0.11707316 0.02267349 ... 0.19116546 0.06919995 0.18342593]\n",
      " [0.15687254 0.11707316 0.02267349 ... 0.19116546 0.06919995 0.18342593]\n",
      " ...\n",
      " [0.30264537 0.3371495  0.14775044 ... 0.38329493 0.0714665  0.29799493]\n",
      " [0.30264537 0.3371495  0.14775044 ... 0.38329493 0.0714665  0.29799493]\n",
      " [0.30264537 0.3371495  0.14775044 ... 0.38329493 0.0714665  0.29799493]]\n",
      "Expext [[0.15686098 0.1170634  0.02267132 ... 0.19115225 0.06919258 0.18341808]\n",
      " [0.15686098 0.1170634  0.02267132 ... 0.19115225 0.06919258 0.18341808]\n",
      " [0.15686098 0.1170634  0.02267132 ... 0.19115225 0.06919258 0.18341808]\n",
      " ...\n",
      " [0.30264511 0.33714594 0.14774705 ... 0.38329635 0.07146409 0.29800387]\n",
      " [0.30264511 0.33714594 0.14774705 ... 0.38329635 0.07146409 0.29800387]\n",
      " [0.30264511 0.33714594 0.14774705 ... 0.38329635 0.07146409 0.29800387]]\n"
     ]
    },
    {
     "data": {
      "text/plain": [
       "KuberModel(n_dim=1, n_components=7, nonparametric=True, scaling_parameter=2.0, decay=0.75, online_learning=False, n_iterations=100, score_threshold=None, random_reset=False, loa=True, _sufficient_statistics=`list of length 2, elements of shapes [(7,), (7, 7)]`, _BaseModel__priors=Array (7,), _weights=Array (7,), n_symbols=7)"
      ]
     },
     "execution_count": 10,
     "metadata": {},
     "output_type": "execute_result"
    }
   ],
   "source": [
    "model.fit(data[['weekday']].values)"
   ]
  },
  {
   "cell_type": "code",
   "execution_count": 11,
   "metadata": {},
   "outputs": [
    {
     "data": {
      "text/plain": [
       "KuberModel(n_dim=1, n_components=7, nonparametric=True, scaling_parameter=2.0, decay=0.75, online_learning=False, n_iterations=100, score_threshold=None, random_reset=False, loa=True, _sufficient_statistics=`list of length 2, elements of shapes [(7,), (7, 7)]`, _BaseModel__priors=Array (7,), _weights=Array (7,), n_symbols=7)"
      ]
     },
     "execution_count": 11,
     "metadata": {},
     "output_type": "execute_result"
    }
   ],
   "source": [
    "model"
   ]
  },
  {
   "cell_type": "code",
   "execution_count": 12,
   "metadata": {},
   "outputs": [],
   "source": [
    "# weights \n",
    "# model._weights"
   ]
  },
  {
   "cell_type": "code",
   "execution_count": 13,
   "metadata": {},
   "outputs": [
    {
     "data": {
      "text/plain": [
       "array([0.21255742, 0.34399866, 0.16468015, 0.00897492, 0.1219702 ,\n",
       "       0.08847254, 0.0593461 ])"
      ]
     },
     "execution_count": 13,
     "metadata": {},
     "output_type": "execute_result"
    }
   ],
   "source": [
    "model._weights"
   ]
  },
  {
   "cell_type": "code",
   "execution_count": 14,
   "metadata": {},
   "outputs": [],
   "source": [
    "model.box = None"
   ]
  },
  {
   "cell_type": "code",
   "execution_count": 19,
   "metadata": {},
   "outputs": [
    {
     "name": "stdout",
     "output_type": "stream",
     "text": [
      "Expext [[0.30264511 0.33714594 0.14774705 0.69142143 0.38329635 0.07146409\n",
      "  0.29800387]]\n"
     ]
    },
    {
     "data": {
      "text/plain": [
       "0.25374412502892907"
      ]
     },
     "execution_count": 19,
     "metadata": {},
     "output_type": "execute_result"
    }
   ],
   "source": [
    "model.score(np.array([[2]]))"
   ]
  },
  {
   "cell_type": "code",
   "execution_count": 20,
   "metadata": {},
   "outputs": [
    {
     "name": "stdout",
     "output_type": "stream",
     "text": [
      "Expext [[0.03899954 0.17834361 0.02397796 0.03102119 0.00949288 0.2687511\n",
      "  0.05561739]]\n",
      "Expext [[0.03899954 0.17834361 0.02397796 0.03102119 0.00949288 0.2687511\n",
      "  0.05561739]]\n",
      "0.09913575682360942\n",
      "Expext [[2.03011801e-01 1.75988196e-01 3.47543703e-01 1.51618026e-02\n",
      "  1.33426486e-06 1.27868476e-01 2.91738871e-01]]\n",
      "Expext [[2.03011801e-01 1.75988196e-01 3.47543703e-01 1.51618026e-02\n",
      "  1.33426486e-06 1.27868476e-01 2.91738871e-01]]\n",
      "0.17673370662750176\n",
      "Expext [[0.30264511 0.33714594 0.14774705 0.69142143 0.38329635 0.07146409\n",
      "  0.29800387]]\n",
      "Expext [[0.30264511 0.33714594 0.14774705 0.69142143 0.38329635 0.07146409\n",
      "  0.29800387]]\n",
      "0.25374412502892907\n",
      "Expext [[0.11017126 0.14367882 0.39901111 0.1401116  0.12991152 0.17771421\n",
      "  0.04816328]]\n",
      "Expext [[0.11017126 0.14367882 0.39901111 0.1401116  0.12991152 0.17771421\n",
      "  0.04816328]]\n",
      "0.16330277294600326\n",
      "Expext [[0.15686098 0.1170634  0.02267132 0.001725   0.19115225 0.06919258\n",
      "  0.18341808]]\n",
      "Expext [[0.15686098 0.1170634  0.02267132 0.001725   0.19115225 0.06919258\n",
      "  0.18341808]]\n",
      "0.11258775723072478\n",
      "Expext [[0.11265607 0.02300085 0.02635704 0.01410849 0.05832729 0.12279738\n",
      "  0.0064073 ]]\n",
      "Expext [[0.11265607 0.02300085 0.02635704 0.01410849 0.05832729 0.12279738\n",
      "  0.0064073 ]]\n",
      "0.053610554756721274\n",
      "Expext [[0.07565524 0.02477917 0.03269182 0.10645049 0.22781838 0.16221216\n",
      "  0.11665122]]\n",
      "Expext [[0.07565524 0.02477917 0.03269182 0.10645049 0.22781838 0.16221216\n",
      "  0.11665122]]\n",
      "0.07753789847118964\n",
      "0.9366525718846792\n"
     ]
    }
   ],
   "source": [
    "total = 0\n",
    "for i in range(0,7):\n",
    "    total += model.score(np.array([[i]]))\n",
    "    print(model.score(np.array([[i]])))\n",
    "print(total)"
   ]
  },
  {
   "cell_type": "code",
   "execution_count": 69,
   "metadata": {},
   "outputs": [
    {
     "data": {
      "text/plain": [
       "0.9537094227788704"
      ]
     },
     "execution_count": 69,
     "metadata": {},
     "output_type": "execute_result"
    }
   ],
   "source": [
    "total"
   ]
  },
  {
   "cell_type": "markdown",
   "metadata": {},
   "source": [
    "# 4. Learn Time Model - 1D"
   ]
  },
  {
   "cell_type": "code",
   "execution_count": 72,
   "metadata": {},
   "outputs": [],
   "source": [
    "limits = np.array([data.time.min(), data.time.max()])"
   ]
  },
  {
   "cell_type": "code",
   "execution_count": 73,
   "metadata": {},
   "outputs": [
    {
     "data": {
      "text/plain": [
       "array([1.27777778e-02, 2.39988889e+01])"
      ]
     },
     "execution_count": 73,
     "metadata": {},
     "output_type": "execute_result"
    }
   ],
   "source": [
    "limits"
   ]
  },
  {
   "cell_type": "code",
   "execution_count": 82,
   "metadata": {},
   "outputs": [],
   "source": [
    "model = SpatialModel(n_dim=1, min_eigval=1e-2, nonparametric=True, n_iterations=200, limits=limits,\n",
    "                    scaling_parameter=100, loa=True, decay=5)"
   ]
  },
  {
   "cell_type": "code",
   "execution_count": 83,
   "metadata": {},
   "outputs": [
    {
     "data": {
      "text/plain": [
       "SpatialModel(n_dim=1, n_components=100, nonparametric=True, scaling_parameter=100, decay=5, online_learning=False, n_iterations=200, score_threshold=None, random_reset=False, loa=True, _sufficient_statistics=`list of length 3, elements of shapes [(100,), (100, 1), (100, 1, 1)]`, _BaseModel__priors=Array (100,), _weights=Array (100,), limits=array([1.27777778e-02, 2.39988889e+01]), min_eigval=0.01, box=None, _SpatialModel__means=Array (100, 1), _SpatialModel__covs=Array (100, 1, 1))"
      ]
     },
     "execution_count": 83,
     "metadata": {},
     "output_type": "execute_result"
    }
   ],
   "source": [
    "model.fit(data[['time']].values)"
   ]
  },
  {
   "cell_type": "code",
   "execution_count": 84,
   "metadata": {},
   "outputs": [
    {
     "data": {
      "text/plain": [
       "SpatialModel(n_dim=1, n_components=100, nonparametric=True, scaling_parameter=100, decay=5, online_learning=False, n_iterations=200, score_threshold=None, random_reset=False, loa=True, _sufficient_statistics=`list of length 3, elements of shapes [(100,), (100, 1), (100, 1, 1)]`, _BaseModel__priors=Array (100,), _weights=Array (100,), limits=array([1.27777778e-02, 2.39988889e+01]), min_eigval=0.01, box=None, _SpatialModel__means=Array (100, 1), _SpatialModel__covs=Array (100, 1, 1))"
      ]
     },
     "execution_count": 84,
     "metadata": {},
     "output_type": "execute_result"
    }
   ],
   "source": [
    "model"
   ]
  },
  {
   "cell_type": "code",
   "execution_count": 85,
   "metadata": {},
   "outputs": [],
   "source": [
    "# weights \n",
    "# model._weights"
   ]
  },
  {
   "cell_type": "code",
   "execution_count": 90,
   "metadata": {},
   "outputs": [
    {
     "data": {
      "text/plain": [
       "array([[19.15637521],\n",
       "       [ 3.38959349],\n",
       "       [22.52322763],\n",
       "       [ 0.        ],\n",
       "       [23.76506556],\n",
       "       [ 0.        ],\n",
       "       [ 0.        ],\n",
       "       [ 2.41061819],\n",
       "       [ 1.92717945],\n",
       "       [11.62598375],\n",
       "       [ 2.94585005],\n",
       "       [ 0.        ],\n",
       "       [ 0.        ],\n",
       "       [ 0.        ],\n",
       "       [ 0.        ],\n",
       "       [ 0.        ],\n",
       "       [ 0.        ],\n",
       "       [21.16218923],\n",
       "       [ 0.        ],\n",
       "       [ 0.        ],\n",
       "       [ 0.        ],\n",
       "       [ 0.        ],\n",
       "       [ 7.54114899],\n",
       "       [ 0.        ],\n",
       "       [14.06807022],\n",
       "       [ 0.        ],\n",
       "       [ 0.        ],\n",
       "       [ 8.52515734],\n",
       "       [21.93346728],\n",
       "       [18.08696648],\n",
       "       [ 0.        ],\n",
       "       [10.70522452],\n",
       "       [21.65495237],\n",
       "       [ 0.        ],\n",
       "       [ 0.        ],\n",
       "       [ 0.        ],\n",
       "       [ 0.35774807],\n",
       "       [ 0.        ],\n",
       "       [12.23138376],\n",
       "       [17.09520938],\n",
       "       [ 0.        ],\n",
       "       [ 0.        ],\n",
       "       [ 0.        ],\n",
       "       [ 0.        ],\n",
       "       [ 5.58287235],\n",
       "       [ 0.        ],\n",
       "       [ 0.        ],\n",
       "       [ 0.        ],\n",
       "       [ 0.        ],\n",
       "       [ 0.        ],\n",
       "       [ 0.        ],\n",
       "       [ 0.        ],\n",
       "       [ 0.        ],\n",
       "       [ 0.        ],\n",
       "       [ 0.        ],\n",
       "       [ 0.        ],\n",
       "       [ 0.        ],\n",
       "       [ 0.        ],\n",
       "       [ 0.        ],\n",
       "       [ 0.        ],\n",
       "       [ 0.        ],\n",
       "       [13.0884689 ],\n",
       "       [16.33544628],\n",
       "       [ 0.        ],\n",
       "       [ 0.        ],\n",
       "       [ 0.        ],\n",
       "       [ 0.        ],\n",
       "       [ 0.        ],\n",
       "       [ 0.        ],\n",
       "       [ 0.        ],\n",
       "       [ 0.        ],\n",
       "       [ 0.        ],\n",
       "       [20.13037929],\n",
       "       [ 0.        ],\n",
       "       [ 0.        ],\n",
       "       [ 0.        ],\n",
       "       [ 4.76588288],\n",
       "       [ 0.        ],\n",
       "       [ 0.        ],\n",
       "       [ 6.90606617],\n",
       "       [ 0.        ],\n",
       "       [ 0.        ],\n",
       "       [ 0.        ],\n",
       "       [ 0.        ],\n",
       "       [ 0.        ],\n",
       "       [ 0.97500097],\n",
       "       [ 0.        ],\n",
       "       [ 3.86582841],\n",
       "       [ 0.        ],\n",
       "       [ 0.        ],\n",
       "       [ 0.        ],\n",
       "       [ 0.        ],\n",
       "       [ 0.        ],\n",
       "       [ 0.        ],\n",
       "       [ 0.        ],\n",
       "       [23.31783184],\n",
       "       [ 0.        ],\n",
       "       [ 0.        ],\n",
       "       [ 0.        ],\n",
       "       [15.21670292]])"
      ]
     },
     "execution_count": 90,
     "metadata": {},
     "output_type": "execute_result"
    }
   ],
   "source": [
    "model._SpatialModel__means"
   ]
  },
  {
   "cell_type": "code",
   "execution_count": 86,
   "metadata": {},
   "outputs": [
    {
     "data": {
      "text/plain": [
       "array([0.03715958, 0.00435458, 0.01602733, 0.        , 0.0135169 ,\n",
       "       0.        , 0.        , 0.00605899, 0.01404837, 0.05681603,\n",
       "       0.00708764, 0.        , 0.        , 0.        , 0.        ,\n",
       "       0.        , 0.        , 0.00911438, 0.        , 0.        ,\n",
       "       0.        , 0.        , 0.08626915, 0.        , 0.01850771,\n",
       "       0.        , 0.        , 0.13503484, 0.01094327, 0.04691186,\n",
       "       0.        , 0.17713742, 0.00297025, 0.        , 0.        ,\n",
       "       0.        , 0.01238864, 0.        , 0.01856109, 0.04735362,\n",
       "       0.        , 0.        , 0.        , 0.        , 0.00884068,\n",
       "       0.        , 0.        , 0.        , 0.        , 0.        ,\n",
       "       0.        , 0.        , 0.        , 0.        , 0.        ,\n",
       "       0.        , 0.        , 0.        , 0.        , 0.        ,\n",
       "       0.        , 0.04376199, 0.02067754, 0.        , 0.        ,\n",
       "       0.        , 0.        , 0.        , 0.        , 0.        ,\n",
       "       0.        , 0.        , 0.02061871, 0.        , 0.        ,\n",
       "       0.        , 0.01564126, 0.        , 0.        , 0.01277502,\n",
       "       0.        , 0.        , 0.        , 0.        , 0.        ,\n",
       "       0.01514947, 0.        , 0.01388074, 0.        , 0.        ,\n",
       "       0.        , 0.        , 0.        , 0.        , 0.        ,\n",
       "       0.01231079, 0.        , 0.        , 0.        , 0.11608214])"
      ]
     },
     "execution_count": 86,
     "metadata": {},
     "output_type": "execute_result"
    }
   ],
   "source": [
    "model._weights"
   ]
  },
  {
   "cell_type": "code",
   "execution_count": 87,
   "metadata": {},
   "outputs": [],
   "source": [
    "model.box = 1"
   ]
  },
  {
   "cell_type": "code",
   "execution_count": 88,
   "metadata": {},
   "outputs": [
    {
     "data": {
      "text/plain": [
       "0.016259182927268023"
      ]
     },
     "execution_count": 88,
     "metadata": {},
     "output_type": "execute_result"
    }
   ],
   "source": [
    "model.score(np.array([[2]]))"
   ]
  },
  {
   "cell_type": "code",
   "execution_count": 89,
   "metadata": {},
   "outputs": [
    {
     "name": "stdout",
     "output_type": "stream",
     "text": [
      "0.009603065156647994\n",
      "0.01890448970181602\n",
      "0.016259182927268023\n",
      "0.014516526579928635\n",
      "0.01719326243510788\n",
      "0.016280166196967483\n",
      "0.016534370991069025\n",
      "0.0675914038780252\n",
      "0.08198305251354931\n",
      "0.05337252632907019\n",
      "0.07723323906117763\n",
      "0.08628992914060607\n",
      "0.09628787196547339\n",
      "0.03506236263820528\n",
      "0.04344132326248962\n",
      "0.06183329908047519\n",
      "0.05264217708173502\n",
      "0.0512105156077407\n",
      "0.041909784302951114\n",
      "0.03853866678880413\n",
      "0.020677411955953073\n",
      "0.013774205864535594\n",
      "0.021032777970909855\n",
      "0.01926707594100563\n",
      "0.9714386873715121\n"
     ]
    }
   ],
   "source": [
    "total = 0\n",
    "for i in range(0,24):\n",
    "    total += model.score(np.array([[i]]))\n",
    "    print(model.score(np.array([[i]])))\n",
    "print(total)"
   ]
  },
  {
   "cell_type": "code",
   "execution_count": 69,
   "metadata": {},
   "outputs": [
    {
     "data": {
      "text/plain": [
       "0.9537094227788704"
      ]
     },
     "execution_count": 69,
     "metadata": {},
     "output_type": "execute_result"
    }
   ],
   "source": [
    "total"
   ]
  },
  {
   "cell_type": "code",
   "execution_count": null,
   "metadata": {},
   "outputs": [],
   "source": []
  }
 ],
 "metadata": {
  "hide_input": false,
  "kernelspec": {
   "display_name": "Python3 (kuberspatiotemporal)",
   "language": "python",
   "name": "python_kuberspatiotemporal"
  },
  "language_info": {
   "codemirror_mode": {
    "name": "ipython",
    "version": 3
   },
   "file_extension": ".py",
   "mimetype": "text/x-python",
   "name": "python",
   "nbconvert_exporter": "python",
   "pygments_lexer": "ipython3",
   "version": "3.7.2"
  }
 },
 "nbformat": 4,
 "nbformat_minor": 4
}
