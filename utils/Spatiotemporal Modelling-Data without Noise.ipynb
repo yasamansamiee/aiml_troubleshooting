{
 "cells": [
  {
   "cell_type": "markdown",
   "metadata": {},
   "source": [
    "# 1. Introduction"
   ]
  },
  {
   "cell_type": "markdown",
   "metadata": {},
   "source": [
    "## 1.1 Imports\n",
    "Import libraries here."
   ]
  },
  {
   "cell_type": "code",
   "execution_count": null,
   "metadata": {},
   "outputs": [],
   "source": [
    "import pandas as pd\n",
    "import numpy as np"
   ]
  },
  {
   "cell_type": "code",
   "execution_count": null,
   "metadata": {},
   "outputs": [],
   "source": [
    "from kuberspatiotemporal import CompoundModel, Feature, SpatialModel, KuberModel\n",
    "from kuberspatiotemporal.tools import make_ellipses"
   ]
  },
  {
   "cell_type": "code",
   "execution_count": null,
   "metadata": {},
   "outputs": [],
   "source": [
    "from sklearn.pipeline import make_pipeline, Pipeline\n",
    "from sklearn.compose import ColumnTransformer, make_column_transformer\n",
    "from sklearn.preprocessing import FunctionTransformer"
   ]
  },
  {
   "cell_type": "markdown",
   "metadata": {},
   "source": [
    "# 2. Load Data"
   ]
  },
  {
   "cell_type": "code",
   "execution_count": null,
   "metadata": {},
   "outputs": [],
   "source": [
    "data = pd.read_json('data/spatial_data_lisboa.json')"
   ]
  },
  {
   "cell_type": "code",
   "execution_count": null,
   "metadata": {},
   "outputs": [],
   "source": [
    "data.head(2)"
   ]
  },
  {
   "cell_type": "code",
   "execution_count": null,
   "metadata": {},
   "outputs": [],
   "source": [
    "#array([[38.7002492, -9.149562 ],\n",
    "#       [38.7365033, -9.1234308]])\n",
    "data = data[['latitude', 'longitude', 'timestamp']]\n",
    "data = data[((data['latitude']>38.7002492) & (data['latitude']<38.7365033)) & ((data['longitude']> -9.149562) & (data['longitude']<-9.1234308))]\n",
    "data"
   ]
  },
  {
   "cell_type": "code",
   "execution_count": null,
   "metadata": {},
   "outputs": [],
   "source": [
    "# Filter office and home locations\n",
    "data = data[['latitude', 'longitude', 'timestamp']]\n",
    "data = data[(\n",
    "    (((data['latitude']>38.710104) & (data['latitude']<38.710648)) & ((data['longitude']>-9.139794) & (data['longitude']<-9.1389)))\n",
    " | (((data['latitude']>38.725828) & (data['latitude']<38.726512)) & ((data['longitude']>-9.133944) & (data['longitude']<-9.133169))))]\n",
    "\n",
    "data\n",
    "\n"
   ]
  },
  {
   "cell_type": "code",
   "execution_count": null,
   "metadata": {},
   "outputs": [],
   "source": [
    "spatial_data = data[['latitude', 'longitude' ]] "
   ]
  },
  {
   "cell_type": "code",
   "execution_count": null,
   "metadata": {},
   "outputs": [],
   "source": [
    "grouped_locations = data.groupby(['latitude', 'longitude']).size().reset_index(name='Count').sort_values(by='Count', ascending=False)"
   ]
  },
  {
   "cell_type": "code",
   "execution_count": null,
   "metadata": {},
   "outputs": [],
   "source": [
    "from ipyleaflet import Map, basemaps, basemap_to_tiles, CircleMarker, Rectangle\n",
    "\n",
    "m = Map(center=(np.mean(data.latitude), np.mean(data.longitude)), zoom=10)\n",
    "\n",
    "for lat, lon, count in zip(grouped_locations.latitude.values, grouped_locations.longitude.values, grouped_locations.Count.values):\n",
    "    circle_marker = CircleMarker()\n",
    "    circle_marker.location = (lat, lon)\n",
    "    circle_marker.radius = int((count-1)*(25-3)/(np.max(grouped_locations.Count.values)-np.min(grouped_locations.Count.values))+3)\n",
    "    circle_marker.color = \"blue\"\n",
    "    circle_marker.fill_color = \"blue\"\n",
    "\n",
    "    m.add_layer(circle_marker)\n",
    "\n",
    "m"
   ]
  },
  {
   "cell_type": "code",
   "execution_count": null,
   "metadata": {},
   "outputs": [],
   "source": [
    "limits = np.array([[data.latitude.min(), data.longitude.min()],[data.latitude.max(), data.longitude.max()]])\n",
    "limits = limits + np.array([[-0.01], [0.01]])"
   ]
  },
  {
   "cell_type": "code",
   "execution_count": null,
   "metadata": {},
   "outputs": [],
   "source": [
    "limits"
   ]
  },
  {
   "cell_type": "code",
   "execution_count": null,
   "metadata": {},
   "outputs": [],
   "source": [
    "m.add_layer(Rectangle(bounds=limits.tolist()))"
   ]
  },
  {
   "cell_type": "markdown",
   "metadata": {},
   "source": [
    "# 3. Learn Spatial Model - 2D"
   ]
  },
  {
   "cell_type": "markdown",
   "metadata": {},
   "source": [
    "**scaling_parameter**\n",
    "\n",
    "The scaling parameter of the dirichlet proccess.\n",
    "\n",
    "**min_eigval**\n",
    "\n",
    "Important value. Minimum extend a cluster/component is allowed to have in one of its main directions. Prevents degenerated components. Read the documentation for details, defaults to `1e-2`."
   ]
  },
  {
   "cell_type": "code",
   "execution_count": null,
   "metadata": {},
   "outputs": [],
   "source": [
    "model = SpatialModel(n_dim=2, min_eigval=0.000000001, nonparametric=True, n_iterations=200, limits=limits,\n",
    "                    scaling_parameter=100, loa=True, decay=5)"
   ]
  },
  {
   "cell_type": "code",
   "execution_count": null,
   "metadata": {},
   "outputs": [],
   "source": [
    "idx = np.argsort(model._weights)"
   ]
  },
  {
   "cell_type": "code",
   "execution_count": null,
   "metadata": {},
   "outputs": [],
   "source": [
    "model.fit(data[['latitude', 'longitude']].values)"
   ]
  },
  {
   "cell_type": "code",
   "execution_count": null,
   "metadata": {},
   "outputs": [],
   "source": [
    "idx = np.argsort(model._weights)\n",
    "idx"
   ]
  },
  {
   "cell_type": "code",
   "execution_count": null,
   "metadata": {},
   "outputs": [],
   "source": [
    "# weights \n",
    "# model._weights\n",
    "# covs\n",
    "# model._SpatialModel__covs\n",
    "# means\n",
    "# model._SpatialModel__means"
   ]
  },
  {
   "cell_type": "code",
   "execution_count": null,
   "metadata": {},
   "outputs": [],
   "source": [
    "model._weights"
   ]
  },
  {
   "cell_type": "code",
   "execution_count": null,
   "metadata": {},
   "outputs": [],
   "source": [
    "model._SpatialModel__means"
   ]
  },
  {
   "cell_type": "code",
   "execution_count": null,
   "metadata": {},
   "outputs": [],
   "source": [
    "model.box = 0.05"
   ]
  },
  {
   "cell_type": "code",
   "execution_count": null,
   "metadata": {},
   "outputs": [],
   "source": [
    "#home\n",
    "model.score(np.array([[38.7263483,-9.135931]]))"
   ]
  },
  {
   "cell_type": "code",
   "execution_count": null,
   "metadata": {},
   "outputs": [],
   "source": [
    "#office\n",
    "model.score(np.array([[38.7104174,-9.1417113]]))"
   ]
  },
  {
   "cell_type": "markdown",
   "metadata": {},
   "source": [
    "## 3.1 Prediction grid"
   ]
  },
  {
   "cell_type": "code",
   "execution_count": null,
   "metadata": {},
   "outputs": [],
   "source": [
    "from typing import Union\n",
    "from sklearn.mixture import GaussianMixture, BayesianGaussianMixture\n",
    "from scipy.stats import mvn\n",
    "from scipy.stats._multivariate import _squeeze_output\n",
    "\n",
    "def is_broadcastable(a: Union[float, np.ndarray], b: Union[float, np.ndarray]) -> bool:\n",
    "    r\"\"\"Checks whether two objects can be\n",
    "    `broadcast to each other <https://stackoverflow.com/a/47244284>`_\n",
    "    \"\"\"\n",
    "    return all((m == n) or (m == 1) or (n == 1) for m, n in zip(a.shape[::-1], b.shape[::-1]))\n",
    "\n",
    "def boxed_cumulative(gmm: Union[GaussianMixture, BayesianGaussianMixture],\n",
    "                     centers: np.ndarray, width: Union[float, np.ndarray],\n",
    "                     maxpts: float = None, abseps=1e-5, releps=1e-5) -> Union[float, np.ndarray]:\n",
    "    r\"\"\"Compute the *boxed* cumulative density of a Gaussian Mixture Model function given the centers and\n",
    "    widths of one or more intervals.\n",
    "\n",
    "    Parameters\n",
    "    ----------\n",
    "    centers : ndarray\n",
    "        The centers of the boxes to compute the cumulative function for. Row matrix\n",
    "        of points. Number of columns must match the dimension of the mean parameter.\n",
    "    width : float or ndarray\n",
    "        The width of the box. Must be able to be broadcast to the first parameter.\n",
    "    mean : ndarray\n",
    "        See :data:`scipy.stats.multivariate_normal`\n",
    "    cov : ndarray\n",
    "        See :data:`scipy.stats.multivariate_normal`\n",
    "    maxpts : float\n",
    "        See :data:`scipy.stats.multivariate_normal`\n",
    "    abseps : float\n",
    "        See :data:`scipy.stats.multivariate_normal`\n",
    "    releps : float\n",
    "        See :data:`scipy.stats.multivariate_normal`\n",
    "    \"\"\"\n",
    "    # XXX SU->SU: Docstring incomplete / requires checking\n",
    "    return np.sum(\n",
    "        [\n",
    "            weight *\n",
    "            boxed_cdf(centers, width, mean, sigma, maxpts, abseps, releps)\n",
    "            for sigma, mean, weight in zip(gmm.covariances_, gmm.means_, gmm.weights_)\n",
    "        ]\n",
    "    )\n",
    "\n",
    "\n",
    "def boxed_cdf(\n",
    "        centers: np.ndarray, width: Union[float, np.array],\n",
    "        mean: np.ndarray, cov: np.ndarray,\n",
    "        maxpts: float = None, abseps=1e-5, releps=1e-5) -> Union[float, np.ndarray]:\n",
    "    \"\"\"\n",
    "    Compute the *boxed* cumulative density function given the centers and\n",
    "    widths of one or more intervals.\n",
    "\n",
    "    Parameters\n",
    "    ----------\n",
    "    centers : ndarray\n",
    "        The centers of the boxes to compute the cumulative function for. Row matrix\n",
    "        of points. Number of columns must match the dimension of the mean parameter.\n",
    "    width : float or ndarray\n",
    "        The width of the box. Must be able to be broadcast to the first parameter.\n",
    "    mean : ndarray\n",
    "        See :data:`scipy.stats.multivariate_normal`\n",
    "    cov : ndarray\n",
    "        See :data:`scipy.stats.multivariate_normal`\n",
    "    maxpts : float\n",
    "        See :data:`scipy.stats.multivariate_normal`\n",
    "    abseps : float\n",
    "        See :data:`scipy.stats.multivariate_normal`\n",
    "    releps : float\n",
    "        See :data:`scipy.stats.multivariate_normal`\n",
    "\n",
    "    Returns\n",
    "    -------\n",
    "    cdf : ndarray or scalar\n",
    "        Cumulative distribution function evaluated at `x`\n",
    "\n",
    "\n",
    "    Notes\n",
    "    -----\n",
    "    The code is inspired by scipy.stats._multivariate.\n",
    "\n",
    "    \"\"\"\n",
    "    # XXX SU->SU: improve doc string. Missing several parameters\n",
    "\n",
    "    dim = mean.size\n",
    "\n",
    "    # Increase dimensionality to 2D if necessary\n",
    "    centers = np.atleast_2d(centers)\n",
    "    width = np.atleast_2d(width)\n",
    "\n",
    "    # check if dimensions are compatible\n",
    "    assert centers.shape[1] == dim\n",
    "    assert is_broadcastable(centers, width)\n",
    "\n",
    "    # We construct a matrix with the intervals defined in the rows\n",
    "    # the first half of the components are the lower bound,\n",
    "    # the second half the upper bound.\n",
    "\n",
    "    lower_upper = np.hstack((centers-width/2., centers+width/2.))\n",
    "\n",
    "    if not maxpts:\n",
    "        maxpts = 1000000 * dim\n",
    "\n",
    "    # mvnun expects 1-d arguments, so process points sequentially\n",
    "    # We apply the computation along the last axis, so that we\n",
    "    # process the rows in parallel.\n",
    "\n",
    "    out = np.apply_along_axis(\n",
    "        lambda stacked: mvn.mvnun(  # Computes the boxed CDF (fortran wrapper)\n",
    "            stacked[0:dim],         # First columns represent the lower bound\n",
    "            stacked[dim:],          # Last columns represent the upper bound\n",
    "            mean, cov,              # The parameters of the normal distribution\n",
    "            maxpts, abseps, releps  # Parameters of the algorithm\n",
    "        )[0], -1, lower_upper\n",
    "    )\n",
    "    if np.isnan(out):\n",
    "        out = np.array([0])\n",
    "\n",
    "    return _squeeze_output(out)"
   ]
  },
  {
   "cell_type": "code",
   "execution_count": null,
   "metadata": {},
   "outputs": [],
   "source": [
    "from matplotlib.colors import to_hex\n",
    "import matplotlib.pyplot as plt\n",
    "from ipyleaflet import (\n",
    "    Rectangle\n",
    ")\n",
    "def pcolorOnMap(xx: np.ndarray,\n",
    "                yy: np.ndarray,\n",
    "                zz: np.ndarray,\n",
    "                samples: np.ndarray = None):\n",
    "    r\"\"\"\n",
    "    Helper plot function for displaying a grid of rectangles on a map.\n",
    "\n",
    "    Parameters\n",
    "    ----------\n",
    "    xx: shape (m, n)\n",
    "        Array created by :func:`numpy.meshgrid`\n",
    "\n",
    "    yy: shape (m, n)\n",
    "        Array created by :func:`numpy.meshgrid`\n",
    "\n",
    "    zz: shape (m, n)\n",
    "        Function values of a function :math:`f(xx,yy)`.\n",
    "        Values of the range 0 to 1.\n",
    "\n",
    "    samples: shape(2,k)\n",
    "        Samples (:math:`k`) to be displayed on the map.\n",
    "\n",
    "    Notes\n",
    "    -----\n",
    "    Only implemented if  `ipyleaflet <https://github.com/jupyter-widgets/ipyleaflet>`_ is installed.\n",
    "\n",
    "    \"\"\"\n",
    "    width = (0.5*(xx[0, 1]-xx[0, 0]), 0.5*(yy[1, 0]-yy[0, 0]))\n",
    "    center = (0.5*(xx[0, -1]+xx[0, 0]), 0.5*(yy[-1, 0]+yy[0, 0]))\n",
    "\n",
    "    boxes = np.array([xx.flatten(), yy.flatten()]).T\n",
    "\n",
    "    cmap = plt.cm.get_cmap(\"viridis\")\n",
    "    world = Map(center=center, zoom=13)\n",
    "\n",
    "    if samples is not None:\n",
    "        for loc in samples:\n",
    "            circle_marker = CircleMarker()\n",
    "            circle_marker.location = loc.tolist()\n",
    "            circle_marker.radius = 2\n",
    "            circle_marker.color = \"red\"\n",
    "            circle_marker.fill_color = \"red\"\n",
    "            world.add_layer(circle_marker)\n",
    "\n",
    "    for box, value in zip(boxes, zz.flatten()):\n",
    "        message = HTML()\n",
    "        message.value = f\"{value*100:.1f}%\"\n",
    "        color = cmap(value/np.max(zz))\n",
    "        color_hex = to_hex(color, keep_alpha=False)\n",
    "        rectangle = Rectangle(bounds=((box[0] - width[0], box[1] - width[1]),\n",
    "                                      (box[0] + width[0], box[1] + width[1])),\n",
    "                              weight=0, fill_color=color_hex, stroke=False, fill_opacity=0.5)\n",
    "        world.add_layer(rectangle)\n",
    "        rectangle.popup = message\n",
    "\n",
    "    return world"
   ]
  },
  {
   "cell_type": "code",
   "execution_count": null,
   "metadata": {},
   "outputs": [],
   "source": [
    "from ipywidgets import interact, interactive, fixed, interact_manual, HTML\n",
    "\n",
    "steps=20\n",
    "# Acquire some sample for getting the boundaries\n",
    "samples = model.rvs(1000)\n",
    "\n",
    "# pick min and max values but widen interval by 25%\n",
    "max_ = np.max(samples, axis=0)\n",
    "min_ = np.min(samples, axis=0)\n",
    "width = (max_-min_)\n",
    "\n",
    "max_ += width * 0.25\n",
    "min_ -= width * 0.25\n",
    "width = (max_-min_)\n",
    "\n",
    "# Compute the probability for each *combination* of x/y values\n",
    "\n",
    "# we compare sklearn.mixtures.GaussianMixture.score_samples (log if the PDF)\n",
    "# with our B-CDF approach\n",
    "\n",
    "xx, yy = np.meshgrid(\n",
    "    np.linspace(min_[0], max_[0], steps),\n",
    "    np.linspace(min_[1], max_[1], steps),\n",
    ")\n",
    "scores = np.zeros(xx.shape)\n",
    "probabilities = np.zeros(xx.shape)\n",
    "probabilities_ = np.zeros(xx.shape)\n",
    "\n",
    "\n",
    "for i in range(xx.shape[0]):\n",
    "    for j in range(xx.shape[1]):\n",
    "        center = [[xx[i, j], yy[i, j]]]\n",
    "        probabilities[i, j] =  np.sum(\n",
    "        [\n",
    "            weight *\n",
    "            boxed_cdf(center, width/steps, mean, sigma, maxpts=None, abseps=1e-5, releps=1e-5)\n",
    "            for sigma, mean, weight in zip(model._SpatialModel__covs, model._SpatialModel__means, model._weights)\n",
    "        ]\n",
    "    )\n",
    "\n",
    "\n",
    "display(pcolorOnMap(xx,yy,probabilities, model._SpatialModel__means))\n"
   ]
  },
  {
   "cell_type": "code",
   "execution_count": null,
   "metadata": {},
   "outputs": [],
   "source": [
    "from kuberspatiotemporal.tools import make_ellipses"
   ]
  },
  {
   "cell_type": "code",
   "execution_count": null,
   "metadata": {},
   "outputs": [],
   "source": [
    "f, ((ax1, ax2)) = plt.subplots(1,2, figsize=(18, 10))\n",
    "ax1.scatter(data.latitude, data.longitude, marker='o',\n",
    "            s=25, edgecolor='k')\n",
    "ax1.set_title('data')\n",
    "\n",
    "make_ellipses(model, ax2)\n",
    "ax2.scatter(data.latitude, data.longitude,\n",
    "            s=25, edgecolor='k')\n",
    "ax2.set_title('ellipses')"
   ]
  },
  {
   "cell_type": "code",
   "execution_count": null,
   "metadata": {},
   "outputs": [],
   "source": [
    "model"
   ]
  },
  {
   "cell_type": "markdown",
   "metadata": {},
   "source": [
    "# 4. Learn Spatiotemporal Model "
   ]
  },
  {
   "cell_type": "code",
   "execution_count": null,
   "metadata": {},
   "outputs": [],
   "source": [
    "data.timestamp"
   ]
  },
  {
   "cell_type": "code",
   "execution_count": null,
   "metadata": {},
   "outputs": [],
   "source": [
    "# will be added to the spatial model and interpreted as continuous\n",
    "data['time'] = [ts.hour + ts.minute/60 + ts.second/3600 for ts in data.timestamp]\n",
    "# weekday will be part of another model\n",
    "data['weekday'] = [ts.dayofweek for ts in data.timestamp]"
   ]
  },
  {
   "cell_type": "code",
   "execution_count": null,
   "metadata": {},
   "outputs": [],
   "source": [
    "limits_ = [np.min(data[['latitude', 'longitude', 'time']].values, axis=0),np.max(data[['latitude', 'longitude', 'time']].values, axis=0)]"
   ]
  },
  {
   "cell_type": "code",
   "execution_count": null,
   "metadata": {},
   "outputs": [],
   "source": [
    "kst = CompoundModel(\n",
    "    n_dim=4,\n",
    "    n_iterations=200,\n",
    "    scaling_parameter=1.1,\n",
    "    nonparametric=True,\n",
    "    online_learning=False,\n",
    "    score_threshold=0.85,\n",
    "    loa=True,\n",
    "    features=[\n",
    "        Feature(SpatialModel(n_dim=3, min_eigval=1e-9, limits=limits_), [0, 1, 2]),\n",
    "        Feature(KuberModel(n_symbols=7), [3])\n",
    "    ],\n",
    ")"
   ]
  },
  {
   "cell_type": "code",
   "execution_count": null,
   "metadata": {},
   "outputs": [],
   "source": [
    "pipeline = make_pipeline(\n",
    "    make_column_transformer(\n",
    "        (FunctionTransformer(lambda x: np.array(x).reshape(-1, 1)), \"latitude\"),\n",
    "        (FunctionTransformer(lambda x: np.array(x).reshape(-1, 1)), \"longitude\"),\n",
    "        (FunctionTransformer(lambda x: np.array(x).reshape(-1, 1)), \"time\"),\n",
    "        (FunctionTransformer(lambda x: np.array(x).reshape(-1, 1)), \"weekday\"),\n",
    "    ),\n",
    "    kst,\n",
    ")"
   ]
  },
  {
   "cell_type": "code",
   "execution_count": null,
   "metadata": {},
   "outputs": [],
   "source": [
    "pipeline.fit(data[['latitude', 'longitude', 'time', 'weekday']])"
   ]
  },
  {
   "cell_type": "code",
   "execution_count": null,
   "metadata": {},
   "outputs": [],
   "source": [
    "pipeline.predict(data[['latitude', 'longitude', 'time', 'weekday']].loc[0:2])"
   ]
  },
  {
   "cell_type": "code",
   "execution_count": null,
   "metadata": {},
   "outputs": [],
   "source": [
    "data[['latitude', 'longitude', 'time', 'weekday']].iloc[0]"
   ]
  },
  {
   "cell_type": "code",
   "execution_count": null,
   "metadata": {},
   "outputs": [],
   "source": [
    "kst"
   ]
  },
  {
   "cell_type": "code",
   "execution_count": null,
   "metadata": {},
   "outputs": [],
   "source": [
    "data[['latitude', 'longitude', 'time', 'weekday']].iloc[20:22]"
   ]
  },
  {
   "cell_type": "code",
   "execution_count": null,
   "metadata": {},
   "outputs": [],
   "source": [
    "kst.features[0].model.box = np.array([0.5,0.5,1])"
   ]
  },
  {
   "cell_type": "code",
   "execution_count": null,
   "metadata": {},
   "outputs": [],
   "source": [
    "pipeline.score(data[['latitude', 'longitude', 'time', 'weekday']])"
   ]
  },
  {
   "cell_type": "code",
   "execution_count": null,
   "metadata": {},
   "outputs": [],
   "source": [
    "data_ = data[['latitude', 'longitude', 'time', 'weekday']].iloc[21:22].values"
   ]
  },
  {
   "cell_type": "code",
   "execution_count": null,
   "metadata": {},
   "outputs": [],
   "source": [
    "1 - kst.features[1].model.expect(data_[:, kst.features[1].columns]) * kst._weights[np.newaxis, :]"
   ]
  },
  {
   "cell_type": "code",
   "execution_count": null,
   "metadata": {},
   "outputs": [],
   "source": [
    "np.prod(1 - kst.features[1].model.expect(data_[:, kst.features[1].columns]) * kst._weights[np.newaxis, :])"
   ]
  },
  {
   "cell_type": "code",
   "execution_count": null,
   "metadata": {},
   "outputs": [],
   "source": [
    "1 - kst.features[0].model.expect(data_[:, kst.features[0].columns]) * kst._weights[np.newaxis, :]"
   ]
  },
  {
   "cell_type": "code",
   "execution_count": null,
   "metadata": {},
   "outputs": [],
   "source": [
    "np.sum(kst.features[1].model.expect(data_[:, kst.features[1].columns]) * kst._weights[np.newaxis, :])"
   ]
  },
  {
   "cell_type": "code",
   "execution_count": null,
   "metadata": {},
   "outputs": [],
   "source": [
    "np.sum(kst.features[0].model.expect(data_[:, kst.features[0].columns]) * kst._weights[np.newaxis, :])"
   ]
  },
  {
   "cell_type": "code",
   "execution_count": null,
   "metadata": {},
   "outputs": [],
   "source": []
  }
 ],
 "metadata": {
  "hide_input": false,
  "kernelspec": {
   "display_name": "Python3 (kuberspatiotemporal)",
   "language": "python",
   "name": "python_kuberspatiotemporal"
  },
  "language_info": {
   "codemirror_mode": {
    "name": "ipython",
    "version": 3
   },
   "file_extension": ".py",
   "mimetype": "text/x-python",
   "name": "python",
   "nbconvert_exporter": "python",
   "pygments_lexer": "ipython3",
   "version": "3.7.2"
  }
 },
 "nbformat": 4,
 "nbformat_minor": 4
}
