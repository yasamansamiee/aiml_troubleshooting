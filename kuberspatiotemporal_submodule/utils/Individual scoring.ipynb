{
 "cells": [
  {
   "cell_type": "markdown",
   "metadata": {},
   "source": [
    "# 1. Introduction"
   ]
  },
  {
   "cell_type": "markdown",
   "metadata": {},
   "source": [
    "## 1.1 Imports\n",
    "Import libraries here."
   ]
  },
  {
   "cell_type": "code",
   "execution_count": null,
   "metadata": {},
   "outputs": [],
   "source": [
    "import pandas as pd\n",
    "import numpy as np"
   ]
  },
  {
   "cell_type": "code",
   "execution_count": null,
   "metadata": {},
   "outputs": [],
   "source": [
    "from kuberspatiotemporal import CompoundModel, Feature, SpatialModel, KuberModel\n",
    "from kuberspatiotemporal.tools import make_ellipses"
   ]
  },
  {
   "cell_type": "code",
   "execution_count": null,
   "metadata": {},
   "outputs": [],
   "source": [
    "from sklearn.pipeline import make_pipeline, Pipeline\n",
    "from sklearn.compose import ColumnTransformer, make_column_transformer\n",
    "from sklearn.preprocessing import FunctionTransformer"
   ]
  },
  {
   "cell_type": "code",
   "execution_count": null,
   "metadata": {},
   "outputs": [],
   "source": [
    "import matplotlib.pyplot as plt"
   ]
  },
  {
   "cell_type": "markdown",
   "metadata": {},
   "source": [
    "# 2. Load Data"
   ]
  },
  {
   "cell_type": "code",
   "execution_count": null,
   "metadata": {},
   "outputs": [],
   "source": [
    "data = pd.read_json('data/spatial_data_lisboa.json')"
   ]
  },
  {
   "cell_type": "code",
   "execution_count": null,
   "metadata": {},
   "outputs": [],
   "source": [
    "data.head(2)"
   ]
  },
  {
   "cell_type": "code",
   "execution_count": null,
   "metadata": {},
   "outputs": [],
   "source": [
    "# Filter office and home locations\n",
    "data = data[['latitude', 'longitude', 'timestamp']]\n",
    "data = data[(\n",
    "    (((data['latitude']>38.710104) & (data['latitude']<38.710648)) & ((data['longitude']>-9.139794) & (data['longitude']<-9.1389)))\n",
    " | (((data['latitude']>38.725828) & (data['latitude']<38.726512)) & ((data['longitude']>-9.133944) & (data['longitude']<-9.133169))))]\n",
    "data['time'] = [ts.hour + ts.minute/60 + ts.second/3600 for ts in data.timestamp]\n",
    "data['weekday'] = [ts.dayofweek for ts in data.timestamp]"
   ]
  },
  {
   "cell_type": "code",
   "execution_count": null,
   "metadata": {},
   "outputs": [],
   "source": [
    "display(data, data.hist(column=\"weekday\", bins=6))"
   ]
  },
  {
   "cell_type": "markdown",
   "metadata": {},
   "source": [
    "# 3. Learn Spatiotemporal Model - 4D"
   ]
  },
  {
   "cell_type": "code",
   "execution_count": null,
   "metadata": {},
   "outputs": [],
   "source": [
    "limits_ = [np.min(data[['latitude', 'longitude', 'time']].values, axis=0),np.max(data[['latitude', 'longitude', 'time']].values, axis=0)]"
   ]
  },
  {
   "cell_type": "code",
   "execution_count": null,
   "metadata": {},
   "outputs": [],
   "source": [
    "kst = CompoundModel(\n",
    "    n_dim=4,\n",
    "    n_iterations=200,\n",
    "    scaling_parameter=1.1,\n",
    "    nonparametric=True,\n",
    "    online_learning=False,\n",
    "    loa=True,\n",
    "    features=[\n",
    "        Feature(SpatialModel(n_dim=3, min_eigval=1e-9, limits=limits_), [0, 1, 2]),\n",
    "        Feature(KuberModel(n_symbols=7), [3])\n",
    "    ],\n",
    ")"
   ]
  },
  {
   "cell_type": "code",
   "execution_count": null,
   "metadata": {},
   "outputs": [],
   "source": [
    "pipeline = make_pipeline(\n",
    "    make_column_transformer(\n",
    "        (FunctionTransformer(lambda x: np.array(x).reshape(-1, 1)), \"latitude\"),\n",
    "        (FunctionTransformer(lambda x: np.array(x).reshape(-1, 1)), \"longitude\"),\n",
    "        (FunctionTransformer(lambda x: np.array(x).reshape(-1, 1)), \"time\"),\n",
    "        (FunctionTransformer(lambda x: np.array(x).reshape(-1, 1)), \"weekday\"),\n",
    "    ),\n",
    "    kst,\n",
    ")"
   ]
  },
  {
   "cell_type": "code",
   "execution_count": null,
   "metadata": {},
   "outputs": [],
   "source": [
    "pipeline.fit(data[['latitude', 'longitude', 'time', 'weekday']])"
   ]
  },
  {
   "cell_type": "code",
   "execution_count": null,
   "metadata": {},
   "outputs": [],
   "source": [
    "kst.rvs(1000)"
   ]
  },
  {
   "cell_type": "markdown",
   "metadata": {},
   "source": [
    "## 3.1 Binary score"
   ]
  },
  {
   "cell_type": "code",
   "execution_count": null,
   "metadata": {},
   "outputs": [],
   "source": [
    "kst.loa = False\n",
    "kst.score_threshold = kst.get_score_threshold(data[['latitude', 'longitude', 'time', 'weekday']].values, lower_quantile=0, upper_quantile=1)\n",
    "kst.score(np.array([[38.7104174,-9.1417113,16,4]]))"
   ]
  },
  {
   "cell_type": "markdown",
   "metadata": {},
   "source": [
    "## 3.2 Compute score given quantiles"
   ]
  },
  {
   "cell_type": "code",
   "execution_count": null,
   "metadata": {},
   "outputs": [],
   "source": [
    "kst.loa = False\n",
    "kst.score_threshold = None\n",
    "kst.quantiles = kst.get_score_threshold(data[['latitude', 'longitude', 'time', 'weekday']].values, lower_quantile=0, upper_quantile=0.3)\n",
    "kst.score(np.array([[38.7104174,-9.1417113,16,4]]))"
   ]
  },
  {
   "cell_type": "markdown",
   "metadata": {},
   "source": [
    "## 3.3 Compute score given box"
   ]
  },
  {
   "cell_type": "code",
   "execution_count": null,
   "metadata": {},
   "outputs": [],
   "source": [
    "kst.loa = True\n",
    "kst.features[0].model.box=[0.005,0.005,1]\n",
    "kst.score(np.array([[38.7104174,-9.1417113,16,4]]))"
   ]
  },
  {
   "cell_type": "code",
   "execution_count": null,
   "metadata": {},
   "outputs": [],
   "source": [
    "from ipyleaflet import Map, basemaps, basemap_to_tiles, CircleMarker, Rectangle\n",
    "\n",
    "m = Map(center=(np.mean(data.latitude), np.mean(data.longitude)), zoom=10)\n",
    "\n",
    "colors = np.array(['red', 'green'])\n",
    "for lat, lon, label in zip(data.latitude.values, data.longitude.values, pipeline.score_samples(data[['latitude', 'longitude', 'time', 'weekday']])):\n",
    "    circle_marker = CircleMarker()\n",
    "    circle_marker.location = (lat, lon)\n",
    "    circle_marker.radius = 3\n",
    "    circle_marker.color = colors[int(label)]\n",
    "    circle_marker.fill_color = colors[int(label)]\n",
    "\n",
    "    m.add_layer(circle_marker)\n",
    "\n",
    "m"
   ]
  },
  {
   "cell_type": "markdown",
   "metadata": {},
   "source": [
    "# 4 Spatio Model"
   ]
  },
  {
   "cell_type": "code",
   "execution_count": null,
   "metadata": {},
   "outputs": [],
   "source": [
    "limits = np.array([[data.latitude.min(), data.longitude.min()],[data.latitude.max(), data.longitude.max()]])\n",
    "limits = limits + np.array([[-0.01], [0.01]])"
   ]
  },
  {
   "cell_type": "code",
   "execution_count": null,
   "metadata": {},
   "outputs": [],
   "source": [
    "spatio_model = SpatialModel(n_dim=2, min_eigval=1e-10, nonparametric=True, n_iterations=10, limits=limits,\n",
    "                    scaling_parameter=0.01, loa=True, decay=1, n_components=2)"
   ]
  },
  {
   "cell_type": "code",
   "execution_count": null,
   "metadata": {},
   "outputs": [],
   "source": [
    "spatio_model.fit(data[['latitude', 'longitude']].values)"
   ]
  },
  {
   "cell_type": "code",
   "execution_count": null,
   "metadata": {},
   "outputs": [],
   "source": [
    "from kuberspatiotemporal.tools import make_ellipses\n",
    "f, ((ax1, ax2)) = plt.subplots(1,2, figsize=(18, 10))\n",
    "ax1.scatter(data.latitude, data.longitude, marker='o',\n",
    "            s=25, edgecolor='k')\n",
    "ax1.set_title('data')\n",
    "\n",
    "make_ellipses(spatio_model, ax2)\n",
    "ax2.scatter(data.latitude, data.longitude,\n",
    "            s=25, edgecolor='k')\n",
    "ax2.set_title('ellipses')"
   ]
  },
  {
   "cell_type": "code",
   "execution_count": null,
   "metadata": {},
   "outputs": [],
   "source": [
    "spatio_model.rvs(10)"
   ]
  },
  {
   "cell_type": "markdown",
   "metadata": {},
   "source": [
    "## 4.1 Binary score"
   ]
  },
  {
   "cell_type": "code",
   "execution_count": null,
   "metadata": {},
   "outputs": [],
   "source": [
    "spatio_model.get_score_threshold(data[['latitude', 'longitude']].values, lower_quantile=0, upper_quantile=0.95)"
   ]
  },
  {
   "cell_type": "code",
   "execution_count": null,
   "metadata": {},
   "outputs": [],
   "source": [
    "spatio_model.loa = False\n",
    "spatio_model.score_threshold = spatio_model.get_score_threshold(data[['latitude', 'longitude']].values, lower_quantile=0, upper_quantile=1)\n",
    "spatio_model.score(np.array([[38.7104174,-9.1417113]]))"
   ]
  },
  {
   "cell_type": "markdown",
   "metadata": {},
   "source": [
    "## 4.2 Compute score given quantiles"
   ]
  },
  {
   "cell_type": "code",
   "execution_count": null,
   "metadata": {},
   "outputs": [],
   "source": [
    "spatio_model.loa = False\n",
    "spatio_model.score_threshold = None\n",
    "spatio_model.quantiles = spatio_model.get_score_threshold(data[['latitude', 'longitude']].values, lower_quantile=0, upper_quantile=0.3)\n",
    "spatio_model.score(np.array([[38.7104174,-9.1417113]]))"
   ]
  },
  {
   "cell_type": "markdown",
   "metadata": {},
   "source": [
    "## 4.3 Compute score given box"
   ]
  },
  {
   "cell_type": "code",
   "execution_count": null,
   "metadata": {},
   "outputs": [],
   "source": [
    "spatio_model.loa = True\n",
    "spatio_model.box=[0.05,0.05]\n",
    "spatio_model.score(np.array([[38.7104174,-9.1417113]]))"
   ]
  },
  {
   "cell_type": "markdown",
   "metadata": {},
   "source": [
    "# 5 Spatiotemporal Model"
   ]
  },
  {
   "cell_type": "code",
   "execution_count": null,
   "metadata": {},
   "outputs": [],
   "source": [
    "spatiotemporal_model = SpatialModel(n_dim=3, min_eigval=1e-9, limits=limits_, n_iterations=200, \n",
    "                                    scaling_parameter=1.1, nonparametric=True, online_learning=False,\n",
    "                                    loa=True)"
   ]
  },
  {
   "cell_type": "code",
   "execution_count": null,
   "metadata": {},
   "outputs": [],
   "source": [
    "spatiotemporal_model.fit(data[['latitude', 'longitude', 'time']].values)"
   ]
  },
  {
   "cell_type": "code",
   "execution_count": null,
   "metadata": {},
   "outputs": [],
   "source": [
    "spatiotemporal_model.rvs(10)"
   ]
  },
  {
   "cell_type": "markdown",
   "metadata": {},
   "source": [
    "## 5.1 Binary score"
   ]
  },
  {
   "cell_type": "code",
   "execution_count": null,
   "metadata": {},
   "outputs": [],
   "source": [
    "spatiotemporal_model.get_score_threshold(data[['latitude', 'longitude','time']].values, lower_quantile=0, upper_quantile=0.95)"
   ]
  },
  {
   "cell_type": "code",
   "execution_count": null,
   "metadata": {},
   "outputs": [],
   "source": [
    "spatiotemporal_model.loa = False\n",
    "spatiotemporal_model.score_threshold = spatiotemporal_model.get_score_threshold(data[['latitude', 'longitude', 'time']].values, lower_quantile=0, upper_quantile=1)\n",
    "spatiotemporal_model.score(np.array([[38.7104174,-9.1417113, 12]]))"
   ]
  },
  {
   "cell_type": "markdown",
   "metadata": {},
   "source": [
    "## 5.2 Compute score given quantiles"
   ]
  },
  {
   "cell_type": "code",
   "execution_count": null,
   "metadata": {},
   "outputs": [],
   "source": [
    "spatiotemporal_model.loa = False\n",
    "spatiotemporal_model.score_threshold = None\n",
    "spatiotemporal_model.quantiles = spatiotemporal_model.get_score_threshold(data[['latitude', 'longitude','time']].values, lower_quantile=0, upper_quantile=0.3)\n",
    "spatiotemporal_model.score(np.array([[38.7104174,-9.1417113,10]]))"
   ]
  },
  {
   "cell_type": "markdown",
   "metadata": {},
   "source": [
    "## 4.3 Compute score given box"
   ]
  },
  {
   "cell_type": "code",
   "execution_count": null,
   "metadata": {},
   "outputs": [],
   "source": [
    "spatiotemporal_model.loa = True\n",
    "spatiotemporal_model.box=[0.05,0.05,1]\n",
    "spatiotemporal_model.score(np.array([[38.7104174,-9.1417113,10]]))"
   ]
  },
  {
   "cell_type": "markdown",
   "metadata": {},
   "source": [
    "# 6 Weekday Model"
   ]
  },
  {
   "cell_type": "code",
   "execution_count": null,
   "metadata": {},
   "outputs": [],
   "source": [
    "weekday_model = KuberModel(n_symbols=7, n_components=7, loa=True)"
   ]
  },
  {
   "cell_type": "code",
   "execution_count": null,
   "metadata": {
    "scrolled": true
   },
   "outputs": [],
   "source": [
    "weekday_model.fit(data[['weekday']].values)"
   ]
  },
  {
   "cell_type": "code",
   "execution_count": null,
   "metadata": {},
   "outputs": [],
   "source": [
    "weekday_model.rvs(100)"
   ]
  },
  {
   "cell_type": "markdown",
   "metadata": {},
   "source": [
    "## 6.1 Binary score"
   ]
  },
  {
   "cell_type": "code",
   "execution_count": null,
   "metadata": {},
   "outputs": [],
   "source": [
    "weekday_model.get_score_threshold(data[['weekday']].values, lower_quantile=0, upper_quantile=0.95)"
   ]
  },
  {
   "cell_type": "code",
   "execution_count": null,
   "metadata": {},
   "outputs": [],
   "source": [
    "weekday_model.loa = False\n",
    "weekday_model.score_threshold = weekday_model.get_score_threshold(data[['weekday']].values, lower_quantile=0, upper_quantile=0.95)\n",
    "weekday_model.score(np.array([[6]]))"
   ]
  },
  {
   "cell_type": "markdown",
   "metadata": {},
   "source": [
    "## 6.2 Compute score given quantiles"
   ]
  },
  {
   "cell_type": "code",
   "execution_count": null,
   "metadata": {},
   "outputs": [],
   "source": [
    "weekday_model.loa = False\n",
    "weekday_model.score_threshold = None\n",
    "weekday_model.quantiles = weekday_model.get_score_threshold(data[['weekday']].values, lower_quantile=0, upper_quantile=0.9)\n",
    "weekday_model.score(np.array([[4]]))"
   ]
  },
  {
   "cell_type": "markdown",
   "metadata": {},
   "source": [
    "## 4.3 Compute score given box"
   ]
  },
  {
   "cell_type": "code",
   "execution_count": null,
   "metadata": {},
   "outputs": [],
   "source": [
    "weekday_model.loa = True\n",
    "weekday_model.box=[1]\n",
    "weekday_model.score(np.array([[3]]))"
   ]
  },
  {
   "cell_type": "code",
   "execution_count": null,
   "metadata": {},
   "outputs": [],
   "source": []
  }
 ],
 "metadata": {
  "hide_input": false,
  "kernelspec": {
   "display_name": "Python3 (kuberspatiotemporal)",
   "language": "python",
   "name": "python_kuberspatiotemporal"
  },
  "language_info": {
   "codemirror_mode": {
    "name": "ipython",
    "version": 3
   },
   "file_extension": ".py",
   "mimetype": "text/x-python",
   "name": "python",
   "nbconvert_exporter": "python",
   "pygments_lexer": "ipython3",
   "version": "3.7.2"
  }
 },
 "nbformat": 4,
 "nbformat_minor": 4
}
