{
 "cells": [
  {
   "cell_type": "code",
   "execution_count": 3,
   "id": "58d9a3fa",
   "metadata": {},
   "outputs": [
    {
     "data": {
      "text/plain": [
       "['kuberspatiotemporal',\n",
       " 'test',\n",
       " 'Untitled.ipynb',\n",
       " 'aimltroubleshooting',\n",
       " 'kuberspatiotemporal_submodule',\n",
       " 'pyproject.toml',\n",
       " 'tests',\n",
       " '.ipynb_checkpoints',\n",
       " 'poetry.lock',\n",
       " 'README.rst',\n",
       " '.git',\n",
       " '.vscode']"
      ]
     },
     "execution_count": 3,
     "metadata": {},
     "output_type": "execute_result"
    }
   ],
   "source": [
    "import os\n",
    "os.listdir()"
   ]
  },
  {
   "cell_type": "code",
   "execution_count": 6,
   "id": "ba384d80",
   "metadata": {},
   "outputs": [
    {
     "ename": "ImportError",
     "evalue": "cannot import name 'data_retrieval' from 'aimltroubleshooting.Tools.data_reader' (/Users/yasamansamiee/Documents/Acceptto_Repos/aiml_troubleshooting/aiml_troubleshooting/aimltroubleshooting/Tools/data_reader.py)",
     "output_type": "error",
     "traceback": [
      "\u001b[0;31m--------------------------------------------------------------------\u001b[0m",
      "\u001b[0;31mImportError\u001b[0m                        Traceback (most recent call last)",
      "\u001b[0;32m<ipython-input-6-ffd379d40a98>\u001b[0m in \u001b[0;36m<module>\u001b[0;34m\u001b[0m\n\u001b[1;32m      1\u001b[0m \u001b[0;31m#read_data\u001b[0m\u001b[0;34m\u001b[0m\u001b[0;34m\u001b[0m\u001b[0;34m\u001b[0m\u001b[0m\n\u001b[1;32m      2\u001b[0m \u001b[0;32mfrom\u001b[0m \u001b[0maimltroubleshooting\u001b[0m\u001b[0;34m.\u001b[0m\u001b[0mTraining\u001b[0m \u001b[0;32mimport\u001b[0m \u001b[0mTrain\u001b[0m\u001b[0;34m\u001b[0m\u001b[0;34m\u001b[0m\u001b[0m\n\u001b[0;32m----> 3\u001b[0;31m \u001b[0;32mfrom\u001b[0m \u001b[0maimltroubleshooting\u001b[0m\u001b[0;34m.\u001b[0m\u001b[0mTools\u001b[0m\u001b[0;34m.\u001b[0m\u001b[0mdata_reader\u001b[0m \u001b[0;32mimport\u001b[0m \u001b[0mdata_retrieval\u001b[0m\u001b[0;34m\u001b[0m\u001b[0;34m\u001b[0m\u001b[0m\n\u001b[0m",
      "\u001b[0;31mImportError\u001b[0m: cannot import name 'data_retrieval' from 'aimltroubleshooting.Tools.data_reader' (/Users/yasamansamiee/Documents/Acceptto_Repos/aiml_troubleshooting/aiml_troubleshooting/aimltroubleshooting/Tools/data_reader.py)"
     ]
    }
   ],
   "source": [
    "#read_data\n",
    "from aimltroubleshooting.Training import Train\n",
    "from aimltroubleshooting.Tools.data_reader import data_retrieval"
   ]
  },
  {
   "cell_type": "code",
   "execution_count": 14,
   "id": "892c8b2b",
   "metadata": {},
   "outputs": [
    {
     "data": {
      "text/plain": [
       "<module 'aimltroubleshooting.Training' from '/Users/yasamansamiee/Documents/Acceptto_Repos/aiml_troubleshooting/aiml_troubleshooting/aimltroubleshooting/Training.py'>"
      ]
     },
     "execution_count": 14,
     "metadata": {},
     "output_type": "execute_result"
    }
   ],
   "source": [
    "Training"
   ]
  },
  {
   "cell_type": "code",
   "execution_count": 10,
   "id": "6fe328dd",
   "metadata": {},
   "outputs": [
    {
     "ename": "NameError",
     "evalue": "name 'Train' is not defined",
     "output_type": "error",
     "traceback": [
      "\u001b[0;31m---------------------------------------------------------------------------\u001b[0m",
      "\u001b[0;31mNameError\u001b[0m                                 Traceback (most recent call last)",
      "\u001b[0;32m/var/folders/6c/wh2s7b052hqdc6d0gwbtj3zc0000gn/T/ipykernel_50264/324960269.py\u001b[0m in \u001b[0;36m<module>\u001b[0;34m\u001b[0m\n\u001b[0;32m----> 1\u001b[0;31m \u001b[0mt\u001b[0m \u001b[0;34m=\u001b[0m \u001b[0mTrain\u001b[0m\u001b[0;34m(\u001b[0m\u001b[0;36m270\u001b[0m\u001b[0;34m,\u001b[0m \u001b[0;36m10501\u001b[0m\u001b[0;34m)\u001b[0m\u001b[0;34m\u001b[0m\u001b[0;34m\u001b[0m\u001b[0m\n\u001b[0m\u001b[1;32m      2\u001b[0m \u001b[0mpipeline_state\u001b[0m \u001b[0;34m=\u001b[0m \u001b[0mt\u001b[0m\u001b[0;34m.\u001b[0m\u001b[0mtrain_model\u001b[0m\u001b[0;34m(\u001b[0m\u001b[0muba_data\u001b[0m\u001b[0;34m)\u001b[0m\u001b[0;34m\u001b[0m\u001b[0;34m\u001b[0m\u001b[0m\n",
      "\u001b[0;31mNameError\u001b[0m: name 'Train' is not defined"
     ]
    }
   ],
   "source": [
    "t = Train(270, 10501)\n",
    "pipeline_state = t.train_model(uba_data)"
   ]
  },
  {
   "cell_type": "code",
   "execution_count": 4,
   "id": "df6bb975",
   "metadata": {},
   "outputs": [
    {
     "ename": "NameError",
     "evalue": "name 'data_retrieveal' is not defined",
     "output_type": "error",
     "traceback": [
      "\u001b[0;31m--------------------------------------------------------------------\u001b[0m",
      "\u001b[0;31mNameError\u001b[0m                          Traceback (most recent call last)",
      "\u001b[0;32m<ipython-input-4-479af5225422>\u001b[0m in \u001b[0;36m<module>\u001b[0;34m\u001b[0m\n\u001b[0;32m----> 1\u001b[0;31m \u001b[0mdata\u001b[0m \u001b[0;34m=\u001b[0m \u001b[0mdata_retrieveal\u001b[0m\u001b[0;34m(\u001b[0m\u001b[0;34m)\u001b[0m\u001b[0;34m\u001b[0m\u001b[0;34m\u001b[0m\u001b[0m\n\u001b[0m",
      "\u001b[0;31mNameError\u001b[0m: name 'data_retrieveal' is not defined"
     ]
    }
   ],
   "source": [
    "data = data_retrieveal()"
   ]
  }
 ],
 "metadata": {
  "kernelspec": {
   "display_name": "Python 3",
   "language": "python",
   "name": "python3"
  },
  "language_info": {
   "codemirror_mode": {
    "name": "ipython",
    "version": 3
   },
   "file_extension": ".py",
   "mimetype": "text/x-python",
   "name": "python",
   "nbconvert_exporter": "python",
   "pygments_lexer": "ipython3",
   "version": "3.7.11"
  }
 },
 "nbformat": 4,
 "nbformat_minor": 5
}
