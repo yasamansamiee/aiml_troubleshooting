{
 "cells": [
  {
   "cell_type": "code",
   "execution_count": 79,
   "id": "70e92c8c",
   "metadata": {},
   "outputs": [
    {
     "name": "stdout",
     "output_type": "stream",
     "text": [
      "The autoreload extension is already loaded. To reload it, use:\n",
      "  %reload_ext autoreload\n"
     ]
    },
    {
     "name": "stderr",
     "output_type": "stream",
     "text": [
      "[autoreload of Tools.data_reader failed: Traceback (most recent call last):\n",
      "  File \"/Users/yasamansamiee/Library/Caches/pypoetry/virtualenvs/aiml-troubleshooting-CwelzG4J-py3.7/lib/python3.7/site-packages/IPython/extensions/autoreload.py\", line 245, in check\n",
      "    superreload(m, reload, self.old_objects)\n",
      "  File \"/Users/yasamansamiee/Library/Caches/pypoetry/virtualenvs/aiml-troubleshooting-CwelzG4J-py3.7/lib/python3.7/site-packages/IPython/extensions/autoreload.py\", line 410, in superreload\n",
      "    update_generic(old_obj, new_obj)\n",
      "  File \"/Users/yasamansamiee/Library/Caches/pypoetry/virtualenvs/aiml-troubleshooting-CwelzG4J-py3.7/lib/python3.7/site-packages/IPython/extensions/autoreload.py\", line 347, in update_generic\n",
      "    update(a, b)\n",
      "  File \"/Users/yasamansamiee/Library/Caches/pypoetry/virtualenvs/aiml-troubleshooting-CwelzG4J-py3.7/lib/python3.7/site-packages/IPython/extensions/autoreload.py\", line 317, in update_class\n",
      "    update_instances(old, new)\n",
      "  File \"/Users/yasamansamiee/Library/Caches/pypoetry/virtualenvs/aiml-troubleshooting-CwelzG4J-py3.7/lib/python3.7/site-packages/IPython/extensions/autoreload.py\", line 280, in update_instances\n",
      "    ref.__class__ = new\n",
      "  File \"pydantic/main.py\", line 422, in pydantic.main.BaseModel.__setattr__\n",
      "ValueError: \"HandlerSettings\" object has no field \"__class__\"\n",
      "]\n"
     ]
    }
   ],
   "source": [
    "from Training import Train\n",
    "#read_data\n",
    "\n",
    "from Tools.data_reader import Data\n",
    "from Tools.data_cleaning import Cleaning\n",
    "\n",
    "%load_ext autoreload\n",
    "%autoreload 2"
   ]
  },
  {
   "cell_type": "code",
   "execution_count": 84,
   "id": "0be476ec",
   "metadata": {},
   "outputs": [
    {
     "data": {
      "text/plain": [
       "100"
      ]
     },
     "execution_count": 84,
     "metadata": {},
     "output_type": "execute_result"
    }
   ],
   "source": [
    "len(clean.data)"
   ]
  },
  {
   "cell_type": "code",
   "execution_count": 42,
   "id": "6a95a7b5",
   "metadata": {},
   "outputs": [
    {
     "data": {
      "text/plain": [
       "['data_eguardian_dbfp_payload_struct_hash1', 'data_dbfp_hash_hash1']"
      ]
     },
     "execution_count": 42,
     "metadata": {},
     "output_type": "execute_result"
    }
   ],
   "source": [
    "[cc[i] for i in range(len(cc)) if \"hash1\" in cc[i]]"
   ]
  },
  {
   "cell_type": "code",
   "execution_count": 43,
   "id": "6b3faa10",
   "metadata": {},
   "outputs": [],
   "source": [
    "clean.data.dropna(\n",
    "        subset=[\"data_eguardian_dbfp_payload_struct_hash1\", \"event_time\"], inplace=True)"
   ]
  },
  {
   "cell_type": "code",
   "execution_count": 71,
   "id": "5f43e54f",
   "metadata": {},
   "outputs": [],
   "source": [
    "clean.data = clean.data.dropna(\n",
    "subset=[\n",
    "     \"data_eguardian_dbfp_payload_struct_hash1\", \"event_time\"]\n",
    ")"
   ]
  },
  {
   "cell_type": "code",
   "execution_count": 80,
   "id": "4aa4f342",
   "metadata": {},
   "outputs": [
    {
     "name": "stdout",
     "output_type": "stream",
     "text": [
      "['data_eguardian_dbfp_payload_struct_hash1', 'data_dbfp_hash_hash1']\n"
     ]
    }
   ],
   "source": [
    "#inst = Data()\n",
    "clean = Cleaning()"
   ]
  },
  {
   "cell_type": "code",
   "execution_count": 81,
   "id": "c86852ac",
   "metadata": {},
   "outputs": [],
   "source": [
    "t = Train(270, 10501)\n",
    "\n",
    "pipeline_state = t.train_model(clean.data)"
   ]
  },
  {
   "cell_type": "code",
   "execution_count": 82,
   "id": "5667f4db",
   "metadata": {},
   "outputs": [
    {
     "name": "stdout",
     "output_type": "stream",
     "text": [
      "None\n"
     ]
    }
   ],
   "source": [
    "print(pipeline_state.metrics_approved)"
   ]
  }
 ],
 "metadata": {
  "kernelspec": {
   "display_name": "Python 3",
   "language": "python",
   "name": "python3"
  },
  "language_info": {
   "codemirror_mode": {
    "name": "ipython",
    "version": 3
   },
   "file_extension": ".py",
   "mimetype": "text/x-python",
   "name": "python",
   "nbconvert_exporter": "python",
   "pygments_lexer": "ipython3",
   "version": "3.7.11"
  }
 },
 "nbformat": 4,
 "nbformat_minor": 5
}
