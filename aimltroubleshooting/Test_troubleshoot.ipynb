{
 "cells": [
  {
   "cell_type": "code",
   "execution_count": 1,
   "id": "70e92c8c",
   "metadata": {},
   "outputs": [],
   "source": [
    "from Training import Train\n",
    "#read_data\n",
    "\n",
    "from Tools.data_reader import Data\n",
    "from Tools.data_cleaning import Cleaning\n",
    "\n",
    "%load_ext autoreload\n",
    "%autoreload 2"
   ]
  },
  {
   "cell_type": "code",
   "execution_count": 42,
   "id": "9a55767e",
   "metadata": {},
   "outputs": [
    {
     "data": {
      "text/plain": [
       "['data_eguardian_dbfp_payload_struct_hash1', 'data_dbfp_hash_hash1']"
      ]
     },
     "execution_count": 42,
     "metadata": {},
     "output_type": "execute_result"
    }
   ],
   "source": [
    "[cc[i] for i in range(len(cc)) if \"hash1\" in cc[i]]"
   ]
  },
  {
   "cell_type": "code",
   "execution_count": 2,
   "id": "4aa4f342",
   "metadata": {},
   "outputs": [
    {
     "name": "stdout",
     "output_type": "stream",
     "text": [
      "['data_eguardian_dbfp_payload_struct_hash1', 'data_dbfp_hash_hash1']\n"
     ]
    }
   ],
   "source": [
    "#inst = Data()\n",
    "clean = Cleaning()"
   ]
  },
  {
   "cell_type": "code",
   "execution_count": 3,
   "id": "67aab776",
   "metadata": {},
   "outputs": [
    {
     "data": {
      "text/plain": [
       "18100"
      ]
     },
     "execution_count": 3,
     "metadata": {},
     "output_type": "execute_result"
    }
   ],
   "source": [
    "len(clean.data)"
   ]
  },
  {
   "cell_type": "code",
   "execution_count": 4,
   "id": "c86852ac",
   "metadata": {},
   "outputs": [
    {
     "name": "stderr",
     "output_type": "stream",
     "text": [
      "/Users/yasamansamiee/Documents/Acceptto_Repos/aiml_troubleshooting/aiml_troubleshooting/kuberspatiotemporal/tools/data.py:57: SettingWithCopyWarning: \n",
      "A value is trying to be set on a copy of a slice from a DataFrame\n",
      "\n",
      "See the caveats in the documentation: https://pandas.pydata.org/pandas-docs/stable/user_guide/indexing.html#returning-a-view-versus-a-copy\n",
      "  col.dropna(inplace=True)\n",
      "/Users/yasamansamiee/Documents/Acceptto_Repos/aiml_troubleshooting/aiml_troubleshooting/kuberspatiotemporal/tools/data.py:221: FutureWarning: Support for multi-dimensional indexing (e.g. `obj[:, None]`) is deprecated and will be removed in a future version.  Convert to a numpy array before indexing instead.\n",
      "  X = X[:, np.newaxis]\n",
      "[INFO|kuberspatiotemporal.kuber|initialize:54] kuber initialize\n",
      "[INFO|kuberspatiotemporal.kuber|initialize:54] kuber initialize\n",
      "[INFO|kuberspatiotemporal.lazy_compound|fit:85] Lazy batch learning on 51<100 samples\n",
      "/Users/yasamansamiee/Library/Caches/pypoetry/virtualenvs/aiml-troubleshooting-CwelzG4J-py3.7/lib/python3.7/site-packages/sklearn/compose/_column_transformer.py:430: FutureWarning: Given feature/column names or counts do not match the ones for the data given during fit. This will fail from v0.24.\n",
      "  FutureWarning)\n",
      "/Users/yasamansamiee/Documents/Acceptto_Repos/aiml_troubleshooting/aiml_troubleshooting/kuberspatiotemporal/tools/data.py:252: FutureWarning: Support for multi-dimensional indexing (e.g. `obj[:, None]`) is deprecated and will be removed in a future version.  Convert to a numpy array before indexing instead.\n",
      "  X = X[:, np.newaxis]\n",
      "[DEBUG|kuberspatiotemporal.spatial|expect:143] (100, 1)\n",
      "[DEBUG|kuberspatiotemporal.spatial|expect:143] (100, 1)\n",
      "[DEBUG|kuberspatiotemporal.spatial|expect:143] (100, 1)\n",
      "[DEBUG|kuberspatiotemporal.spatial|expect:143] (100, 1)\n",
      "[DEBUG|kuberspatiotemporal.spatial|expect:143] (100, 1)\n",
      "[DEBUG|kuberspatiotemporal.spatial|expect:143] (100, 1)\n",
      "[DEBUG|kuberspatiotemporal.spatial|expect:143] (100, 1)\n",
      "[DEBUG|kuberspatiotemporal.spatial|expect:143] (100, 1)\n",
      "[DEBUG|kuberspatiotemporal.spatial|expect:143] (100, 1)\n",
      "[DEBUG|kuberspatiotemporal.spatial|expect:143] (100, 1)\n"
     ]
    },
    {
     "name": "stdout",
     "output_type": "stream",
     "text": [
      "fs.categorical_features ['weekday' 'data_eguardian_dbfp_payload_struct_hash1']\n",
      "fs.numerical_features []\n",
      "fs.time_feature ['event_time']\n"
     ]
    },
    {
     "name": "stderr",
     "output_type": "stream",
     "text": [
      "[DEBUG|kuberspatiotemporal.spatial|expect:143] (100, 1)\n",
      "[DEBUG|kuberspatiotemporal.spatial|expect:143] (100, 1)\n",
      "[DEBUG|kuberspatiotemporal.spatial|expect:143] (100, 1)\n",
      "[DEBUG|kuberspatiotemporal.spatial|expect:143] (100, 1)\n",
      "[DEBUG|kuberspatiotemporal.spatial|expect:143] (100, 1)\n",
      "[DEBUG|kuberspatiotemporal.spatial|expect:143] (100, 1)\n",
      "[DEBUG|kuberspatiotemporal.spatial|expect:143] (100, 1)\n",
      "[DEBUG|kuberspatiotemporal.spatial|expect:143] (100, 1)\n",
      "[DEBUG|kuberspatiotemporal.spatial|expect:143] (100, 1)\n",
      "[DEBUG|kuberspatiotemporal.spatial|expect:143] (100, 1)\n",
      "[DEBUG|kuberspatiotemporal.spatial|expect:143] (100, 1)\n",
      "[DEBUG|kuberspatiotemporal.spatial|expect:143] (100, 1)\n",
      "[DEBUG|kuberspatiotemporal.spatial|expect:143] (100, 1)\n",
      "[DEBUG|kuberspatiotemporal.spatial|expect:143] (100, 1)\n",
      "[DEBUG|kuberspatiotemporal.spatial|expect:143] (100, 1)\n",
      "[DEBUG|kuberspatiotemporal.spatial|expect:143] (100, 1)\n",
      "[DEBUG|kuberspatiotemporal.spatial|expect:143] (100, 1)\n",
      "[DEBUG|kuberspatiotemporal.spatial|expect:143] (100, 1)\n",
      "[DEBUG|kuberspatiotemporal.spatial|expect:143] (100, 1)\n",
      "[DEBUG|kuberspatiotemporal.spatial|expect:143] (100, 1)\n",
      "[DEBUG|kuberspatiotemporal.spatial|expect:143] (100, 1)\n",
      "[DEBUG|kuberspatiotemporal.spatial|expect:143] (100, 1)\n",
      "[DEBUG|kuberspatiotemporal.spatial|expect:143] (100, 1)\n",
      "[DEBUG|kuberspatiotemporal.spatial|expect:143] (100, 1)\n",
      "[DEBUG|kuberspatiotemporal.spatial|expect:143] (100, 1)\n",
      "[DEBUG|kuberspatiotemporal.spatial|expect:143] (100, 1)\n",
      "[DEBUG|kuberspatiotemporal.spatial|expect:143] (100, 1)\n",
      "[DEBUG|kuberspatiotemporal.spatial|expect:143] (100, 1)\n"
     ]
    }
   ],
   "source": [
    "t = Train(270, 10501)\n",
    "\n",
    "pipeline_state = t.train_model(clean.data)"
   ]
  },
  {
   "cell_type": "code",
   "execution_count": 5,
   "id": "cfd3f188",
   "metadata": {},
   "outputs": [
    {
     "name": "stdout",
     "output_type": "stream",
     "text": [
      "{'accuracy': 0.9473684210526315, 'precision': 1.0, 'recall': 0.8947368421052632, 'specificity': 1.0, 'f1_score': 0.9444444444444444}\n"
     ]
    }
   ],
   "source": [
    "print(pipeline_state.metrics_approved)"
   ]
  }
 ],
 "metadata": {
  "kernelspec": {
   "display_name": "Python 3",
   "language": "python",
   "name": "python3"
  },
  "language_info": {
   "codemirror_mode": {
    "name": "ipython",
    "version": 3
   },
   "file_extension": ".py",
   "mimetype": "text/x-python",
   "name": "python",
   "nbconvert_exporter": "python",
   "pygments_lexer": "ipython3",
   "version": "3.7.11"
  }
 },
 "nbformat": 4,
 "nbformat_minor": 5
}
